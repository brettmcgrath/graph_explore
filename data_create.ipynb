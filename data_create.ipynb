{
 "cells": [
  {
   "cell_type": "markdown",
   "metadata": {},
   "source": [
    "<h1>EDA and graph construction</h1>"
   ]
  },
  {
   "cell_type": "code",
   "execution_count": 1,
   "metadata": {},
   "outputs": [
    {
     "name": "stderr",
     "output_type": "stream",
     "text": [
      "C:\\Users\\Athos\\Anaconda3\\lib\\site-packages\\gensim\\similarities\\__init__.py:15: UserWarning: The gensim.similarities.levenshtein submodule is disabled, because the optional Levenshtein package <https://pypi.org/project/python-Levenshtein/> is unavailable. Install Levenhstein (e.g. `pip install python-Levenshtein`) to suppress this warning.\n",
      "  warnings.warn(msg)\n"
     ]
    }
   ],
   "source": [
    "import pandas as pd\n",
    "import numpy as np\n",
    "from datetime import datetime\n",
    "import networkx as nx\n",
    "from networkx.convert_matrix import from_pandas_edgelist\n",
    "from networkx import DiGraph, Graph\n",
    "from networkx.drawing.nx_pylab import draw_networkx_nodes\n",
    "from networkx.algorithms.link_analysis.pagerank_alg import pagerank\n",
    "import matplotlib.pyplot as plt\n",
    "from networkx.algorithms.link_analysis.hits_alg import hits\n",
    "from karateclub import Diff2Vec, DeepWalk"
   ]
  },
  {
   "cell_type": "code",
   "execution_count": 2,
   "metadata": {},
   "outputs": [
    {
     "name": "stdout",
     "output_type": "stream",
     "text": [
      "2021-07-05 12:18:26.658015\n"
     ]
    }
   ],
   "source": [
    "start = datetime.now()\n",
    "print(start)"
   ]
  },
  {
   "cell_type": "markdown",
   "metadata": {},
   "source": [
    "Read in data for November 2019. We will sample this down further later on."
   ]
  },
  {
   "cell_type": "code",
   "execution_count": 3,
   "metadata": {},
   "outputs": [],
   "source": [
    "df = pd.read_csv('./archive/2019-Nov.csv')"
   ]
  },
  {
   "cell_type": "code",
   "execution_count": 4,
   "metadata": {},
   "outputs": [
    {
     "data": {
      "text/html": [
       "<div>\n",
       "<style scoped>\n",
       "    .dataframe tbody tr th:only-of-type {\n",
       "        vertical-align: middle;\n",
       "    }\n",
       "\n",
       "    .dataframe tbody tr th {\n",
       "        vertical-align: top;\n",
       "    }\n",
       "\n",
       "    .dataframe thead th {\n",
       "        text-align: right;\n",
       "    }\n",
       "</style>\n",
       "<table border=\"1\" class=\"dataframe\">\n",
       "  <thead>\n",
       "    <tr style=\"text-align: right;\">\n",
       "      <th></th>\n",
       "      <th>event_time</th>\n",
       "      <th>event_type</th>\n",
       "      <th>product_id</th>\n",
       "      <th>category_id</th>\n",
       "      <th>category_code</th>\n",
       "      <th>brand</th>\n",
       "      <th>price</th>\n",
       "      <th>user_id</th>\n",
       "      <th>user_session</th>\n",
       "    </tr>\n",
       "  </thead>\n",
       "  <tbody>\n",
       "    <tr>\n",
       "      <th>0</th>\n",
       "      <td>2019-11-01 00:00:00 UTC</td>\n",
       "      <td>view</td>\n",
       "      <td>1003461</td>\n",
       "      <td>2053013555631882655</td>\n",
       "      <td>electronics.smartphone</td>\n",
       "      <td>xiaomi</td>\n",
       "      <td>489.07</td>\n",
       "      <td>520088904</td>\n",
       "      <td>4d3b30da-a5e4-49df-b1a8-ba5943f1dd33</td>\n",
       "    </tr>\n",
       "    <tr>\n",
       "      <th>1</th>\n",
       "      <td>2019-11-01 00:00:00 UTC</td>\n",
       "      <td>view</td>\n",
       "      <td>5000088</td>\n",
       "      <td>2053013566100866035</td>\n",
       "      <td>appliances.sewing_machine</td>\n",
       "      <td>janome</td>\n",
       "      <td>293.65</td>\n",
       "      <td>530496790</td>\n",
       "      <td>8e5f4f83-366c-4f70-860e-ca7417414283</td>\n",
       "    </tr>\n",
       "    <tr>\n",
       "      <th>2</th>\n",
       "      <td>2019-11-01 00:00:01 UTC</td>\n",
       "      <td>view</td>\n",
       "      <td>17302664</td>\n",
       "      <td>2053013553853497655</td>\n",
       "      <td>NaN</td>\n",
       "      <td>creed</td>\n",
       "      <td>28.31</td>\n",
       "      <td>561587266</td>\n",
       "      <td>755422e7-9040-477b-9bd2-6a6e8fd97387</td>\n",
       "    </tr>\n",
       "    <tr>\n",
       "      <th>3</th>\n",
       "      <td>2019-11-01 00:00:01 UTC</td>\n",
       "      <td>view</td>\n",
       "      <td>3601530</td>\n",
       "      <td>2053013563810775923</td>\n",
       "      <td>appliances.kitchen.washer</td>\n",
       "      <td>lg</td>\n",
       "      <td>712.87</td>\n",
       "      <td>518085591</td>\n",
       "      <td>3bfb58cd-7892-48cc-8020-2f17e6de6e7f</td>\n",
       "    </tr>\n",
       "    <tr>\n",
       "      <th>4</th>\n",
       "      <td>2019-11-01 00:00:01 UTC</td>\n",
       "      <td>view</td>\n",
       "      <td>1004775</td>\n",
       "      <td>2053013555631882655</td>\n",
       "      <td>electronics.smartphone</td>\n",
       "      <td>xiaomi</td>\n",
       "      <td>183.27</td>\n",
       "      <td>558856683</td>\n",
       "      <td>313628f1-68b8-460d-84f6-cec7a8796ef2</td>\n",
       "    </tr>\n",
       "  </tbody>\n",
       "</table>\n",
       "</div>"
      ],
      "text/plain": [
       "                event_time event_type  product_id          category_id  \\\n",
       "0  2019-11-01 00:00:00 UTC       view     1003461  2053013555631882655   \n",
       "1  2019-11-01 00:00:00 UTC       view     5000088  2053013566100866035   \n",
       "2  2019-11-01 00:00:01 UTC       view    17302664  2053013553853497655   \n",
       "3  2019-11-01 00:00:01 UTC       view     3601530  2053013563810775923   \n",
       "4  2019-11-01 00:00:01 UTC       view     1004775  2053013555631882655   \n",
       "\n",
       "               category_code   brand   price    user_id  \\\n",
       "0     electronics.smartphone  xiaomi  489.07  520088904   \n",
       "1  appliances.sewing_machine  janome  293.65  530496790   \n",
       "2                        NaN   creed   28.31  561587266   \n",
       "3  appliances.kitchen.washer      lg  712.87  518085591   \n",
       "4     electronics.smartphone  xiaomi  183.27  558856683   \n",
       "\n",
       "                           user_session  \n",
       "0  4d3b30da-a5e4-49df-b1a8-ba5943f1dd33  \n",
       "1  8e5f4f83-366c-4f70-860e-ca7417414283  \n",
       "2  755422e7-9040-477b-9bd2-6a6e8fd97387  \n",
       "3  3bfb58cd-7892-48cc-8020-2f17e6de6e7f  \n",
       "4  313628f1-68b8-460d-84f6-cec7a8796ef2  "
      ]
     },
     "execution_count": 4,
     "metadata": {},
     "output_type": "execute_result"
    }
   ],
   "source": [
    "df.head()"
   ]
  },
  {
   "cell_type": "code",
   "execution_count": 5,
   "metadata": {},
   "outputs": [
    {
     "data": {
      "text/plain": [
       "607517811"
      ]
     },
     "execution_count": 5,
     "metadata": {},
     "output_type": "execute_result"
    }
   ],
   "source": [
    "df.size"
   ]
  },
  {
   "cell_type": "code",
   "execution_count": 6,
   "metadata": {},
   "outputs": [
    {
     "data": {
      "text/plain": [
       "606613140"
      ]
     },
     "execution_count": 6,
     "metadata": {},
     "output_type": "execute_result"
    }
   ],
   "source": [
    "df.drop_duplicates().size"
   ]
  },
  {
   "cell_type": "code",
   "execution_count": 7,
   "metadata": {},
   "outputs": [],
   "source": [
    "df = df.drop_duplicates()"
   ]
  },
  {
   "cell_type": "code",
   "execution_count": 8,
   "metadata": {},
   "outputs": [
    {
     "data": {
      "text/plain": [
       "event_time       67401460\n",
       "event_type       67401460\n",
       "product_id       67401460\n",
       "category_id      67401460\n",
       "category_code    45530037\n",
       "brand            58186451\n",
       "price            67401460\n",
       "user_id          67401460\n",
       "user_session     67401450\n",
       "dtype: int64"
      ]
     },
     "execution_count": 8,
     "metadata": {},
     "output_type": "execute_result"
    }
   ],
   "source": [
    "df.count()"
   ]
  },
  {
   "cell_type": "code",
   "execution_count": 9,
   "metadata": {},
   "outputs": [
    {
     "data": {
      "text/html": [
       "<div>\n",
       "<style scoped>\n",
       "    .dataframe tbody tr th:only-of-type {\n",
       "        vertical-align: middle;\n",
       "    }\n",
       "\n",
       "    .dataframe tbody tr th {\n",
       "        vertical-align: top;\n",
       "    }\n",
       "\n",
       "    .dataframe thead th {\n",
       "        text-align: right;\n",
       "    }\n",
       "</style>\n",
       "<table border=\"1\" class=\"dataframe\">\n",
       "  <thead>\n",
       "    <tr style=\"text-align: right;\">\n",
       "      <th></th>\n",
       "      <th>product_id</th>\n",
       "      <th>category_id</th>\n",
       "      <th>price</th>\n",
       "      <th>user_id</th>\n",
       "    </tr>\n",
       "  </thead>\n",
       "  <tbody>\n",
       "    <tr>\n",
       "      <th>count</th>\n",
       "      <td>6.740146e+07</td>\n",
       "      <td>6.740146e+07</td>\n",
       "      <td>6.740146e+07</td>\n",
       "      <td>6.740146e+07</td>\n",
       "    </tr>\n",
       "    <tr>\n",
       "      <th>mean</th>\n",
       "      <td>1.252092e+07</td>\n",
       "      <td>2.057901e+18</td>\n",
       "      <td>2.924819e+02</td>\n",
       "      <td>5.386307e+08</td>\n",
       "    </tr>\n",
       "    <tr>\n",
       "      <th>std</th>\n",
       "      <td>1.726199e+07</td>\n",
       "      <td>2.013233e+16</td>\n",
       "      <td>3.557358e+02</td>\n",
       "      <td>2.288443e+07</td>\n",
       "    </tr>\n",
       "    <tr>\n",
       "      <th>min</th>\n",
       "      <td>1.000365e+06</td>\n",
       "      <td>2.053014e+18</td>\n",
       "      <td>0.000000e+00</td>\n",
       "      <td>1.030022e+07</td>\n",
       "    </tr>\n",
       "    <tr>\n",
       "      <th>25%</th>\n",
       "      <td>1.305996e+06</td>\n",
       "      <td>2.053014e+18</td>\n",
       "      <td>6.924000e+01</td>\n",
       "      <td>5.164735e+08</td>\n",
       "    </tr>\n",
       "    <tr>\n",
       "      <th>50%</th>\n",
       "      <td>5.100571e+06</td>\n",
       "      <td>2.053014e+18</td>\n",
       "      <td>1.657700e+02</td>\n",
       "      <td>5.350394e+08</td>\n",
       "    </tr>\n",
       "    <tr>\n",
       "      <th>75%</th>\n",
       "      <td>1.730076e+07</td>\n",
       "      <td>2.053014e+18</td>\n",
       "      <td>3.603400e+02</td>\n",
       "      <td>5.610686e+08</td>\n",
       "    </tr>\n",
       "    <tr>\n",
       "      <th>max</th>\n",
       "      <td>1.000286e+08</td>\n",
       "      <td>2.187708e+18</td>\n",
       "      <td>2.574070e+03</td>\n",
       "      <td>5.799699e+08</td>\n",
       "    </tr>\n",
       "  </tbody>\n",
       "</table>\n",
       "</div>"
      ],
      "text/plain": [
       "         product_id   category_id         price       user_id\n",
       "count  6.740146e+07  6.740146e+07  6.740146e+07  6.740146e+07\n",
       "mean   1.252092e+07  2.057901e+18  2.924819e+02  5.386307e+08\n",
       "std    1.726199e+07  2.013233e+16  3.557358e+02  2.288443e+07\n",
       "min    1.000365e+06  2.053014e+18  0.000000e+00  1.030022e+07\n",
       "25%    1.305996e+06  2.053014e+18  6.924000e+01  5.164735e+08\n",
       "50%    5.100571e+06  2.053014e+18  1.657700e+02  5.350394e+08\n",
       "75%    1.730076e+07  2.053014e+18  3.603400e+02  5.610686e+08\n",
       "max    1.000286e+08  2.187708e+18  2.574070e+03  5.799699e+08"
      ]
     },
     "execution_count": 9,
     "metadata": {},
     "output_type": "execute_result"
    }
   ],
   "source": [
    "df.describe()"
   ]
  },
  {
   "cell_type": "code",
   "execution_count": 10,
   "metadata": {},
   "outputs": [
    {
     "name": "stdout",
     "output_type": "stream",
     "text": [
      "<class 'pandas.core.frame.DataFrame'>\n",
      "Int64Index: 67401460 entries, 0 to 67501978\n",
      "Data columns (total 9 columns):\n",
      " #   Column         Dtype  \n",
      "---  ------         -----  \n",
      " 0   event_time     object \n",
      " 1   event_type     object \n",
      " 2   product_id     int64  \n",
      " 3   category_id    int64  \n",
      " 4   category_code  object \n",
      " 5   brand          object \n",
      " 6   price          float64\n",
      " 7   user_id        int64  \n",
      " 8   user_session   object \n",
      "dtypes: float64(1), int64(3), object(5)\n",
      "memory usage: 5.0+ GB\n"
     ]
    }
   ],
   "source": [
    "df.info()"
   ]
  },
  {
   "cell_type": "markdown",
   "metadata": {},
   "source": [
    "Drop null values and split category code into high-level and lower-leval category codes for use as node attributes"
   ]
  },
  {
   "cell_type": "code",
   "execution_count": 11,
   "metadata": {},
   "outputs": [],
   "source": [
    "df = df.dropna()"
   ]
  },
  {
   "cell_type": "code",
   "execution_count": 12,
   "metadata": {},
   "outputs": [],
   "source": [
    "def split_on_dot(stringy):\n",
    "    return stringy.split('.')\n",
    "\n",
    "df['event_time'] = pd.to_datetime(df['event_time'])\n",
    "df['h_lvl'] = df['category_code'].apply(lambda x: split_on_dot(x)[0])\n",
    "df['l_lvl'] = df['category_code'].apply(lambda x: split_on_dot(x)[1])"
   ]
  },
  {
   "cell_type": "code",
   "execution_count": 13,
   "metadata": {},
   "outputs": [
    {
     "data": {
      "text/plain": [
       "(42018766, 11)"
      ]
     },
     "execution_count": 13,
     "metadata": {},
     "output_type": "execute_result"
    }
   ],
   "source": [
    "df.shape"
   ]
  },
  {
   "cell_type": "code",
   "execution_count": 14,
   "metadata": {},
   "outputs": [
    {
     "name": "stdout",
     "output_type": "stream",
     "text": [
      "number unique category codes: 129\n",
      "number unique high level categories: 13\n",
      "number unique brands: 1987\n",
      "number unique event types: 3\n",
      "unique event types: ['view' 'cart' 'purchase']\n",
      "unique user ids: 2862935\n",
      "unique product ids: 69773\n"
     ]
    }
   ],
   "source": [
    "print(f'number unique category codes: {df.category_code.nunique()}')\n",
    "print(f'number unique high level categories: {df.h_lvl.nunique()}')\n",
    "print(f'number unique brands: {df.brand.nunique()}')\n",
    "print(f'number unique event types: {df.event_type.nunique()}')\n",
    "print(f'unique event types: {df.event_type.unique()}')\n",
    "print(f'unique user ids: {df.user_id.nunique()}')\n",
    "print(f'unique product ids: {df.product_id.nunique()}')"
   ]
  },
  {
   "cell_type": "code",
   "execution_count": 15,
   "metadata": {},
   "outputs": [
    {
     "data": {
      "text/plain": [
       "view        39314217\n",
       "cart         2045298\n",
       "purchase      659251\n",
       "Name: event_type, dtype: int64"
      ]
     },
     "execution_count": 15,
     "metadata": {},
     "output_type": "execute_result"
    }
   ],
   "source": [
    "df['event_type'].value_counts()"
   ]
  },
  {
   "cell_type": "code",
   "execution_count": 16,
   "metadata": {},
   "outputs": [
    {
     "data": {
      "text/html": [
       "<div>\n",
       "<style scoped>\n",
       "    .dataframe tbody tr th:only-of-type {\n",
       "        vertical-align: middle;\n",
       "    }\n",
       "\n",
       "    .dataframe tbody tr th {\n",
       "        vertical-align: top;\n",
       "    }\n",
       "\n",
       "    .dataframe thead th {\n",
       "        text-align: right;\n",
       "    }\n",
       "</style>\n",
       "<table border=\"1\" class=\"dataframe\">\n",
       "  <thead>\n",
       "    <tr style=\"text-align: right;\">\n",
       "      <th></th>\n",
       "      <th>event_time</th>\n",
       "      <th>event_type</th>\n",
       "      <th>product_id</th>\n",
       "      <th>category_id</th>\n",
       "      <th>category_code</th>\n",
       "      <th>brand</th>\n",
       "      <th>price</th>\n",
       "      <th>user_id</th>\n",
       "      <th>user_session</th>\n",
       "      <th>h_lvl</th>\n",
       "      <th>l_lvl</th>\n",
       "    </tr>\n",
       "  </thead>\n",
       "  <tbody>\n",
       "    <tr>\n",
       "      <th>0</th>\n",
       "      <td>2019-11-01 00:00:00+00:00</td>\n",
       "      <td>view</td>\n",
       "      <td>1003461</td>\n",
       "      <td>2053013555631882655</td>\n",
       "      <td>electronics.smartphone</td>\n",
       "      <td>xiaomi</td>\n",
       "      <td>489.07</td>\n",
       "      <td>520088904</td>\n",
       "      <td>4d3b30da-a5e4-49df-b1a8-ba5943f1dd33</td>\n",
       "      <td>electronics</td>\n",
       "      <td>smartphone</td>\n",
       "    </tr>\n",
       "    <tr>\n",
       "      <th>95</th>\n",
       "      <td>2019-11-01 00:00:36+00:00</td>\n",
       "      <td>view</td>\n",
       "      <td>1004184</td>\n",
       "      <td>2053013555631882655</td>\n",
       "      <td>electronics.smartphone</td>\n",
       "      <td>xiaomi</td>\n",
       "      <td>463.15</td>\n",
       "      <td>520088904</td>\n",
       "      <td>4d3b30da-a5e4-49df-b1a8-ba5943f1dd33</td>\n",
       "      <td>electronics</td>\n",
       "      <td>smartphone</td>\n",
       "    </tr>\n",
       "    <tr>\n",
       "      <th>121</th>\n",
       "      <td>2019-11-01 00:00:47+00:00</td>\n",
       "      <td>view</td>\n",
       "      <td>1003461</td>\n",
       "      <td>2053013555631882655</td>\n",
       "      <td>electronics.smartphone</td>\n",
       "      <td>xiaomi</td>\n",
       "      <td>489.07</td>\n",
       "      <td>520088904</td>\n",
       "      <td>4d3b30da-a5e4-49df-b1a8-ba5943f1dd33</td>\n",
       "      <td>electronics</td>\n",
       "      <td>smartphone</td>\n",
       "    </tr>\n",
       "    <tr>\n",
       "      <th>131</th>\n",
       "      <td>2019-11-01 00:00:50+00:00</td>\n",
       "      <td>view</td>\n",
       "      <td>1005234</td>\n",
       "      <td>2053013555631882655</td>\n",
       "      <td>electronics.smartphone</td>\n",
       "      <td>xiaomi</td>\n",
       "      <td>398.72</td>\n",
       "      <td>520088904</td>\n",
       "      <td>4d3b30da-a5e4-49df-b1a8-ba5943f1dd33</td>\n",
       "      <td>electronics</td>\n",
       "      <td>smartphone</td>\n",
       "    </tr>\n",
       "    <tr>\n",
       "      <th>263</th>\n",
       "      <td>2019-11-01 00:01:48+00:00</td>\n",
       "      <td>view</td>\n",
       "      <td>1003898</td>\n",
       "      <td>2053013555631882655</td>\n",
       "      <td>electronics.smartphone</td>\n",
       "      <td>oneplus</td>\n",
       "      <td>540.30</td>\n",
       "      <td>520088904</td>\n",
       "      <td>4d3b30da-a5e4-49df-b1a8-ba5943f1dd33</td>\n",
       "      <td>electronics</td>\n",
       "      <td>smartphone</td>\n",
       "    </tr>\n",
       "    <tr>\n",
       "      <th>329</th>\n",
       "      <td>2019-11-01 00:02:17+00:00</td>\n",
       "      <td>view</td>\n",
       "      <td>1003898</td>\n",
       "      <td>2053013555631882655</td>\n",
       "      <td>electronics.smartphone</td>\n",
       "      <td>oneplus</td>\n",
       "      <td>540.30</td>\n",
       "      <td>520088904</td>\n",
       "      <td>4d3b30da-a5e4-49df-b1a8-ba5943f1dd33</td>\n",
       "      <td>electronics</td>\n",
       "      <td>smartphone</td>\n",
       "    </tr>\n",
       "    <tr>\n",
       "      <th>352</th>\n",
       "      <td>2019-11-01 00:02:24+00:00</td>\n",
       "      <td>view</td>\n",
       "      <td>1003499</td>\n",
       "      <td>2053013555631882655</td>\n",
       "      <td>electronics.smartphone</td>\n",
       "      <td>oneplus</td>\n",
       "      <td>461.61</td>\n",
       "      <td>520088904</td>\n",
       "      <td>4d3b30da-a5e4-49df-b1a8-ba5943f1dd33</td>\n",
       "      <td>electronics</td>\n",
       "      <td>smartphone</td>\n",
       "    </tr>\n",
       "    <tr>\n",
       "      <th>397</th>\n",
       "      <td>2019-11-01 00:02:41+00:00</td>\n",
       "      <td>view</td>\n",
       "      <td>1003499</td>\n",
       "      <td>2053013555631882655</td>\n",
       "      <td>electronics.smartphone</td>\n",
       "      <td>oneplus</td>\n",
       "      <td>461.61</td>\n",
       "      <td>520088904</td>\n",
       "      <td>4d3b30da-a5e4-49df-b1a8-ba5943f1dd33</td>\n",
       "      <td>electronics</td>\n",
       "      <td>smartphone</td>\n",
       "    </tr>\n",
       "    <tr>\n",
       "      <th>416</th>\n",
       "      <td>2019-11-01 00:02:48+00:00</td>\n",
       "      <td>view</td>\n",
       "      <td>1003898</td>\n",
       "      <td>2053013555631882655</td>\n",
       "      <td>electronics.smartphone</td>\n",
       "      <td>oneplus</td>\n",
       "      <td>540.30</td>\n",
       "      <td>520088904</td>\n",
       "      <td>4d3b30da-a5e4-49df-b1a8-ba5943f1dd33</td>\n",
       "      <td>electronics</td>\n",
       "      <td>smartphone</td>\n",
       "    </tr>\n",
       "  </tbody>\n",
       "</table>\n",
       "</div>"
      ],
      "text/plain": [
       "                   event_time event_type  product_id          category_id  \\\n",
       "0   2019-11-01 00:00:00+00:00       view     1003461  2053013555631882655   \n",
       "95  2019-11-01 00:00:36+00:00       view     1004184  2053013555631882655   \n",
       "121 2019-11-01 00:00:47+00:00       view     1003461  2053013555631882655   \n",
       "131 2019-11-01 00:00:50+00:00       view     1005234  2053013555631882655   \n",
       "263 2019-11-01 00:01:48+00:00       view     1003898  2053013555631882655   \n",
       "329 2019-11-01 00:02:17+00:00       view     1003898  2053013555631882655   \n",
       "352 2019-11-01 00:02:24+00:00       view     1003499  2053013555631882655   \n",
       "397 2019-11-01 00:02:41+00:00       view     1003499  2053013555631882655   \n",
       "416 2019-11-01 00:02:48+00:00       view     1003898  2053013555631882655   \n",
       "\n",
       "              category_code    brand   price    user_id  \\\n",
       "0    electronics.smartphone   xiaomi  489.07  520088904   \n",
       "95   electronics.smartphone   xiaomi  463.15  520088904   \n",
       "121  electronics.smartphone   xiaomi  489.07  520088904   \n",
       "131  electronics.smartphone   xiaomi  398.72  520088904   \n",
       "263  electronics.smartphone  oneplus  540.30  520088904   \n",
       "329  electronics.smartphone  oneplus  540.30  520088904   \n",
       "352  electronics.smartphone  oneplus  461.61  520088904   \n",
       "397  electronics.smartphone  oneplus  461.61  520088904   \n",
       "416  electronics.smartphone  oneplus  540.30  520088904   \n",
       "\n",
       "                             user_session        h_lvl       l_lvl  \n",
       "0    4d3b30da-a5e4-49df-b1a8-ba5943f1dd33  electronics  smartphone  \n",
       "95   4d3b30da-a5e4-49df-b1a8-ba5943f1dd33  electronics  smartphone  \n",
       "121  4d3b30da-a5e4-49df-b1a8-ba5943f1dd33  electronics  smartphone  \n",
       "131  4d3b30da-a5e4-49df-b1a8-ba5943f1dd33  electronics  smartphone  \n",
       "263  4d3b30da-a5e4-49df-b1a8-ba5943f1dd33  electronics  smartphone  \n",
       "329  4d3b30da-a5e4-49df-b1a8-ba5943f1dd33  electronics  smartphone  \n",
       "352  4d3b30da-a5e4-49df-b1a8-ba5943f1dd33  electronics  smartphone  \n",
       "397  4d3b30da-a5e4-49df-b1a8-ba5943f1dd33  electronics  smartphone  \n",
       "416  4d3b30da-a5e4-49df-b1a8-ba5943f1dd33  electronics  smartphone  "
      ]
     },
     "execution_count": 16,
     "metadata": {},
     "output_type": "execute_result"
    }
   ],
   "source": [
    "df[df['user_session'] == '4d3b30da-a5e4-49df-b1a8-ba5943f1dd33']"
   ]
  },
  {
   "cell_type": "code",
   "execution_count": 17,
   "metadata": {},
   "outputs": [],
   "source": [
    "# start = datetime.now()\n",
    "# print(start)"
   ]
  },
  {
   "cell_type": "markdown",
   "metadata": {},
   "source": [
    "Aggregate data into list of sequences for use in the creation of our graph database"
   ]
  },
  {
   "cell_type": "code",
   "execution_count": 18,
   "metadata": {},
   "outputs": [],
   "source": [
    "df2 = df.groupby('user_id').agg(list)"
   ]
  },
  {
   "cell_type": "code",
   "execution_count": 19,
   "metadata": {},
   "outputs": [],
   "source": [
    "# end = datetime.now()\n",
    "# print(end)\n",
    "# print(end-start)"
   ]
  },
  {
   "cell_type": "code",
   "execution_count": 331,
   "metadata": {},
   "outputs": [
    {
     "data": {
      "text/html": [
       "<div>\n",
       "<style scoped>\n",
       "    .dataframe tbody tr th:only-of-type {\n",
       "        vertical-align: middle;\n",
       "    }\n",
       "\n",
       "    .dataframe tbody tr th {\n",
       "        vertical-align: top;\n",
       "    }\n",
       "\n",
       "    .dataframe thead th {\n",
       "        text-align: right;\n",
       "    }\n",
       "</style>\n",
       "<table border=\"1\" class=\"dataframe\">\n",
       "  <thead>\n",
       "    <tr style=\"text-align: right;\">\n",
       "      <th></th>\n",
       "      <th>event_time</th>\n",
       "      <th>event_type</th>\n",
       "      <th>product_id</th>\n",
       "      <th>category_id</th>\n",
       "      <th>category_code</th>\n",
       "      <th>brand</th>\n",
       "      <th>price</th>\n",
       "      <th>user_session</th>\n",
       "      <th>h_lvl</th>\n",
       "      <th>l_lvl</th>\n",
       "    </tr>\n",
       "    <tr>\n",
       "      <th>user_id</th>\n",
       "      <th></th>\n",
       "      <th></th>\n",
       "      <th></th>\n",
       "      <th></th>\n",
       "      <th></th>\n",
       "      <th></th>\n",
       "      <th></th>\n",
       "      <th></th>\n",
       "      <th></th>\n",
       "      <th></th>\n",
       "    </tr>\n",
       "  </thead>\n",
       "  <tbody>\n",
       "    <tr>\n",
       "      <th>29515875</th>\n",
       "      <td>[2019-11-10 02:14:40+00:00, 2019-11-12 03:45:0...</td>\n",
       "      <td>[view, view, view, view, view, view, view]</td>\n",
       "      <td>[13201002, 13200026, 1802034, 1802034, 1801638...</td>\n",
       "      <td>[2053013557192163841, 2053013557192163841, 205...</td>\n",
       "      <td>[furniture.bedroom.bed, furniture.bedroom.bed,...</td>\n",
       "      <td>[stendmebel, sv, kivi, kivi, harper, harper, h...</td>\n",
       "      <td>[176.04, 100.36, 115.04, 115.04, 153.67, 153.6...</td>\n",
       "      <td>[eb6882fb-ead2-47a5-aa86-d171a2c3b6ff, 643be73...</td>\n",
       "      <td>[furniture, furniture, electronics, electronic...</td>\n",
       "      <td>[bedroom, bedroom, video, video, video, video,...</td>\n",
       "    </tr>\n",
       "    <tr>\n",
       "      <th>31198833</th>\n",
       "      <td>[2019-11-08 02:09:45+00:00, 2019-11-08 02:10:3...</td>\n",
       "      <td>[view, view, view, view, view, view, view, vie...</td>\n",
       "      <td>[1005158, 1003551, 1005158, 1004870, 1004873, ...</td>\n",
       "      <td>[2053013555631882655, 2053013555631882655, 205...</td>\n",
       "      <td>[electronics.smartphone, electronics.smartphon...</td>\n",
       "      <td>[xiaomi, xiaomi, xiaomi, samsung, samsung, sam...</td>\n",
       "      <td>[302.45, 437.59, 302.45, 267.42, 360.07, 334.3...</td>\n",
       "      <td>[b9f5a88d-09a1-4327-a129-5e4425952f71, b9f5a88...</td>\n",
       "      <td>[electronics, electronics, electronics, electr...</td>\n",
       "      <td>[smartphone, smartphone, smartphone, smartphon...</td>\n",
       "    </tr>\n",
       "    <tr>\n",
       "      <th>34916060</th>\n",
       "      <td>[2019-11-24 07:43:33+00:00]</td>\n",
       "      <td>[view]</td>\n",
       "      <td>[12600007]</td>\n",
       "      <td>[2053013554751078769]</td>\n",
       "      <td>[appliances.kitchen.grill]</td>\n",
       "      <td>[tefal]</td>\n",
       "      <td>[295.94]</td>\n",
       "      <td>[4c2709a8-e61b-4d09-a0bf-b4d8b4923d00]</td>\n",
       "      <td>[appliances]</td>\n",
       "      <td>[kitchen]</td>\n",
       "    </tr>\n",
       "    <tr>\n",
       "      <th>41798457</th>\n",
       "      <td>[2019-11-26 08:33:16+00:00]</td>\n",
       "      <td>[view]</td>\n",
       "      <td>[100017960]</td>\n",
       "      <td>[2053013555631882655]</td>\n",
       "      <td>[electronics.smartphone]</td>\n",
       "      <td>[huawei]</td>\n",
       "      <td>[945.97]</td>\n",
       "      <td>[7acfc025-a748-4dec-a2e0-5d4c54c8d8ca]</td>\n",
       "      <td>[electronics]</td>\n",
       "      <td>[smartphone]</td>\n",
       "    </tr>\n",
       "    <tr>\n",
       "      <th>62336140</th>\n",
       "      <td>[2019-11-08 15:57:37+00:00, 2019-11-08 16:00:0...</td>\n",
       "      <td>[view, view, view, view, view, view]</td>\n",
       "      <td>[28718004, 28718694, 28720700, 28718348, 28718...</td>\n",
       "      <td>[2053013565639492569, 2053013565639492569, 205...</td>\n",
       "      <td>[apparel.shoes, apparel.shoes, apparel.shoes, ...</td>\n",
       "      <td>[respect, respect, respect, respect, respect, ...</td>\n",
       "      <td>[93.44, 89.84, 102.45, 84.43, 80.83, 124.84]</td>\n",
       "      <td>[393afdaf-b61d-4dda-87ff-b8467a4201fa, 393afda...</td>\n",
       "      <td>[apparel, apparel, apparel, apparel, apparel, ...</td>\n",
       "      <td>[shoes, shoes, shoes, shoes, shoes, shoes]</td>\n",
       "    </tr>\n",
       "  </tbody>\n",
       "</table>\n",
       "</div>"
      ],
      "text/plain": [
       "                                                 event_time  \\\n",
       "user_id                                                       \n",
       "29515875  [2019-11-10 02:14:40+00:00, 2019-11-12 03:45:0...   \n",
       "31198833  [2019-11-08 02:09:45+00:00, 2019-11-08 02:10:3...   \n",
       "34916060                        [2019-11-24 07:43:33+00:00]   \n",
       "41798457                        [2019-11-26 08:33:16+00:00]   \n",
       "62336140  [2019-11-08 15:57:37+00:00, 2019-11-08 16:00:0...   \n",
       "\n",
       "                                                 event_type  \\\n",
       "user_id                                                       \n",
       "29515875         [view, view, view, view, view, view, view]   \n",
       "31198833  [view, view, view, view, view, view, view, vie...   \n",
       "34916060                                             [view]   \n",
       "41798457                                             [view]   \n",
       "62336140               [view, view, view, view, view, view]   \n",
       "\n",
       "                                                 product_id  \\\n",
       "user_id                                                       \n",
       "29515875  [13201002, 13200026, 1802034, 1802034, 1801638...   \n",
       "31198833  [1005158, 1003551, 1005158, 1004870, 1004873, ...   \n",
       "34916060                                         [12600007]   \n",
       "41798457                                        [100017960]   \n",
       "62336140  [28718004, 28718694, 28720700, 28718348, 28718...   \n",
       "\n",
       "                                                category_id  \\\n",
       "user_id                                                       \n",
       "29515875  [2053013557192163841, 2053013557192163841, 205...   \n",
       "31198833  [2053013555631882655, 2053013555631882655, 205...   \n",
       "34916060                              [2053013554751078769]   \n",
       "41798457                              [2053013555631882655]   \n",
       "62336140  [2053013565639492569, 2053013565639492569, 205...   \n",
       "\n",
       "                                              category_code  \\\n",
       "user_id                                                       \n",
       "29515875  [furniture.bedroom.bed, furniture.bedroom.bed,...   \n",
       "31198833  [electronics.smartphone, electronics.smartphon...   \n",
       "34916060                         [appliances.kitchen.grill]   \n",
       "41798457                           [electronics.smartphone]   \n",
       "62336140  [apparel.shoes, apparel.shoes, apparel.shoes, ...   \n",
       "\n",
       "                                                      brand  \\\n",
       "user_id                                                       \n",
       "29515875  [stendmebel, sv, kivi, kivi, harper, harper, h...   \n",
       "31198833  [xiaomi, xiaomi, xiaomi, samsung, samsung, sam...   \n",
       "34916060                                            [tefal]   \n",
       "41798457                                           [huawei]   \n",
       "62336140  [respect, respect, respect, respect, respect, ...   \n",
       "\n",
       "                                                      price  \\\n",
       "user_id                                                       \n",
       "29515875  [176.04, 100.36, 115.04, 115.04, 153.67, 153.6...   \n",
       "31198833  [302.45, 437.59, 302.45, 267.42, 360.07, 334.3...   \n",
       "34916060                                           [295.94]   \n",
       "41798457                                           [945.97]   \n",
       "62336140       [93.44, 89.84, 102.45, 84.43, 80.83, 124.84]   \n",
       "\n",
       "                                               user_session  \\\n",
       "user_id                                                       \n",
       "29515875  [eb6882fb-ead2-47a5-aa86-d171a2c3b6ff, 643be73...   \n",
       "31198833  [b9f5a88d-09a1-4327-a129-5e4425952f71, b9f5a88...   \n",
       "34916060             [4c2709a8-e61b-4d09-a0bf-b4d8b4923d00]   \n",
       "41798457             [7acfc025-a748-4dec-a2e0-5d4c54c8d8ca]   \n",
       "62336140  [393afdaf-b61d-4dda-87ff-b8467a4201fa, 393afda...   \n",
       "\n",
       "                                                      h_lvl  \\\n",
       "user_id                                                       \n",
       "29515875  [furniture, furniture, electronics, electronic...   \n",
       "31198833  [electronics, electronics, electronics, electr...   \n",
       "34916060                                       [appliances]   \n",
       "41798457                                      [electronics]   \n",
       "62336140  [apparel, apparel, apparel, apparel, apparel, ...   \n",
       "\n",
       "                                                      l_lvl  \n",
       "user_id                                                      \n",
       "29515875  [bedroom, bedroom, video, video, video, video,...  \n",
       "31198833  [smartphone, smartphone, smartphone, smartphon...  \n",
       "34916060                                          [kitchen]  \n",
       "41798457                                       [smartphone]  \n",
       "62336140         [shoes, shoes, shoes, shoes, shoes, shoes]  "
      ]
     },
     "execution_count": 331,
     "metadata": {},
     "output_type": "execute_result"
    }
   ],
   "source": [
    "df2.head()"
   ]
  },
  {
   "cell_type": "code",
   "execution_count": 332,
   "metadata": {},
   "outputs": [
    {
     "data": {
      "text/plain": [
       "(2862935, 10)"
      ]
     },
     "execution_count": 332,
     "metadata": {},
     "output_type": "execute_result"
    }
   ],
   "source": [
    "df2.shape"
   ]
  },
  {
   "cell_type": "code",
   "execution_count": 333,
   "metadata": {},
   "outputs": [],
   "source": [
    "df2_sample = df2.sample(frac=0.05, random_state=42)\n",
    "df2_sample['seq_num'] = df2_sample['event_type'].apply(lambda x: len(x))\n",
    "df2_sample = df2_sample[df2_sample.seq_num > 6]"
   ]
  },
  {
   "cell_type": "code",
   "execution_count": 334,
   "metadata": {},
   "outputs": [],
   "source": [
    "distinct_product_ids = []\n",
    "for i in range(len(df2_sample)):\n",
    "    for j in df2_sample.iloc[i]['product_id']:\n",
    "        if j in distinct_product_ids:\n",
    "            pass\n",
    "        else:\n",
    "            distinct_product_ids.append(j)\n",
    "            \n",
    "            \n",
    "distinct_h_lvl_ids = []\n",
    "for i in range(len(df2_sample)):\n",
    "    for j in df2_sample.iloc[i]['h_lvl']:\n",
    "        if j in distinct_h_lvl_ids:\n",
    "            pass\n",
    "        else:\n",
    "            distinct_h_lvl_ids.append(j)"
   ]
  },
  {
   "cell_type": "code",
   "execution_count": 335,
   "metadata": {},
   "outputs": [
    {
     "data": {
      "text/plain": [
       "44223"
      ]
     },
     "execution_count": 335,
     "metadata": {},
     "output_type": "execute_result"
    }
   ],
   "source": [
    "len(distinct_product_ids)"
   ]
  },
  {
   "cell_type": "code",
   "execution_count": 336,
   "metadata": {},
   "outputs": [],
   "source": [
    "product_map= \\\n",
    "{distinct_product_ids[i]:[x for x in range(0,len(distinct_product_ids))][i] for i in range(len(distinct_product_ids))}\n",
    "\n",
    "h_lvl_map= \\\n",
    "{distinct_h_lvl_ids[i]:[x for x in range(0,len(distinct_h_lvl_ids))][i] for i in range(len(distinct_h_lvl_ids))}"
   ]
  },
  {
   "cell_type": "code",
   "execution_count": 337,
   "metadata": {},
   "outputs": [
    {
     "data": {
      "text/plain": [
       "{'electronics': 0,\n",
       " 'computers': 1,\n",
       " 'apparel': 2,\n",
       " 'auto': 3,\n",
       " 'construction': 4,\n",
       " 'country_yard': 5,\n",
       " 'appliances': 6,\n",
       " 'kids': 7,\n",
       " 'accessories': 8,\n",
       " 'sport': 9,\n",
       " 'furniture': 10,\n",
       " 'medicine': 11,\n",
       " 'stationery': 12}"
      ]
     },
     "execution_count": 337,
     "metadata": {},
     "output_type": "execute_result"
    }
   ],
   "source": [
    "h_lvl_map"
   ]
  },
  {
   "cell_type": "code",
   "execution_count": 338,
   "metadata": {},
   "outputs": [
    {
     "data": {
      "text/plain": [
       "(60964, 11)"
      ]
     },
     "execution_count": 338,
     "metadata": {},
     "output_type": "execute_result"
    }
   ],
   "source": [
    "df2_sample.shape"
   ]
  },
  {
   "cell_type": "markdown",
   "metadata": {},
   "source": [
    "Define function to convert time sequences into length of time between one event and another as possible edge weights"
   ]
  },
  {
   "cell_type": "code",
   "execution_count": 339,
   "metadata": {},
   "outputs": [],
   "source": [
    "def time_list(listy):\n",
    "    new_listy = []\n",
    "    for i, j in enumerate(listy):\n",
    "        if i == 0:\n",
    "            pass\n",
    "        else:\n",
    "            new_listy.append((j-(listy[i-1])).total_seconds())\n",
    "    return new_listy"
   ]
  },
  {
   "cell_type": "code",
   "execution_count": 340,
   "metadata": {},
   "outputs": [
    {
     "data": {
      "text/plain": [
       "[14.0, 130.0, 57.0]"
      ]
     },
     "execution_count": 340,
     "metadata": {},
     "output_type": "execute_result"
    }
   ],
   "source": [
    "time_list(df2_sample.iloc[1]['event_time'])[0:3]"
   ]
  },
  {
   "cell_type": "code",
   "execution_count": 341,
   "metadata": {},
   "outputs": [
    {
     "data": {
      "text/plain": [
       "14.0"
      ]
     },
     "execution_count": 341,
     "metadata": {},
     "output_type": "execute_result"
    }
   ],
   "source": [
    "(df2_sample.iloc[1]['event_time'][1] - df2_sample.iloc[1]['event_time'][0]).total_seconds()"
   ]
  },
  {
   "cell_type": "code",
   "execution_count": 342,
   "metadata": {},
   "outputs": [],
   "source": [
    "def last_char(listy):\n",
    "    return listy[-1]\n",
    "\n",
    "def return_all_but_last(listy):\n",
    "    return listy[:-1]"
   ]
  },
  {
   "cell_type": "code",
   "execution_count": 343,
   "metadata": {},
   "outputs": [
    {
     "data": {
      "text/html": [
       "<div>\n",
       "<style scoped>\n",
       "    .dataframe tbody tr th:only-of-type {\n",
       "        vertical-align: middle;\n",
       "    }\n",
       "\n",
       "    .dataframe tbody tr th {\n",
       "        vertical-align: top;\n",
       "    }\n",
       "\n",
       "    .dataframe thead th {\n",
       "        text-align: right;\n",
       "    }\n",
       "</style>\n",
       "<table border=\"1\" class=\"dataframe\">\n",
       "  <thead>\n",
       "    <tr style=\"text-align: right;\">\n",
       "      <th></th>\n",
       "      <th>event_time</th>\n",
       "      <th>event_type</th>\n",
       "      <th>product_id</th>\n",
       "      <th>category_id</th>\n",
       "      <th>category_code</th>\n",
       "      <th>brand</th>\n",
       "      <th>price</th>\n",
       "      <th>user_session</th>\n",
       "      <th>h_lvl</th>\n",
       "      <th>l_lvl</th>\n",
       "      <th>seq_num</th>\n",
       "    </tr>\n",
       "    <tr>\n",
       "      <th>user_id</th>\n",
       "      <th></th>\n",
       "      <th></th>\n",
       "      <th></th>\n",
       "      <th></th>\n",
       "      <th></th>\n",
       "      <th></th>\n",
       "      <th></th>\n",
       "      <th></th>\n",
       "      <th></th>\n",
       "      <th></th>\n",
       "      <th></th>\n",
       "    </tr>\n",
       "  </thead>\n",
       "  <tbody>\n",
       "    <tr>\n",
       "      <th>567023096</th>\n",
       "      <td>[2019-11-03 11:27:16+00:00, 2019-11-03 11:27:3...</td>\n",
       "      <td>[view, view, view, view, view, view, view, vie...</td>\n",
       "      <td>[1004767, 1004767, 1004768, 1004768, 1004766, ...</td>\n",
       "      <td>[2053013555631882655, 2053013555631882655, 205...</td>\n",
       "      <td>[electronics.smartphone, electronics.smartphon...</td>\n",
       "      <td>[samsung, samsung, samsung, samsung, samsung, ...</td>\n",
       "      <td>[241.89, 241.89, 242.02, 242.02, 242.13, 242.1...</td>\n",
       "      <td>[95eca705-2cbe-4ea7-b728-79bf110821e9, 95eca70...</td>\n",
       "      <td>[electronics, electronics, electronics, electr...</td>\n",
       "      <td>[smartphone, smartphone, smartphone, smartphon...</td>\n",
       "      <td>9</td>\n",
       "    </tr>\n",
       "    <tr>\n",
       "      <th>544272773</th>\n",
       "      <td>[2019-11-03 03:06:21+00:00, 2019-11-03 03:06:3...</td>\n",
       "      <td>[view, cart, purchase, view, cart, purchase, c...</td>\n",
       "      <td>[1004833, 1004833, 1004833, 1004833, 1004833, ...</td>\n",
       "      <td>[2053013555631882655, 2053013555631882655, 205...</td>\n",
       "      <td>[electronics.smartphone, electronics.smartphon...</td>\n",
       "      <td>[samsung, samsung, samsung, samsung, samsung, ...</td>\n",
       "      <td>[170.09, 170.09, 170.09, 170.09, 170.09, 170.0...</td>\n",
       "      <td>[81d34e1a-6793-40a5-add0-1ca3707cba69, 81d34e1...</td>\n",
       "      <td>[electronics, electronics, electronics, electr...</td>\n",
       "      <td>[smartphone, smartphone, smartphone, smartphon...</td>\n",
       "      <td>8</td>\n",
       "    </tr>\n",
       "  </tbody>\n",
       "</table>\n",
       "</div>"
      ],
      "text/plain": [
       "                                                  event_time  \\\n",
       "user_id                                                        \n",
       "567023096  [2019-11-03 11:27:16+00:00, 2019-11-03 11:27:3...   \n",
       "544272773  [2019-11-03 03:06:21+00:00, 2019-11-03 03:06:3...   \n",
       "\n",
       "                                                  event_type  \\\n",
       "user_id                                                        \n",
       "567023096  [view, view, view, view, view, view, view, vie...   \n",
       "544272773  [view, cart, purchase, view, cart, purchase, c...   \n",
       "\n",
       "                                                  product_id  \\\n",
       "user_id                                                        \n",
       "567023096  [1004767, 1004767, 1004768, 1004768, 1004766, ...   \n",
       "544272773  [1004833, 1004833, 1004833, 1004833, 1004833, ...   \n",
       "\n",
       "                                                 category_id  \\\n",
       "user_id                                                        \n",
       "567023096  [2053013555631882655, 2053013555631882655, 205...   \n",
       "544272773  [2053013555631882655, 2053013555631882655, 205...   \n",
       "\n",
       "                                               category_code  \\\n",
       "user_id                                                        \n",
       "567023096  [electronics.smartphone, electronics.smartphon...   \n",
       "544272773  [electronics.smartphone, electronics.smartphon...   \n",
       "\n",
       "                                                       brand  \\\n",
       "user_id                                                        \n",
       "567023096  [samsung, samsung, samsung, samsung, samsung, ...   \n",
       "544272773  [samsung, samsung, samsung, samsung, samsung, ...   \n",
       "\n",
       "                                                       price  \\\n",
       "user_id                                                        \n",
       "567023096  [241.89, 241.89, 242.02, 242.02, 242.13, 242.1...   \n",
       "544272773  [170.09, 170.09, 170.09, 170.09, 170.09, 170.0...   \n",
       "\n",
       "                                                user_session  \\\n",
       "user_id                                                        \n",
       "567023096  [95eca705-2cbe-4ea7-b728-79bf110821e9, 95eca70...   \n",
       "544272773  [81d34e1a-6793-40a5-add0-1ca3707cba69, 81d34e1...   \n",
       "\n",
       "                                                       h_lvl  \\\n",
       "user_id                                                        \n",
       "567023096  [electronics, electronics, electronics, electr...   \n",
       "544272773  [electronics, electronics, electronics, electr...   \n",
       "\n",
       "                                                       l_lvl  seq_num  \n",
       "user_id                                                                \n",
       "567023096  [smartphone, smartphone, smartphone, smartphon...        9  \n",
       "544272773  [smartphone, smartphone, smartphone, smartphon...        8  "
      ]
     },
     "execution_count": 343,
     "metadata": {},
     "output_type": "execute_result"
    }
   ],
   "source": [
    "df2_sample.head(2)"
   ]
  },
  {
   "cell_type": "markdown",
   "metadata": {},
   "source": [
    "Calculate column of time between events and provide a column detailing sequence length"
   ]
  },
  {
   "cell_type": "code",
   "execution_count": 344,
   "metadata": {},
   "outputs": [
    {
     "name": "stderr",
     "output_type": "stream",
     "text": [
      "C:\\Users\\Athos\\Anaconda3\\lib\\site-packages\\pandas\\core\\indexing.py:670: SettingWithCopyWarning: \n",
      "A value is trying to be set on a copy of a slice from a DataFrame\n",
      "\n",
      "See the caveats in the documentation: https://pandas.pydata.org/pandas-docs/stable/user_guide/indexing.html#returning-a-view-versus-a-copy\n",
      "  iloc._setitem_with_indexer(indexer, value)\n"
     ]
    }
   ],
   "source": [
    "df2_sample['time_between'] = ''\n",
    "\n",
    "df2_sample['next_event'] = df2_sample['event_type'].apply(lambda x: last_char(x))\n",
    "df2_sample['next_product_id'] = df2_sample['product_id'].apply(lambda x: last_char(x))\n",
    "df2_sample['next_time_between'] = df2_sample['product_id'].apply(lambda x: last_char(x))\n",
    "# df2_sample['time_on_page'] = df2_sample['event_type'].apply(lambda x: time_list(x))\n",
    "\n",
    "for i in range(len(df2_sample)):\n",
    "#     if i % 50000 == 0:\n",
    "#         print(i)\n",
    "    df2_sample['time_between'].iloc[i] = time_list(df2_sample.iloc[i]['event_time'])\n",
    "    \n",
    "#create RML (remove last) columns in which the last event from each sequence has been removed    \n",
    "df2_sample['rml_event_time'] = df2_sample['event_time'].apply(lambda x: return_all_but_last(x))\n",
    "df2_sample['rml_event_type'] = df2_sample['event_type'].apply(lambda x: return_all_but_last(x))\n",
    "df2_sample['rml_product_id'] = df2_sample['product_id'].apply(lambda x: return_all_but_last(x))\n",
    "df2_sample['rml_category_id'] = df2_sample['category_id'].apply(lambda x: return_all_but_last(x))\n",
    "df2_sample['rml_category_code'] = df2_sample['category_code'].apply(lambda x: return_all_but_last(x))\n",
    "df2_sample['rml_brand'] = df2_sample['price'].apply(lambda x: return_all_but_last(x))\n",
    "df2_sample['rml_user_session'] = df2_sample['user_session'].apply(lambda x: return_all_but_last(x))\n",
    "df2_sample['rml_event_time'] = df2_sample['event_time'].apply(lambda x: return_all_but_last(x))\n",
    "df2_sample['rml_h_lvl'] = df2_sample['h_lvl'].apply(lambda x: return_all_but_last(x))\n",
    "df2_sample['rml_l_lvl'] = df2_sample['l_lvl'].apply(lambda x: return_all_but_last(x))\n",
    "df2_sample['rml_time_between'] = df2_sample['time_between'].apply(lambda x: return_all_but_last(x))\n",
    "\n",
    "\n",
    "def map_values(listy, label_map):\n",
    "    listy2 = []\n",
    "    for i in listy:\n",
    "        listy2.append(int(label_map[i]))\n",
    "    return listy2\n",
    "\n",
    "df2_sample['product_id_new_labels'] = df2_sample['product_id'].apply(lambda x: map_values(x, product_map))\n",
    "df2_sample['h_lvl_id_new_labels'] = df2_sample['h_lvl'].apply(lambda x: map_values(x, h_lvl_map))\n",
    "df2_sample['next_h_lvl'] = df2_sample['h_lvl_id_new_labels'].apply(lambda x: last_char(x))\n",
    "df2_sample['rml_h_lvl_id_new_labels'] = df2_sample['h_lvl_id_new_labels'].apply(lambda x: return_all_but_last(x))"
   ]
  },
  {
   "cell_type": "code",
   "execution_count": 345,
   "metadata": {},
   "outputs": [
    {
     "data": {
      "text/html": [
       "<div>\n",
       "<style scoped>\n",
       "    .dataframe tbody tr th:only-of-type {\n",
       "        vertical-align: middle;\n",
       "    }\n",
       "\n",
       "    .dataframe tbody tr th {\n",
       "        vertical-align: top;\n",
       "    }\n",
       "\n",
       "    .dataframe thead th {\n",
       "        text-align: right;\n",
       "    }\n",
       "</style>\n",
       "<table border=\"1\" class=\"dataframe\">\n",
       "  <thead>\n",
       "    <tr style=\"text-align: right;\">\n",
       "      <th></th>\n",
       "      <th>event_time</th>\n",
       "      <th>event_type</th>\n",
       "      <th>product_id</th>\n",
       "      <th>category_id</th>\n",
       "      <th>category_code</th>\n",
       "      <th>brand</th>\n",
       "      <th>price</th>\n",
       "      <th>user_session</th>\n",
       "      <th>h_lvl</th>\n",
       "      <th>l_lvl</th>\n",
       "      <th>...</th>\n",
       "      <th>rml_category_code</th>\n",
       "      <th>rml_brand</th>\n",
       "      <th>rml_user_session</th>\n",
       "      <th>rml_h_lvl</th>\n",
       "      <th>rml_l_lvl</th>\n",
       "      <th>rml_time_between</th>\n",
       "      <th>product_id_new_labels</th>\n",
       "      <th>h_lvl_id_new_labels</th>\n",
       "      <th>next_h_lvl</th>\n",
       "      <th>rml_h_lvl_id_new_labels</th>\n",
       "    </tr>\n",
       "    <tr>\n",
       "      <th>user_id</th>\n",
       "      <th></th>\n",
       "      <th></th>\n",
       "      <th></th>\n",
       "      <th></th>\n",
       "      <th></th>\n",
       "      <th></th>\n",
       "      <th></th>\n",
       "      <th></th>\n",
       "      <th></th>\n",
       "      <th></th>\n",
       "      <th></th>\n",
       "      <th></th>\n",
       "      <th></th>\n",
       "      <th></th>\n",
       "      <th></th>\n",
       "      <th></th>\n",
       "      <th></th>\n",
       "      <th></th>\n",
       "      <th></th>\n",
       "      <th></th>\n",
       "      <th></th>\n",
       "    </tr>\n",
       "  </thead>\n",
       "  <tbody>\n",
       "    <tr>\n",
       "      <th>567023096</th>\n",
       "      <td>[2019-11-03 11:27:16+00:00, 2019-11-03 11:27:3...</td>\n",
       "      <td>[view, view, view, view, view, view, view, vie...</td>\n",
       "      <td>[1004767, 1004767, 1004768, 1004768, 1004766, ...</td>\n",
       "      <td>[2053013555631882655, 2053013555631882655, 205...</td>\n",
       "      <td>[electronics.smartphone, electronics.smartphon...</td>\n",
       "      <td>[samsung, samsung, samsung, samsung, samsung, ...</td>\n",
       "      <td>[241.89, 241.89, 242.02, 242.02, 242.13, 242.1...</td>\n",
       "      <td>[95eca705-2cbe-4ea7-b728-79bf110821e9, 95eca70...</td>\n",
       "      <td>[electronics, electronics, electronics, electr...</td>\n",
       "      <td>[smartphone, smartphone, smartphone, smartphon...</td>\n",
       "      <td>...</td>\n",
       "      <td>[electronics.smartphone, electronics.smartphon...</td>\n",
       "      <td>[241.89, 241.89, 242.02, 242.02, 242.13, 242.1...</td>\n",
       "      <td>[95eca705-2cbe-4ea7-b728-79bf110821e9, 95eca70...</td>\n",
       "      <td>[electronics, electronics, electronics, electr...</td>\n",
       "      <td>[smartphone, smartphone, smartphone, smartphon...</td>\n",
       "      <td>[17.0, 15.0, 21.0, 24.0, 13.0, 31.0, 104268.0]</td>\n",
       "      <td>[0, 0, 1, 1, 2, 2, 2, 3, 3]</td>\n",
       "      <td>[0, 0, 0, 0, 0, 0, 0, 0, 0]</td>\n",
       "      <td>0</td>\n",
       "      <td>[0, 0, 0, 0, 0, 0, 0, 0]</td>\n",
       "    </tr>\n",
       "    <tr>\n",
       "      <th>544272773</th>\n",
       "      <td>[2019-11-03 03:06:21+00:00, 2019-11-03 03:06:3...</td>\n",
       "      <td>[view, cart, purchase, view, cart, purchase, c...</td>\n",
       "      <td>[1004833, 1004833, 1004833, 1004833, 1004833, ...</td>\n",
       "      <td>[2053013555631882655, 2053013555631882655, 205...</td>\n",
       "      <td>[electronics.smartphone, electronics.smartphon...</td>\n",
       "      <td>[samsung, samsung, samsung, samsung, samsung, ...</td>\n",
       "      <td>[170.09, 170.09, 170.09, 170.09, 170.09, 170.0...</td>\n",
       "      <td>[81d34e1a-6793-40a5-add0-1ca3707cba69, 81d34e1...</td>\n",
       "      <td>[electronics, electronics, electronics, electr...</td>\n",
       "      <td>[smartphone, smartphone, smartphone, smartphon...</td>\n",
       "      <td>...</td>\n",
       "      <td>[electronics.smartphone, electronics.smartphon...</td>\n",
       "      <td>[170.09, 170.09, 170.09, 170.09, 170.09, 170.0...</td>\n",
       "      <td>[81d34e1a-6793-40a5-add0-1ca3707cba69, 81d34e1...</td>\n",
       "      <td>[electronics, electronics, electronics, electr...</td>\n",
       "      <td>[smartphone, smartphone, smartphone, smartphon...</td>\n",
       "      <td>[14.0, 130.0, 57.0, 7.0, 40.0, 606509.0]</td>\n",
       "      <td>[4, 4, 4, 4, 4, 4, 0, 0]</td>\n",
       "      <td>[0, 0, 0, 0, 0, 0, 0, 0]</td>\n",
       "      <td>0</td>\n",
       "      <td>[0, 0, 0, 0, 0, 0, 0]</td>\n",
       "    </tr>\n",
       "    <tr>\n",
       "      <th>572418442</th>\n",
       "      <td>[2019-11-17 03:23:11+00:00, 2019-11-17 03:23:4...</td>\n",
       "      <td>[view, view, view, view, view, view, view, vie...</td>\n",
       "      <td>[1307135, 45500012, 45500012, 45500021, 180191...</td>\n",
       "      <td>[2053013558920217191, 2109094148110811752, 210...</td>\n",
       "      <td>[computers.notebook, computers.notebook, compu...</td>\n",
       "      <td>[hp, deepcool, deepcool, trust, samsung, samsu...</td>\n",
       "      <td>[262.3, 27.54, 27.54, 18.43, 1415.71, 1415.71,...</td>\n",
       "      <td>[9fe3863b-02d1-4771-a46d-38c6179d2a08, 9fe3863...</td>\n",
       "      <td>[computers, computers, computers, computers, e...</td>\n",
       "      <td>[notebook, notebook, notebook, notebook, video...</td>\n",
       "      <td>...</td>\n",
       "      <td>[computers.notebook, computers.notebook, compu...</td>\n",
       "      <td>[262.3, 27.54, 27.54, 18.43, 1415.71, 1415.71,...</td>\n",
       "      <td>[9fe3863b-02d1-4771-a46d-38c6179d2a08, 9fe3863...</td>\n",
       "      <td>[computers, computers, computers, computers, e...</td>\n",
       "      <td>[notebook, notebook, notebook, notebook, video...</td>\n",
       "      <td>[33.0, 20.0, 22.0, 90.0, 74.0, 22.0, 42.0, 85....</td>\n",
       "      <td>[5, 6, 6, 7, 8, 8, 9, 8, 10, 11, 12]</td>\n",
       "      <td>[1, 1, 1, 1, 0, 0, 0, 0, 2, 2, 3]</td>\n",
       "      <td>3</td>\n",
       "      <td>[1, 1, 1, 1, 0, 0, 0, 0, 2, 2]</td>\n",
       "    </tr>\n",
       "    <tr>\n",
       "      <th>568923316</th>\n",
       "      <td>[2019-11-08 11:10:25+00:00, 2019-11-08 11:10:4...</td>\n",
       "      <td>[view, view, view, view, view, view, view, vie...</td>\n",
       "      <td>[21403299, 21403301, 21407068, 21408262, 10045...</td>\n",
       "      <td>[2053013561579406073, 2053013561579406073, 205...</td>\n",
       "      <td>[electronics.clocks, electronics.clocks, elect...</td>\n",
       "      <td>[adriatica, adriatica, tissot, tissot, xiaomi,...</td>\n",
       "      <td>[137.97, 145.95, 252.26, 480.32, 514.56, 900.9...</td>\n",
       "      <td>[e23dccf4-bf4c-4c3d-86c2-e58926edbde4, 65d43dd...</td>\n",
       "      <td>[electronics, electronics, electronics, electr...</td>\n",
       "      <td>[clocks, clocks, clocks, clocks, smartphone, c...</td>\n",
       "      <td>...</td>\n",
       "      <td>[electronics.clocks, electronics.clocks, elect...</td>\n",
       "      <td>[137.97, 145.95, 252.26, 480.32, 514.56, 900.9...</td>\n",
       "      <td>[e23dccf4-bf4c-4c3d-86c2-e58926edbde4, 65d43dd...</td>\n",
       "      <td>[electronics, electronics, electronics, electr...</td>\n",
       "      <td>[clocks, clocks, clocks, clocks, smartphone, c...</td>\n",
       "      <td>[18.0, 837659.0, 27.0, 46.0, 183287.0, 49.0, 1...</td>\n",
       "      <td>[13, 14, 15, 16, 17, 18, 19, 20, 21]</td>\n",
       "      <td>[0, 0, 0, 0, 0, 0, 0, 0, 0]</td>\n",
       "      <td>0</td>\n",
       "      <td>[0, 0, 0, 0, 0, 0, 0, 0]</td>\n",
       "    </tr>\n",
       "    <tr>\n",
       "      <th>514777002</th>\n",
       "      <td>[2019-11-07 12:09:05+00:00, 2019-11-07 12:09:1...</td>\n",
       "      <td>[view, view, view, view, view, view, view, vie...</td>\n",
       "      <td>[1004565, 1004565, 1004785, 1004785, 1004781, ...</td>\n",
       "      <td>[2053013555631882655, 2053013555631882655, 205...</td>\n",
       "      <td>[electronics.smartphone, electronics.smartphon...</td>\n",
       "      <td>[huawei, huawei, huawei, huawei, huawei, huawe...</td>\n",
       "      <td>[166.03, 166.03, 265.64, 265.64, 266.41, 266.4...</td>\n",
       "      <td>[9828ceb5-5537-40a8-9bee-8f107238efd5, 9828ceb...</td>\n",
       "      <td>[electronics, electronics, electronics, electr...</td>\n",
       "      <td>[smartphone, smartphone, smartphone, smartphon...</td>\n",
       "      <td>...</td>\n",
       "      <td>[electronics.smartphone, electronics.smartphon...</td>\n",
       "      <td>[166.03, 166.03, 265.64, 265.64, 266.41, 266.4...</td>\n",
       "      <td>[9828ceb5-5537-40a8-9bee-8f107238efd5, 9828ceb...</td>\n",
       "      <td>[electronics, electronics, electronics, electr...</td>\n",
       "      <td>[smartphone, smartphone, smartphone, smartphon...</td>\n",
       "      <td>[13.0, 5.0, 11.0, 10.0, 55.0, 11.0, 682083.0, ...</td>\n",
       "      <td>[22, 22, 23, 23, 24, 24, 25, 26, 27, 28, 28, 2...</td>\n",
       "      <td>[0, 0, 0, 0, 0, 0, 0, 4, 4, 4, 4, 4, 4, 4, 4, ...</td>\n",
       "      <td>6</td>\n",
       "      <td>[0, 0, 0, 0, 0, 0, 0, 4, 4, 4, 4, 4, 4, 4, 4, ...</td>\n",
       "    </tr>\n",
       "  </tbody>\n",
       "</table>\n",
       "<p>5 rows × 29 columns</p>\n",
       "</div>"
      ],
      "text/plain": [
       "                                                  event_time  \\\n",
       "user_id                                                        \n",
       "567023096  [2019-11-03 11:27:16+00:00, 2019-11-03 11:27:3...   \n",
       "544272773  [2019-11-03 03:06:21+00:00, 2019-11-03 03:06:3...   \n",
       "572418442  [2019-11-17 03:23:11+00:00, 2019-11-17 03:23:4...   \n",
       "568923316  [2019-11-08 11:10:25+00:00, 2019-11-08 11:10:4...   \n",
       "514777002  [2019-11-07 12:09:05+00:00, 2019-11-07 12:09:1...   \n",
       "\n",
       "                                                  event_type  \\\n",
       "user_id                                                        \n",
       "567023096  [view, view, view, view, view, view, view, vie...   \n",
       "544272773  [view, cart, purchase, view, cart, purchase, c...   \n",
       "572418442  [view, view, view, view, view, view, view, vie...   \n",
       "568923316  [view, view, view, view, view, view, view, vie...   \n",
       "514777002  [view, view, view, view, view, view, view, vie...   \n",
       "\n",
       "                                                  product_id  \\\n",
       "user_id                                                        \n",
       "567023096  [1004767, 1004767, 1004768, 1004768, 1004766, ...   \n",
       "544272773  [1004833, 1004833, 1004833, 1004833, 1004833, ...   \n",
       "572418442  [1307135, 45500012, 45500012, 45500021, 180191...   \n",
       "568923316  [21403299, 21403301, 21407068, 21408262, 10045...   \n",
       "514777002  [1004565, 1004565, 1004785, 1004785, 1004781, ...   \n",
       "\n",
       "                                                 category_id  \\\n",
       "user_id                                                        \n",
       "567023096  [2053013555631882655, 2053013555631882655, 205...   \n",
       "544272773  [2053013555631882655, 2053013555631882655, 205...   \n",
       "572418442  [2053013558920217191, 2109094148110811752, 210...   \n",
       "568923316  [2053013561579406073, 2053013561579406073, 205...   \n",
       "514777002  [2053013555631882655, 2053013555631882655, 205...   \n",
       "\n",
       "                                               category_code  \\\n",
       "user_id                                                        \n",
       "567023096  [electronics.smartphone, electronics.smartphon...   \n",
       "544272773  [electronics.smartphone, electronics.smartphon...   \n",
       "572418442  [computers.notebook, computers.notebook, compu...   \n",
       "568923316  [electronics.clocks, electronics.clocks, elect...   \n",
       "514777002  [electronics.smartphone, electronics.smartphon...   \n",
       "\n",
       "                                                       brand  \\\n",
       "user_id                                                        \n",
       "567023096  [samsung, samsung, samsung, samsung, samsung, ...   \n",
       "544272773  [samsung, samsung, samsung, samsung, samsung, ...   \n",
       "572418442  [hp, deepcool, deepcool, trust, samsung, samsu...   \n",
       "568923316  [adriatica, adriatica, tissot, tissot, xiaomi,...   \n",
       "514777002  [huawei, huawei, huawei, huawei, huawei, huawe...   \n",
       "\n",
       "                                                       price  \\\n",
       "user_id                                                        \n",
       "567023096  [241.89, 241.89, 242.02, 242.02, 242.13, 242.1...   \n",
       "544272773  [170.09, 170.09, 170.09, 170.09, 170.09, 170.0...   \n",
       "572418442  [262.3, 27.54, 27.54, 18.43, 1415.71, 1415.71,...   \n",
       "568923316  [137.97, 145.95, 252.26, 480.32, 514.56, 900.9...   \n",
       "514777002  [166.03, 166.03, 265.64, 265.64, 266.41, 266.4...   \n",
       "\n",
       "                                                user_session  \\\n",
       "user_id                                                        \n",
       "567023096  [95eca705-2cbe-4ea7-b728-79bf110821e9, 95eca70...   \n",
       "544272773  [81d34e1a-6793-40a5-add0-1ca3707cba69, 81d34e1...   \n",
       "572418442  [9fe3863b-02d1-4771-a46d-38c6179d2a08, 9fe3863...   \n",
       "568923316  [e23dccf4-bf4c-4c3d-86c2-e58926edbde4, 65d43dd...   \n",
       "514777002  [9828ceb5-5537-40a8-9bee-8f107238efd5, 9828ceb...   \n",
       "\n",
       "                                                       h_lvl  \\\n",
       "user_id                                                        \n",
       "567023096  [electronics, electronics, electronics, electr...   \n",
       "544272773  [electronics, electronics, electronics, electr...   \n",
       "572418442  [computers, computers, computers, computers, e...   \n",
       "568923316  [electronics, electronics, electronics, electr...   \n",
       "514777002  [electronics, electronics, electronics, electr...   \n",
       "\n",
       "                                                       l_lvl  ...  \\\n",
       "user_id                                                       ...   \n",
       "567023096  [smartphone, smartphone, smartphone, smartphon...  ...   \n",
       "544272773  [smartphone, smartphone, smartphone, smartphon...  ...   \n",
       "572418442  [notebook, notebook, notebook, notebook, video...  ...   \n",
       "568923316  [clocks, clocks, clocks, clocks, smartphone, c...  ...   \n",
       "514777002  [smartphone, smartphone, smartphone, smartphon...  ...   \n",
       "\n",
       "                                           rml_category_code  \\\n",
       "user_id                                                        \n",
       "567023096  [electronics.smartphone, electronics.smartphon...   \n",
       "544272773  [electronics.smartphone, electronics.smartphon...   \n",
       "572418442  [computers.notebook, computers.notebook, compu...   \n",
       "568923316  [electronics.clocks, electronics.clocks, elect...   \n",
       "514777002  [electronics.smartphone, electronics.smartphon...   \n",
       "\n",
       "                                                   rml_brand  \\\n",
       "user_id                                                        \n",
       "567023096  [241.89, 241.89, 242.02, 242.02, 242.13, 242.1...   \n",
       "544272773  [170.09, 170.09, 170.09, 170.09, 170.09, 170.0...   \n",
       "572418442  [262.3, 27.54, 27.54, 18.43, 1415.71, 1415.71,...   \n",
       "568923316  [137.97, 145.95, 252.26, 480.32, 514.56, 900.9...   \n",
       "514777002  [166.03, 166.03, 265.64, 265.64, 266.41, 266.4...   \n",
       "\n",
       "                                            rml_user_session  \\\n",
       "user_id                                                        \n",
       "567023096  [95eca705-2cbe-4ea7-b728-79bf110821e9, 95eca70...   \n",
       "544272773  [81d34e1a-6793-40a5-add0-1ca3707cba69, 81d34e1...   \n",
       "572418442  [9fe3863b-02d1-4771-a46d-38c6179d2a08, 9fe3863...   \n",
       "568923316  [e23dccf4-bf4c-4c3d-86c2-e58926edbde4, 65d43dd...   \n",
       "514777002  [9828ceb5-5537-40a8-9bee-8f107238efd5, 9828ceb...   \n",
       "\n",
       "                                                   rml_h_lvl  \\\n",
       "user_id                                                        \n",
       "567023096  [electronics, electronics, electronics, electr...   \n",
       "544272773  [electronics, electronics, electronics, electr...   \n",
       "572418442  [computers, computers, computers, computers, e...   \n",
       "568923316  [electronics, electronics, electronics, electr...   \n",
       "514777002  [electronics, electronics, electronics, electr...   \n",
       "\n",
       "                                                   rml_l_lvl  \\\n",
       "user_id                                                        \n",
       "567023096  [smartphone, smartphone, smartphone, smartphon...   \n",
       "544272773  [smartphone, smartphone, smartphone, smartphon...   \n",
       "572418442  [notebook, notebook, notebook, notebook, video...   \n",
       "568923316  [clocks, clocks, clocks, clocks, smartphone, c...   \n",
       "514777002  [smartphone, smartphone, smartphone, smartphon...   \n",
       "\n",
       "                                            rml_time_between  \\\n",
       "user_id                                                        \n",
       "567023096     [17.0, 15.0, 21.0, 24.0, 13.0, 31.0, 104268.0]   \n",
       "544272773           [14.0, 130.0, 57.0, 7.0, 40.0, 606509.0]   \n",
       "572418442  [33.0, 20.0, 22.0, 90.0, 74.0, 22.0, 42.0, 85....   \n",
       "568923316  [18.0, 837659.0, 27.0, 46.0, 183287.0, 49.0, 1...   \n",
       "514777002  [13.0, 5.0, 11.0, 10.0, 55.0, 11.0, 682083.0, ...   \n",
       "\n",
       "                                       product_id_new_labels  \\\n",
       "user_id                                                        \n",
       "567023096                        [0, 0, 1, 1, 2, 2, 2, 3, 3]   \n",
       "544272773                           [4, 4, 4, 4, 4, 4, 0, 0]   \n",
       "572418442               [5, 6, 6, 7, 8, 8, 9, 8, 10, 11, 12]   \n",
       "568923316               [13, 14, 15, 16, 17, 18, 19, 20, 21]   \n",
       "514777002  [22, 22, 23, 23, 24, 24, 25, 26, 27, 28, 28, 2...   \n",
       "\n",
       "                                         h_lvl_id_new_labels next_h_lvl  \\\n",
       "user_id                                                                   \n",
       "567023096                        [0, 0, 0, 0, 0, 0, 0, 0, 0]          0   \n",
       "544272773                           [0, 0, 0, 0, 0, 0, 0, 0]          0   \n",
       "572418442                  [1, 1, 1, 1, 0, 0, 0, 0, 2, 2, 3]          3   \n",
       "568923316                        [0, 0, 0, 0, 0, 0, 0, 0, 0]          0   \n",
       "514777002  [0, 0, 0, 0, 0, 0, 0, 4, 4, 4, 4, 4, 4, 4, 4, ...          6   \n",
       "\n",
       "                                     rml_h_lvl_id_new_labels  \n",
       "user_id                                                       \n",
       "567023096                           [0, 0, 0, 0, 0, 0, 0, 0]  \n",
       "544272773                              [0, 0, 0, 0, 0, 0, 0]  \n",
       "572418442                     [1, 1, 1, 1, 0, 0, 0, 0, 2, 2]  \n",
       "568923316                           [0, 0, 0, 0, 0, 0, 0, 0]  \n",
       "514777002  [0, 0, 0, 0, 0, 0, 0, 4, 4, 4, 4, 4, 4, 4, 4, ...  \n",
       "\n",
       "[5 rows x 29 columns]"
      ]
     },
     "execution_count": 345,
     "metadata": {},
     "output_type": "execute_result"
    }
   ],
   "source": [
    "df2_sample.head()"
   ]
  },
  {
   "cell_type": "code",
   "execution_count": 346,
   "metadata": {},
   "outputs": [
    {
     "name": "stdout",
     "output_type": "stream",
     "text": [
      "2021-07-05 15:09:29.789700\n",
      "2:51:03.131685\n"
     ]
    }
   ],
   "source": [
    "end = datetime.now()\n",
    "print(end)\n",
    "print(end-start)"
   ]
  },
  {
   "cell_type": "code",
   "execution_count": 347,
   "metadata": {},
   "outputs": [],
   "source": [
    "# import pyarrow as pa\n",
    "# import pyarrow.parquet as pq\n",
    "\n",
    "# df2_sample.to_csv('sample.csv', index=False)\n",
    "# table = pa.Table.from_pandas(df2_sample)\n",
    "# pq.write_to_dataset(table, 'sample.parquet')"
   ]
  },
  {
   "cell_type": "markdown",
   "metadata": {},
   "source": [
    "Functions for creating graphs only by user_id (for graph2vec)"
   ]
  },
  {
   "cell_type": "code",
   "execution_count": 348,
   "metadata": {},
   "outputs": [],
   "source": [
    "def edge_maker_sm(df, iloc_num, node_category):\n",
    "    product_id_list = df.iloc[iloc_num][node_category]\n",
    "    time_on_page = df.iloc[iloc_num]['time_between']\n",
    "#     event_type = df.iloc[iloc_num]['event_type']\n",
    "#     source_target_dict = {'source':[], 'target':[], 'weight':[0] + time_on_page, 'attributes':event_type}\n",
    "    source_target_dict = {'source':[], 'target':[], 'weight':time_on_page, 'event_type':[]}\n",
    "    \n",
    "    for i, j in enumerate(product_id_list):\n",
    "        if i == 0:\n",
    "#             source_target_dict['source'].append(f'customer_{iloc_num}')\n",
    "#             source_target_dict['target'].append(f'{product_id_list[i+1]}')\n",
    "            pass\n",
    "        else:\n",
    "            source_target_dict['source'].append(f'{product_id_list[i-1]}')\n",
    "            source_target_dict['target'].append(f'{j}')\n",
    "            source_target_dict['event_type'].append(df.iloc[iloc_num]['event_type'][i])\n",
    "    return source_target_dict\n",
    "  \n",
    "\n",
    "def node_maker_sm(df, iloc_num, node_category):\n",
    "    node_category = df.iloc[iloc_num][node_category]\n",
    "#     time_on_page = df.iloc[iloc_num]['category_id']\n",
    "#     h_lvl = df.iloc[iloc_num]['h_lvl']\n",
    "#     l_lvl = df.iloc[iloc_num]['l_lvl']\n",
    "#     user_session = df.iloc[iloc_num]['user_session']\n",
    "    \n",
    "    distinct_node_categories = [str(i) for n, i in enumerate(node_category) if i not in node_category[:n]]\n",
    "#     distinct_category_ids = [i for n, i in enumerate(category_id) if i not in category_id[:n]]\n",
    "#     distinct_h_lvls = [i for n, i in enumerate(h_lvl) if i not in h_lvl[:n]]\n",
    "#     distinct_l_lvls = [i for n, i in enumerate(l_lvl) if i not in l_lvl[:n]]\n",
    "#     distinct_user_sessions = [i for n, i in enumerate(user_session) if i not in user_session[:n]]\n",
    "    \n",
    "#     node_dict = {'id':[f'customer_{iloc_num}'] + distinct_product_ids}\n",
    "    node_dict = {'id':distinct_product_ids}\n",
    "    return node_dict"
   ]
  },
  {
   "cell_type": "code",
   "execution_count": 349,
   "metadata": {},
   "outputs": [
    {
     "data": {
      "text/plain": [
       "{'source': ['smartphone',\n",
       "  'smartphone',\n",
       "  'smartphone',\n",
       "  'smartphone',\n",
       "  'smartphone',\n",
       "  'smartphone',\n",
       "  'smartphone'],\n",
       " 'target': ['smartphone',\n",
       "  'smartphone',\n",
       "  'smartphone',\n",
       "  'smartphone',\n",
       "  'smartphone',\n",
       "  'smartphone',\n",
       "  'smartphone'],\n",
       " 'weight': [14.0, 130.0, 57.0, 7.0, 40.0, 606509.0, 65.0],\n",
       " 'event_type': ['cart',\n",
       "  'purchase',\n",
       "  'view',\n",
       "  'cart',\n",
       "  'purchase',\n",
       "  'cart',\n",
       "  'purchase']}"
      ]
     },
     "execution_count": 349,
     "metadata": {},
     "output_type": "execute_result"
    }
   ],
   "source": [
    "edge_maker_sm(df2_sample, 1, 'l_lvl')"
   ]
  },
  {
   "cell_type": "code",
   "execution_count": 350,
   "metadata": {},
   "outputs": [],
   "source": [
    "def edge_maker(df, node_category):\n",
    "    source_target_dict = {'source':[], 'target':[], 'weight':[], 'event_type':[]}\n",
    "    for x in range(len(df)):\n",
    "        product_id_list = df.iloc[x][node_category]\n",
    "        for q in df.iloc[x]['time_between']:\n",
    "            source_target_dict['weight'].append(q)\n",
    "    #     source_target_dict = {'source':[], 'target':[], 'weight':[0] + time_on_page, 'attributes':event_type}\n",
    "        \n",
    "        for i, j in enumerate(product_id_list):\n",
    "            if i == 0:\n",
    "    #             source_target_dict['source'].append(f'customer_{iloc_num}')\n",
    "    #             source_target_dict['target'].append(f'{product_id_list[i+1]}')\n",
    "                pass\n",
    "            else:\n",
    "                source_target_dict['source'].append(f'{product_id_list[i-1]}')\n",
    "                source_target_dict['target'].append(f'{j}')\n",
    "                source_target_dict['event_type'].append(df.iloc[x]['event_type'][i])\n",
    "    return source_target_dict\n",
    "\n",
    "\n",
    "def node_maker(df):\n",
    "    product_id = df.iloc[iloc_num]['product_id']\n",
    "#     time_on_page = df.iloc[iloc_num]['category_id']\n",
    "#     h_lvl = df.iloc[iloc_num]['h_lvl']\n",
    "#     l_lvl = df.iloc[iloc_num]['l_lvl']\n",
    "#     user_session = df.iloc[iloc_num]['user_session']\n",
    "    \n",
    "    distinct_product_ids = [str(i) for n, i in enumerate(product_id) if i not in product_id[:n]]\n",
    "#     distinct_category_ids = [i for n, i in enumerate(category_id) if i not in category_id[:n]]\n",
    "#     distinct_h_lvls = [i for n, i in enumerate(h_lvl) if i not in h_lvl[:n]]\n",
    "#     distinct_l_lvls = [i for n, i in enumerate(l_lvl) if i not in l_lvl[:n]]\n",
    "#     distinct_user_sessions = [i for n, i in enumerate(user_session) if i not in user_session[:n]]\n",
    "    \n",
    "#     node_dict = {'id':[f'customer_{iloc_num}'] + distinct_product_ids}\n",
    "    node_dict = {'id':distinct_product_ids}\n",
    "    return node_dict"
   ]
  },
  {
   "cell_type": "code",
   "execution_count": 351,
   "metadata": {},
   "outputs": [],
   "source": [
    "ex_dict = edge_maker(df2_sample, 'h_lvl_id_new_labels')"
   ]
  },
  {
   "cell_type": "code",
   "execution_count": 352,
   "metadata": {},
   "outputs": [
    {
     "data": {
      "text/plain": [
       "1819753"
      ]
     },
     "execution_count": 352,
     "metadata": {},
     "output_type": "execute_result"
    }
   ],
   "source": [
    "len(ex_dict['source'])"
   ]
  },
  {
   "cell_type": "code",
   "execution_count": 353,
   "metadata": {},
   "outputs": [
    {
     "data": {
      "text/plain": [
       "1819753"
      ]
     },
     "execution_count": 353,
     "metadata": {},
     "output_type": "execute_result"
    }
   ],
   "source": [
    "len(ex_dict['target'])"
   ]
  },
  {
   "cell_type": "code",
   "execution_count": 354,
   "metadata": {},
   "outputs": [
    {
     "data": {
      "text/plain": [
       "1819753"
      ]
     },
     "execution_count": 354,
     "metadata": {},
     "output_type": "execute_result"
    }
   ],
   "source": [
    "len(ex_dict['weight'])"
   ]
  },
  {
   "cell_type": "code",
   "execution_count": 355,
   "metadata": {},
   "outputs": [
    {
     "data": {
      "text/plain": [
       "1819753"
      ]
     },
     "execution_count": 355,
     "metadata": {},
     "output_type": "execute_result"
    }
   ],
   "source": [
    "len(ex_dict['event_type'])"
   ]
  },
  {
   "cell_type": "code",
   "execution_count": 356,
   "metadata": {},
   "outputs": [
    {
     "data": {
      "text/html": [
       "<div>\n",
       "<style scoped>\n",
       "    .dataframe tbody tr th:only-of-type {\n",
       "        vertical-align: middle;\n",
       "    }\n",
       "\n",
       "    .dataframe tbody tr th {\n",
       "        vertical-align: top;\n",
       "    }\n",
       "\n",
       "    .dataframe thead th {\n",
       "        text-align: right;\n",
       "    }\n",
       "</style>\n",
       "<table border=\"1\" class=\"dataframe\">\n",
       "  <thead>\n",
       "    <tr style=\"text-align: right;\">\n",
       "      <th></th>\n",
       "      <th>source</th>\n",
       "      <th>target</th>\n",
       "      <th>weight</th>\n",
       "      <th>event_type</th>\n",
       "    </tr>\n",
       "  </thead>\n",
       "  <tbody>\n",
       "    <tr>\n",
       "      <th>0</th>\n",
       "      <td>0</td>\n",
       "      <td>0</td>\n",
       "      <td>17.0</td>\n",
       "      <td>view</td>\n",
       "    </tr>\n",
       "    <tr>\n",
       "      <th>1</th>\n",
       "      <td>0</td>\n",
       "      <td>0</td>\n",
       "      <td>15.0</td>\n",
       "      <td>view</td>\n",
       "    </tr>\n",
       "    <tr>\n",
       "      <th>2</th>\n",
       "      <td>0</td>\n",
       "      <td>0</td>\n",
       "      <td>21.0</td>\n",
       "      <td>view</td>\n",
       "    </tr>\n",
       "    <tr>\n",
       "      <th>3</th>\n",
       "      <td>0</td>\n",
       "      <td>0</td>\n",
       "      <td>24.0</td>\n",
       "      <td>view</td>\n",
       "    </tr>\n",
       "    <tr>\n",
       "      <th>4</th>\n",
       "      <td>0</td>\n",
       "      <td>0</td>\n",
       "      <td>13.0</td>\n",
       "      <td>view</td>\n",
       "    </tr>\n",
       "    <tr>\n",
       "      <th>...</th>\n",
       "      <td>...</td>\n",
       "      <td>...</td>\n",
       "      <td>...</td>\n",
       "      <td>...</td>\n",
       "    </tr>\n",
       "    <tr>\n",
       "      <th>1819748</th>\n",
       "      <td>0</td>\n",
       "      <td>0</td>\n",
       "      <td>8677.0</td>\n",
       "      <td>view</td>\n",
       "    </tr>\n",
       "    <tr>\n",
       "      <th>1819749</th>\n",
       "      <td>0</td>\n",
       "      <td>0</td>\n",
       "      <td>36.0</td>\n",
       "      <td>view</td>\n",
       "    </tr>\n",
       "    <tr>\n",
       "      <th>1819750</th>\n",
       "      <td>0</td>\n",
       "      <td>0</td>\n",
       "      <td>10680.0</td>\n",
       "      <td>view</td>\n",
       "    </tr>\n",
       "    <tr>\n",
       "      <th>1819751</th>\n",
       "      <td>0</td>\n",
       "      <td>0</td>\n",
       "      <td>20066.0</td>\n",
       "      <td>view</td>\n",
       "    </tr>\n",
       "    <tr>\n",
       "      <th>1819752</th>\n",
       "      <td>0</td>\n",
       "      <td>0</td>\n",
       "      <td>44.0</td>\n",
       "      <td>view</td>\n",
       "    </tr>\n",
       "  </tbody>\n",
       "</table>\n",
       "<p>1819753 rows × 4 columns</p>\n",
       "</div>"
      ],
      "text/plain": [
       "        source target   weight event_type\n",
       "0            0      0     17.0       view\n",
       "1            0      0     15.0       view\n",
       "2            0      0     21.0       view\n",
       "3            0      0     24.0       view\n",
       "4            0      0     13.0       view\n",
       "...        ...    ...      ...        ...\n",
       "1819748      0      0   8677.0       view\n",
       "1819749      0      0     36.0       view\n",
       "1819750      0      0  10680.0       view\n",
       "1819751      0      0  20066.0       view\n",
       "1819752      0      0     44.0       view\n",
       "\n",
       "[1819753 rows x 4 columns]"
      ]
     },
     "execution_count": 356,
     "metadata": {},
     "output_type": "execute_result"
    }
   ],
   "source": [
    "edges = pd.DataFrame(edge_maker(df2_sample, 'h_lvl_id_new_labels'))\n",
    "edges"
   ]
  },
  {
   "cell_type": "code",
   "execution_count": 357,
   "metadata": {},
   "outputs": [],
   "source": [
    "# nodes = pd.DataFrame(node_maker(1), index=[node_maker(1)['id']]).drop(['id'], axis=1)\n",
    "# nodes"
   ]
  },
  {
   "cell_type": "code",
   "execution_count": 358,
   "metadata": {},
   "outputs": [],
   "source": [
    "DG = DiGraph(from_pandas_edgelist(edges))\n",
    "G = Graph(from_pandas_edgelist(edges))"
   ]
  },
  {
   "cell_type": "markdown",
   "metadata": {},
   "source": [
    "<b>The below numbers must match.</b>"
   ]
  },
  {
   "cell_type": "code",
   "execution_count": 359,
   "metadata": {},
   "outputs": [
    {
     "name": "stdout",
     "output_type": "stream",
     "text": [
      "13\n",
      "13\n"
     ]
    }
   ],
   "source": [
    "print(len(distinct_h_lvl_ids))\n",
    "print(len(DG.nodes))"
   ]
  },
  {
   "cell_type": "code",
   "execution_count": 360,
   "metadata": {},
   "outputs": [
    {
     "data": {
      "text/plain": [
       "161"
      ]
     },
     "execution_count": 360,
     "metadata": {},
     "output_type": "execute_result"
    }
   ],
   "source": [
    "len(DG.edges)"
   ]
  },
  {
   "cell_type": "code",
   "execution_count": 361,
   "metadata": {},
   "outputs": [],
   "source": [
    "# nodes = nx.draw_networkx_nodes(G, pos=nx.spring_layout(G))"
   ]
  },
  {
   "cell_type": "code",
   "execution_count": 362,
   "metadata": {},
   "outputs": [],
   "source": [
    "# nodes"
   ]
  },
  {
   "cell_type": "code",
   "execution_count": 363,
   "metadata": {},
   "outputs": [
    {
     "data": {
      "image/png": "[encoded data removed]",
      "text/plain": [
       "<Figure size 1440x1008 with 1 Axes>"
      ]
     },
     "metadata": {},
     "output_type": "display_data"
    }
   ],
   "source": [
    "plt.figure(figsize=(20, 14))\n",
    "nx.draw(DG, with_labels = True, font_size=22, font_color=\"red\")"
   ]
  },
  {
   "cell_type": "markdown",
   "metadata": {},
   "source": [
    "PageRank (PR) is an algorithm used by Google Search to rank web pages in their search engine results. PageRank is a way of measuring the importance of website pages. According to Google: PageRank works by counting the number and quality of links to a page to determine a rough estimate of how important the website is. The underlying assumption is that more important websites are likely to receive more links from other websites. (Wikipedia)"
   ]
  },
  {
   "cell_type": "code",
   "execution_count": 364,
   "metadata": {},
   "outputs": [
    {
     "data": {
      "text/plain": [
       "{'0': 0.08024064454246146,\n",
       " '1': 0.08024064454246146,\n",
       " '2': 0.08024064454246146,\n",
       " '3': 0.08024064454246146,\n",
       " '4': 0.08024064454246146,\n",
       " '5': 0.06941824759635182,\n",
       " '6': 0.08024064454246146,\n",
       " '7': 0.08024064454246146,\n",
       " '8': 0.08024064454246146,\n",
       " '9': 0.08024064454246146,\n",
       " '10': 0.07478236170910277,\n",
       " '11': 0.06941824759635182,\n",
       " '12': 0.06421534221604085}"
      ]
     },
     "execution_count": 364,
     "metadata": {},
     "output_type": "execute_result"
    }
   ],
   "source": [
    "pagerank(DG)"
   ]
  },
  {
   "cell_type": "markdown",
   "metadata": {},
   "source": [
    "Hyperlink-Induced Topic Search (HITS; also known as hubs and authorities) is a link analysis algorithm that rates Web pages, developed by Jon Kleinberg. The idea behind Hubs and Authorities stemmed from a particular insight into the creation of web pages when the Internet was originally forming; that is, certain web pages, known as hubs, served as large directories that were not actually authoritative in the information that they held, but were used as compilations of a broad catalog of information that led users direct to other authoritative pages. In other words, a good hub represents a page that pointed to many other pages, while a good authority represents a page that is linked by many different hubs. (Wikipedia)"
   ]
  },
  {
   "cell_type": "code",
   "execution_count": 365,
   "metadata": {},
   "outputs": [
    {
     "data": {
      "text/plain": [
       "({'0': 0.08027543056999793,\n",
       "  '1': 0.08027543056999793,\n",
       "  '2': 0.08027543056999793,\n",
       "  '3': 0.08027543056999793,\n",
       "  '4': 0.08027543056999793,\n",
       "  '5': 0.0696241957603743,\n",
       "  '6': 0.08027543056999793,\n",
       "  '7': 0.08027543056999793,\n",
       "  '8': 0.08027543056999793,\n",
       "  '9': 0.08027543056999793,\n",
       "  '10': 0.07521330805298623,\n",
       "  '11': 0.0696241957603743,\n",
       "  '12': 0.06305942529628364},\n",
       " {'0': 0.08027543057066913,\n",
       "  '1': 0.08027543057066913,\n",
       "  '2': 0.08027543057066913,\n",
       "  '3': 0.08027543057066913,\n",
       "  '4': 0.08027543057066913,\n",
       "  '5': 0.06962419575860597,\n",
       "  '6': 0.08027543057066913,\n",
       "  '7': 0.08027543057066913,\n",
       "  '8': 0.08027543057066913,\n",
       "  '9': 0.08027543057066913,\n",
       "  '10': 0.07521330805227727,\n",
       "  '11': 0.06962419575860598,\n",
       "  '12': 0.06305942529448864})"
      ]
     },
     "execution_count": 365,
     "metadata": {},
     "output_type": "execute_result"
    }
   ],
   "source": [
    "hits(DG)"
   ]
  },
  {
   "cell_type": "code",
   "execution_count": 366,
   "metadata": {},
   "outputs": [
    {
     "data": {
      "text/plain": [
       "(60964, 29)"
      ]
     },
     "execution_count": 366,
     "metadata": {},
     "output_type": "execute_result"
    }
   ],
   "source": [
    "df2_sample.shape"
   ]
  },
  {
   "cell_type": "code",
   "execution_count": 367,
   "metadata": {},
   "outputs": [
    {
     "data": {
      "text/html": [
       "<div>\n",
       "<style scoped>\n",
       "    .dataframe tbody tr th:only-of-type {\n",
       "        vertical-align: middle;\n",
       "    }\n",
       "\n",
       "    .dataframe tbody tr th {\n",
       "        vertical-align: top;\n",
       "    }\n",
       "\n",
       "    .dataframe thead th {\n",
       "        text-align: right;\n",
       "    }\n",
       "</style>\n",
       "<table border=\"1\" class=\"dataframe\">\n",
       "  <thead>\n",
       "    <tr style=\"text-align: right;\">\n",
       "      <th></th>\n",
       "      <th>event_time</th>\n",
       "      <th>event_type</th>\n",
       "      <th>product_id</th>\n",
       "      <th>category_id</th>\n",
       "      <th>category_code</th>\n",
       "      <th>brand</th>\n",
       "      <th>price</th>\n",
       "      <th>user_session</th>\n",
       "      <th>h_lvl</th>\n",
       "      <th>l_lvl</th>\n",
       "      <th>...</th>\n",
       "      <th>rml_category_code</th>\n",
       "      <th>rml_brand</th>\n",
       "      <th>rml_user_session</th>\n",
       "      <th>rml_h_lvl</th>\n",
       "      <th>rml_l_lvl</th>\n",
       "      <th>rml_time_between</th>\n",
       "      <th>product_id_new_labels</th>\n",
       "      <th>h_lvl_id_new_labels</th>\n",
       "      <th>next_h_lvl</th>\n",
       "      <th>rml_h_lvl_id_new_labels</th>\n",
       "    </tr>\n",
       "    <tr>\n",
       "      <th>user_id</th>\n",
       "      <th></th>\n",
       "      <th></th>\n",
       "      <th></th>\n",
       "      <th></th>\n",
       "      <th></th>\n",
       "      <th></th>\n",
       "      <th></th>\n",
       "      <th></th>\n",
       "      <th></th>\n",
       "      <th></th>\n",
       "      <th></th>\n",
       "      <th></th>\n",
       "      <th></th>\n",
       "      <th></th>\n",
       "      <th></th>\n",
       "      <th></th>\n",
       "      <th></th>\n",
       "      <th></th>\n",
       "      <th></th>\n",
       "      <th></th>\n",
       "      <th></th>\n",
       "    </tr>\n",
       "  </thead>\n",
       "  <tbody>\n",
       "    <tr>\n",
       "      <th>567023096</th>\n",
       "      <td>[2019-11-03 11:27:16+00:00, 2019-11-03 11:27:3...</td>\n",
       "      <td>[view, view, view, view, view, view, view, vie...</td>\n",
       "      <td>[1004767, 1004767, 1004768, 1004768, 1004766, ...</td>\n",
       "      <td>[2053013555631882655, 2053013555631882655, 205...</td>\n",
       "      <td>[electronics.smartphone, electronics.smartphon...</td>\n",
       "      <td>[samsung, samsung, samsung, samsung, samsung, ...</td>\n",
       "      <td>[241.89, 241.89, 242.02, 242.02, 242.13, 242.1...</td>\n",
       "      <td>[95eca705-2cbe-4ea7-b728-79bf110821e9, 95eca70...</td>\n",
       "      <td>[electronics, electronics, electronics, electr...</td>\n",
       "      <td>[smartphone, smartphone, smartphone, smartphon...</td>\n",
       "      <td>...</td>\n",
       "      <td>[electronics.smartphone, electronics.smartphon...</td>\n",
       "      <td>[241.89, 241.89, 242.02, 242.02, 242.13, 242.1...</td>\n",
       "      <td>[95eca705-2cbe-4ea7-b728-79bf110821e9, 95eca70...</td>\n",
       "      <td>[electronics, electronics, electronics, electr...</td>\n",
       "      <td>[smartphone, smartphone, smartphone, smartphon...</td>\n",
       "      <td>[17.0, 15.0, 21.0, 24.0, 13.0, 31.0, 104268.0]</td>\n",
       "      <td>[0, 0, 1, 1, 2, 2, 2, 3, 3]</td>\n",
       "      <td>[0, 0, 0, 0, 0, 0, 0, 0, 0]</td>\n",
       "      <td>0</td>\n",
       "      <td>[0, 0, 0, 0, 0, 0, 0, 0]</td>\n",
       "    </tr>\n",
       "    <tr>\n",
       "      <th>544272773</th>\n",
       "      <td>[2019-11-03 03:06:21+00:00, 2019-11-03 03:06:3...</td>\n",
       "      <td>[view, cart, purchase, view, cart, purchase, c...</td>\n",
       "      <td>[1004833, 1004833, 1004833, 1004833, 1004833, ...</td>\n",
       "      <td>[2053013555631882655, 2053013555631882655, 205...</td>\n",
       "      <td>[electronics.smartphone, electronics.smartphon...</td>\n",
       "      <td>[samsung, samsung, samsung, samsung, samsung, ...</td>\n",
       "      <td>[170.09, 170.09, 170.09, 170.09, 170.09, 170.0...</td>\n",
       "      <td>[81d34e1a-6793-40a5-add0-1ca3707cba69, 81d34e1...</td>\n",
       "      <td>[electronics, electronics, electronics, electr...</td>\n",
       "      <td>[smartphone, smartphone, smartphone, smartphon...</td>\n",
       "      <td>...</td>\n",
       "      <td>[electronics.smartphone, electronics.smartphon...</td>\n",
       "      <td>[170.09, 170.09, 170.09, 170.09, 170.09, 170.0...</td>\n",
       "      <td>[81d34e1a-6793-40a5-add0-1ca3707cba69, 81d34e1...</td>\n",
       "      <td>[electronics, electronics, electronics, electr...</td>\n",
       "      <td>[smartphone, smartphone, smartphone, smartphon...</td>\n",
       "      <td>[14.0, 130.0, 57.0, 7.0, 40.0, 606509.0]</td>\n",
       "      <td>[4, 4, 4, 4, 4, 4, 0, 0]</td>\n",
       "      <td>[0, 0, 0, 0, 0, 0, 0, 0]</td>\n",
       "      <td>0</td>\n",
       "      <td>[0, 0, 0, 0, 0, 0, 0]</td>\n",
       "    </tr>\n",
       "    <tr>\n",
       "      <th>572418442</th>\n",
       "      <td>[2019-11-17 03:23:11+00:00, 2019-11-17 03:23:4...</td>\n",
       "      <td>[view, view, view, view, view, view, view, vie...</td>\n",
       "      <td>[1307135, 45500012, 45500012, 45500021, 180191...</td>\n",
       "      <td>[2053013558920217191, 2109094148110811752, 210...</td>\n",
       "      <td>[computers.notebook, computers.notebook, compu...</td>\n",
       "      <td>[hp, deepcool, deepcool, trust, samsung, samsu...</td>\n",
       "      <td>[262.3, 27.54, 27.54, 18.43, 1415.71, 1415.71,...</td>\n",
       "      <td>[9fe3863b-02d1-4771-a46d-38c6179d2a08, 9fe3863...</td>\n",
       "      <td>[computers, computers, computers, computers, e...</td>\n",
       "      <td>[notebook, notebook, notebook, notebook, video...</td>\n",
       "      <td>...</td>\n",
       "      <td>[computers.notebook, computers.notebook, compu...</td>\n",
       "      <td>[262.3, 27.54, 27.54, 18.43, 1415.71, 1415.71,...</td>\n",
       "      <td>[9fe3863b-02d1-4771-a46d-38c6179d2a08, 9fe3863...</td>\n",
       "      <td>[computers, computers, computers, computers, e...</td>\n",
       "      <td>[notebook, notebook, notebook, notebook, video...</td>\n",
       "      <td>[33.0, 20.0, 22.0, 90.0, 74.0, 22.0, 42.0, 85....</td>\n",
       "      <td>[5, 6, 6, 7, 8, 8, 9, 8, 10, 11, 12]</td>\n",
       "      <td>[1, 1, 1, 1, 0, 0, 0, 0, 2, 2, 3]</td>\n",
       "      <td>3</td>\n",
       "      <td>[1, 1, 1, 1, 0, 0, 0, 0, 2, 2]</td>\n",
       "    </tr>\n",
       "    <tr>\n",
       "      <th>568923316</th>\n",
       "      <td>[2019-11-08 11:10:25+00:00, 2019-11-08 11:10:4...</td>\n",
       "      <td>[view, view, view, view, view, view, view, vie...</td>\n",
       "      <td>[21403299, 21403301, 21407068, 21408262, 10045...</td>\n",
       "      <td>[2053013561579406073, 2053013561579406073, 205...</td>\n",
       "      <td>[electronics.clocks, electronics.clocks, elect...</td>\n",
       "      <td>[adriatica, adriatica, tissot, tissot, xiaomi,...</td>\n",
       "      <td>[137.97, 145.95, 252.26, 480.32, 514.56, 900.9...</td>\n",
       "      <td>[e23dccf4-bf4c-4c3d-86c2-e58926edbde4, 65d43dd...</td>\n",
       "      <td>[electronics, electronics, electronics, electr...</td>\n",
       "      <td>[clocks, clocks, clocks, clocks, smartphone, c...</td>\n",
       "      <td>...</td>\n",
       "      <td>[electronics.clocks, electronics.clocks, elect...</td>\n",
       "      <td>[137.97, 145.95, 252.26, 480.32, 514.56, 900.9...</td>\n",
       "      <td>[e23dccf4-bf4c-4c3d-86c2-e58926edbde4, 65d43dd...</td>\n",
       "      <td>[electronics, electronics, electronics, electr...</td>\n",
       "      <td>[clocks, clocks, clocks, clocks, smartphone, c...</td>\n",
       "      <td>[18.0, 837659.0, 27.0, 46.0, 183287.0, 49.0, 1...</td>\n",
       "      <td>[13, 14, 15, 16, 17, 18, 19, 20, 21]</td>\n",
       "      <td>[0, 0, 0, 0, 0, 0, 0, 0, 0]</td>\n",
       "      <td>0</td>\n",
       "      <td>[0, 0, 0, 0, 0, 0, 0, 0]</td>\n",
       "    </tr>\n",
       "    <tr>\n",
       "      <th>514777002</th>\n",
       "      <td>[2019-11-07 12:09:05+00:00, 2019-11-07 12:09:1...</td>\n",
       "      <td>[view, view, view, view, view, view, view, vie...</td>\n",
       "      <td>[1004565, 1004565, 1004785, 1004785, 1004781, ...</td>\n",
       "      <td>[2053013555631882655, 2053013555631882655, 205...</td>\n",
       "      <td>[electronics.smartphone, electronics.smartphon...</td>\n",
       "      <td>[huawei, huawei, huawei, huawei, huawei, huawe...</td>\n",
       "      <td>[166.03, 166.03, 265.64, 265.64, 266.41, 266.4...</td>\n",
       "      <td>[9828ceb5-5537-40a8-9bee-8f107238efd5, 9828ceb...</td>\n",
       "      <td>[electronics, electronics, electronics, electr...</td>\n",
       "      <td>[smartphone, smartphone, smartphone, smartphon...</td>\n",
       "      <td>...</td>\n",
       "      <td>[electronics.smartphone, electronics.smartphon...</td>\n",
       "      <td>[166.03, 166.03, 265.64, 265.64, 266.41, 266.4...</td>\n",
       "      <td>[9828ceb5-5537-40a8-9bee-8f107238efd5, 9828ceb...</td>\n",
       "      <td>[electronics, electronics, electronics, electr...</td>\n",
       "      <td>[smartphone, smartphone, smartphone, smartphon...</td>\n",
       "      <td>[13.0, 5.0, 11.0, 10.0, 55.0, 11.0, 682083.0, ...</td>\n",
       "      <td>[22, 22, 23, 23, 24, 24, 25, 26, 27, 28, 28, 2...</td>\n",
       "      <td>[0, 0, 0, 0, 0, 0, 0, 4, 4, 4, 4, 4, 4, 4, 4, ...</td>\n",
       "      <td>6</td>\n",
       "      <td>[0, 0, 0, 0, 0, 0, 0, 4, 4, 4, 4, 4, 4, 4, 4, ...</td>\n",
       "    </tr>\n",
       "  </tbody>\n",
       "</table>\n",
       "<p>5 rows × 29 columns</p>\n",
       "</div>"
      ],
      "text/plain": [
       "                                                  event_time  \\\n",
       "user_id                                                        \n",
       "567023096  [2019-11-03 11:27:16+00:00, 2019-11-03 11:27:3...   \n",
       "544272773  [2019-11-03 03:06:21+00:00, 2019-11-03 03:06:3...   \n",
       "572418442  [2019-11-17 03:23:11+00:00, 2019-11-17 03:23:4...   \n",
       "568923316  [2019-11-08 11:10:25+00:00, 2019-11-08 11:10:4...   \n",
       "514777002  [2019-11-07 12:09:05+00:00, 2019-11-07 12:09:1...   \n",
       "\n",
       "                                                  event_type  \\\n",
       "user_id                                                        \n",
       "567023096  [view, view, view, view, view, view, view, vie...   \n",
       "544272773  [view, cart, purchase, view, cart, purchase, c...   \n",
       "572418442  [view, view, view, view, view, view, view, vie...   \n",
       "568923316  [view, view, view, view, view, view, view, vie...   \n",
       "514777002  [view, view, view, view, view, view, view, vie...   \n",
       "\n",
       "                                                  product_id  \\\n",
       "user_id                                                        \n",
       "567023096  [1004767, 1004767, 1004768, 1004768, 1004766, ...   \n",
       "544272773  [1004833, 1004833, 1004833, 1004833, 1004833, ...   \n",
       "572418442  [1307135, 45500012, 45500012, 45500021, 180191...   \n",
       "568923316  [21403299, 21403301, 21407068, 21408262, 10045...   \n",
       "514777002  [1004565, 1004565, 1004785, 1004785, 1004781, ...   \n",
       "\n",
       "                                                 category_id  \\\n",
       "user_id                                                        \n",
       "567023096  [2053013555631882655, 2053013555631882655, 205...   \n",
       "544272773  [2053013555631882655, 2053013555631882655, 205...   \n",
       "572418442  [2053013558920217191, 2109094148110811752, 210...   \n",
       "568923316  [2053013561579406073, 2053013561579406073, 205...   \n",
       "514777002  [2053013555631882655, 2053013555631882655, 205...   \n",
       "\n",
       "                                               category_code  \\\n",
       "user_id                                                        \n",
       "567023096  [electronics.smartphone, electronics.smartphon...   \n",
       "544272773  [electronics.smartphone, electronics.smartphon...   \n",
       "572418442  [computers.notebook, computers.notebook, compu...   \n",
       "568923316  [electronics.clocks, electronics.clocks, elect...   \n",
       "514777002  [electronics.smartphone, electronics.smartphon...   \n",
       "\n",
       "                                                       brand  \\\n",
       "user_id                                                        \n",
       "567023096  [samsung, samsung, samsung, samsung, samsung, ...   \n",
       "544272773  [samsung, samsung, samsung, samsung, samsung, ...   \n",
       "572418442  [hp, deepcool, deepcool, trust, samsung, samsu...   \n",
       "568923316  [adriatica, adriatica, tissot, tissot, xiaomi,...   \n",
       "514777002  [huawei, huawei, huawei, huawei, huawei, huawe...   \n",
       "\n",
       "                                                       price  \\\n",
       "user_id                                                        \n",
       "567023096  [241.89, 241.89, 242.02, 242.02, 242.13, 242.1...   \n",
       "544272773  [170.09, 170.09, 170.09, 170.09, 170.09, 170.0...   \n",
       "572418442  [262.3, 27.54, 27.54, 18.43, 1415.71, 1415.71,...   \n",
       "568923316  [137.97, 145.95, 252.26, 480.32, 514.56, 900.9...   \n",
       "514777002  [166.03, 166.03, 265.64, 265.64, 266.41, 266.4...   \n",
       "\n",
       "                                                user_session  \\\n",
       "user_id                                                        \n",
       "567023096  [95eca705-2cbe-4ea7-b728-79bf110821e9, 95eca70...   \n",
       "544272773  [81d34e1a-6793-40a5-add0-1ca3707cba69, 81d34e1...   \n",
       "572418442  [9fe3863b-02d1-4771-a46d-38c6179d2a08, 9fe3863...   \n",
       "568923316  [e23dccf4-bf4c-4c3d-86c2-e58926edbde4, 65d43dd...   \n",
       "514777002  [9828ceb5-5537-40a8-9bee-8f107238efd5, 9828ceb...   \n",
       "\n",
       "                                                       h_lvl  \\\n",
       "user_id                                                        \n",
       "567023096  [electronics, electronics, electronics, electr...   \n",
       "544272773  [electronics, electronics, electronics, electr...   \n",
       "572418442  [computers, computers, computers, computers, e...   \n",
       "568923316  [electronics, electronics, electronics, electr...   \n",
       "514777002  [electronics, electronics, electronics, electr...   \n",
       "\n",
       "                                                       l_lvl  ...  \\\n",
       "user_id                                                       ...   \n",
       "567023096  [smartphone, smartphone, smartphone, smartphon...  ...   \n",
       "544272773  [smartphone, smartphone, smartphone, smartphon...  ...   \n",
       "572418442  [notebook, notebook, notebook, notebook, video...  ...   \n",
       "568923316  [clocks, clocks, clocks, clocks, smartphone, c...  ...   \n",
       "514777002  [smartphone, smartphone, smartphone, smartphon...  ...   \n",
       "\n",
       "                                           rml_category_code  \\\n",
       "user_id                                                        \n",
       "567023096  [electronics.smartphone, electronics.smartphon...   \n",
       "544272773  [electronics.smartphone, electronics.smartphon...   \n",
       "572418442  [computers.notebook, computers.notebook, compu...   \n",
       "568923316  [electronics.clocks, electronics.clocks, elect...   \n",
       "514777002  [electronics.smartphone, electronics.smartphon...   \n",
       "\n",
       "                                                   rml_brand  \\\n",
       "user_id                                                        \n",
       "567023096  [241.89, 241.89, 242.02, 242.02, 242.13, 242.1...   \n",
       "544272773  [170.09, 170.09, 170.09, 170.09, 170.09, 170.0...   \n",
       "572418442  [262.3, 27.54, 27.54, 18.43, 1415.71, 1415.71,...   \n",
       "568923316  [137.97, 145.95, 252.26, 480.32, 514.56, 900.9...   \n",
       "514777002  [166.03, 166.03, 265.64, 265.64, 266.41, 266.4...   \n",
       "\n",
       "                                            rml_user_session  \\\n",
       "user_id                                                        \n",
       "567023096  [95eca705-2cbe-4ea7-b728-79bf110821e9, 95eca70...   \n",
       "544272773  [81d34e1a-6793-40a5-add0-1ca3707cba69, 81d34e1...   \n",
       "572418442  [9fe3863b-02d1-4771-a46d-38c6179d2a08, 9fe3863...   \n",
       "568923316  [e23dccf4-bf4c-4c3d-86c2-e58926edbde4, 65d43dd...   \n",
       "514777002  [9828ceb5-5537-40a8-9bee-8f107238efd5, 9828ceb...   \n",
       "\n",
       "                                                   rml_h_lvl  \\\n",
       "user_id                                                        \n",
       "567023096  [electronics, electronics, electronics, electr...   \n",
       "544272773  [electronics, electronics, electronics, electr...   \n",
       "572418442  [computers, computers, computers, computers, e...   \n",
       "568923316  [electronics, electronics, electronics, electr...   \n",
       "514777002  [electronics, electronics, electronics, electr...   \n",
       "\n",
       "                                                   rml_l_lvl  \\\n",
       "user_id                                                        \n",
       "567023096  [smartphone, smartphone, smartphone, smartphon...   \n",
       "544272773  [smartphone, smartphone, smartphone, smartphon...   \n",
       "572418442  [notebook, notebook, notebook, notebook, video...   \n",
       "568923316  [clocks, clocks, clocks, clocks, smartphone, c...   \n",
       "514777002  [smartphone, smartphone, smartphone, smartphon...   \n",
       "\n",
       "                                            rml_time_between  \\\n",
       "user_id                                                        \n",
       "567023096     [17.0, 15.0, 21.0, 24.0, 13.0, 31.0, 104268.0]   \n",
       "544272773           [14.0, 130.0, 57.0, 7.0, 40.0, 606509.0]   \n",
       "572418442  [33.0, 20.0, 22.0, 90.0, 74.0, 22.0, 42.0, 85....   \n",
       "568923316  [18.0, 837659.0, 27.0, 46.0, 183287.0, 49.0, 1...   \n",
       "514777002  [13.0, 5.0, 11.0, 10.0, 55.0, 11.0, 682083.0, ...   \n",
       "\n",
       "                                       product_id_new_labels  \\\n",
       "user_id                                                        \n",
       "567023096                        [0, 0, 1, 1, 2, 2, 2, 3, 3]   \n",
       "544272773                           [4, 4, 4, 4, 4, 4, 0, 0]   \n",
       "572418442               [5, 6, 6, 7, 8, 8, 9, 8, 10, 11, 12]   \n",
       "568923316               [13, 14, 15, 16, 17, 18, 19, 20, 21]   \n",
       "514777002  [22, 22, 23, 23, 24, 24, 25, 26, 27, 28, 28, 2...   \n",
       "\n",
       "                                         h_lvl_id_new_labels next_h_lvl  \\\n",
       "user_id                                                                   \n",
       "567023096                        [0, 0, 0, 0, 0, 0, 0, 0, 0]          0   \n",
       "544272773                           [0, 0, 0, 0, 0, 0, 0, 0]          0   \n",
       "572418442                  [1, 1, 1, 1, 0, 0, 0, 0, 2, 2, 3]          3   \n",
       "568923316                        [0, 0, 0, 0, 0, 0, 0, 0, 0]          0   \n",
       "514777002  [0, 0, 0, 0, 0, 0, 0, 4, 4, 4, 4, 4, 4, 4, 4, ...          6   \n",
       "\n",
       "                                     rml_h_lvl_id_new_labels  \n",
       "user_id                                                       \n",
       "567023096                           [0, 0, 0, 0, 0, 0, 0, 0]  \n",
       "544272773                              [0, 0, 0, 0, 0, 0, 0]  \n",
       "572418442                     [1, 1, 1, 1, 0, 0, 0, 0, 2, 2]  \n",
       "568923316                           [0, 0, 0, 0, 0, 0, 0, 0]  \n",
       "514777002  [0, 0, 0, 0, 0, 0, 0, 4, 4, 4, 4, 4, 4, 4, 4, ...  \n",
       "\n",
       "[5 rows x 29 columns]"
      ]
     },
     "execution_count": 367,
     "metadata": {},
     "output_type": "execute_result"
    }
   ],
   "source": [
    "df2_sample.head()"
   ]
  },
  {
   "cell_type": "code",
   "execution_count": 368,
   "metadata": {},
   "outputs": [
    {
     "name": "stdout",
     "output_type": "stream",
     "text": [
      "Number of random walks: 130\n"
     ]
    }
   ],
   "source": [
    "import matplotlib.pyplot as plt\n",
    "\n",
    "from sklearn.manifold import TSNE\n",
    "from sklearn.model_selection import train_test_split\n",
    "from sklearn.linear_model import LogisticRegressionCV\n",
    "from sklearn.metrics import accuracy_score\n",
    "\n",
    "import os\n",
    "import networkx as nx\n",
    "import numpy as np\n",
    "import pandas as pd\n",
    "\n",
    "from stellargraph.data import BiasedRandomWalk\n",
    "from stellargraph import StellarGraph\n",
    "from stellargraph import datasets\n",
    "from IPython.display import display, HTML\n",
    "\n",
    "G = StellarGraph.from_networkx(G)\n",
    "rw = BiasedRandomWalk(G)\n",
    "\n",
    "walks = rw.run(\n",
    "    nodes=list(G.nodes()),  # root nodes\n",
    "    length=100,  # maximum length of a random walk\n",
    "    n=10,  # number of random walks per root node\n",
    "    p=0.5,  # Defines (unormalised) probability, 1/p, of returning to source node\n",
    "    q=2.0,  # Defines (unormalised) probability, 1/q, for moving away from source node\n",
    "    weighted=True,  # indicates the walks are weighted\n",
    "    seed=42  # seed fixed for reproducibility\n",
    ")\n",
    "print(\"Number of random walks: {}\".format(len(walks)))"
   ]
  },
  {
   "cell_type": "code",
   "execution_count": 369,
   "metadata": {},
   "outputs": [
    {
     "data": {
      "text/plain": [
       "(100,)"
      ]
     },
     "execution_count": 369,
     "metadata": {},
     "output_type": "execute_result"
    }
   ],
   "source": [
    "from gensim.models import Word2Vec\n",
    "\n",
    "str_walks = [[str(n) for n in walk] for walk in walks]\n",
    "model = Word2Vec(str_walks)\n",
    "\n",
    "# The embedding vectors can be retrieved from model.wv using the node ID as key.\n",
    "model.wv[\"12\"].shape"
   ]
  },
  {
   "cell_type": "code",
   "execution_count": 370,
   "metadata": {},
   "outputs": [],
   "source": [
    "# Retrieve node embeddings and corresponding subjects\n",
    "node_ids = model.wv.index_to_key  # list of node IDs\n",
    "node_embeddings = (\n",
    "    model.wv.vectors\n",
    ")"
   ]
  },
  {
   "cell_type": "code",
   "execution_count": 371,
   "metadata": {},
   "outputs": [],
   "source": [
    "# Retrieve node embeddings and corresponding subjects\n",
    "node_ids = model.wv.index_to_key  # list of node IDs\n",
    "node_embeddings = (\n",
    "    model.wv.vectors\n",
    ")  # numpy.ndarray of size number of nodes times embeddings dimensionality\n",
    "# the gensim ordering may not match the StellarGraph one, so rearrange\n",
    "node_targets = G.nodes"
   ]
  },
  {
   "cell_type": "code",
   "execution_count": 372,
   "metadata": {},
   "outputs": [
    {
     "data": {
      "text/plain": [
       "13"
      ]
     },
     "execution_count": 372,
     "metadata": {},
     "output_type": "execute_result"
    }
   ],
   "source": [
    "len(node_embeddings)"
   ]
  },
  {
   "cell_type": "code",
   "execution_count": 373,
   "metadata": {},
   "outputs": [
    {
     "data": {
      "text/plain": [
       "array([-0.09383987,  0.09229358,  0.11214542,  0.13996224, -0.01589143,\n",
       "       -0.09945197,  0.19167122,  0.31263363, -0.31460202, -0.21919301,\n",
       "        0.13876012, -0.13908638, -0.0034195 ,  0.00427926,  0.0646738 ,\n",
       "       -0.10987447,  0.18217447,  0.04096915, -0.2247349 , -0.47607335,\n",
       "       -0.06524427, -0.02107541,  0.43455172, -0.09853956, -0.0233447 ,\n",
       "        0.0059605 , -0.10887489,  0.17263626, -0.17669503,  0.10795286,\n",
       "        0.14832911, -0.11391969,  0.08603045, -0.10437139, -0.11435515,\n",
       "        0.11369171,  0.07103816, -0.02489334, -0.09532765, -0.09856958,\n",
       "        0.07102364, -0.02180658, -0.22769006,  0.04504239,  0.07620636,\n",
       "       -0.04076438, -0.03964518,  0.03370604, -0.03510182,  0.11191343,\n",
       "        0.01634098, -0.17341074, -0.03813558, -0.06558681, -0.17793904,\n",
       "       -0.18056385, -0.0387345 , -0.15146884, -0.02427636, -0.05688516,\n",
       "       -0.03697878, -0.11788693,  0.34794292, -0.0935256 , -0.25890127,\n",
       "        0.25484064,  0.0298757 ,  0.21224469, -0.36144623, -0.03226685,\n",
       "        0.05937992,  0.3836626 ,  0.13308011,  0.1537151 ,  0.02000672,\n",
       "        0.07730635,  0.08448727,  0.0178162 , -0.10936509, -0.13974503,\n",
       "       -0.09006218, -0.07582046,  0.0120608 ,  0.14305462, -0.09034019,\n",
       "       -0.24757071,  0.14087623, -0.11979125,  0.05704591,  0.10745747,\n",
       "        0.01597982,  0.07818051,  0.01892028, -0.04742745,  0.43960845,\n",
       "        0.07835519,  0.12029349, -0.16267183,  0.18140078, -0.04770152],\n",
       "      dtype=float32)"
      ]
     },
     "execution_count": 373,
     "metadata": {},
     "output_type": "execute_result"
    }
   ],
   "source": [
    "node_embeddings[0]"
   ]
  },
  {
   "cell_type": "code",
   "execution_count": 374,
   "metadata": {},
   "outputs": [],
   "source": [
    "# Apply t-SNE transformation on node embeddings\n",
    "tsne = TSNE(n_components=2, random_state=42)\n",
    "node_embeddings_2d = tsne.fit_transform(node_embeddings)"
   ]
  },
  {
   "cell_type": "code",
   "execution_count": 375,
   "metadata": {},
   "outputs": [
    {
     "data": {
      "image/png": "[encoded data removed]",
      "text/plain": [
       "<Figure size 720x576 with 1 Axes>"
      ]
     },
     "metadata": {
      "needs_background": "light"
     },
     "output_type": "display_data"
    }
   ],
   "source": [
    "# draw the points\n",
    "alpha = 0.7\n",
    "\n",
    "plt.figure(figsize=(10, 8))\n",
    "plt.scatter(\n",
    "    node_embeddings_2d[:, 0],\n",
    "    node_embeddings_2d[:, 1],\n",
    "    cmap=\"jet\",\n",
    "    alpha=0.7,\n",
    ")\n",
    "plt.show()"
   ]
  },
  {
   "cell_type": "code",
   "execution_count": 376,
   "metadata": {},
   "outputs": [],
   "source": [
    "ex_df = pd.DataFrame({'col1':[1,1,1,1], 'col2':[2,2,2,2], 'col3':[3,3,3,3]})"
   ]
  },
  {
   "cell_type": "code",
   "execution_count": 377,
   "metadata": {},
   "outputs": [
    {
     "data": {
      "text/html": [
       "<div>\n",
       "<style scoped>\n",
       "    .dataframe tbody tr th:only-of-type {\n",
       "        vertical-align: middle;\n",
       "    }\n",
       "\n",
       "    .dataframe tbody tr th {\n",
       "        vertical-align: top;\n",
       "    }\n",
       "\n",
       "    .dataframe thead th {\n",
       "        text-align: right;\n",
       "    }\n",
       "</style>\n",
       "<table border=\"1\" class=\"dataframe\">\n",
       "  <thead>\n",
       "    <tr style=\"text-align: right;\">\n",
       "      <th></th>\n",
       "      <th>col1</th>\n",
       "      <th>col2</th>\n",
       "      <th>col3</th>\n",
       "    </tr>\n",
       "  </thead>\n",
       "  <tbody>\n",
       "    <tr>\n",
       "      <th>0</th>\n",
       "      <td>1</td>\n",
       "      <td>2</td>\n",
       "      <td>3</td>\n",
       "    </tr>\n",
       "    <tr>\n",
       "      <th>1</th>\n",
       "      <td>1</td>\n",
       "      <td>2</td>\n",
       "      <td>3</td>\n",
       "    </tr>\n",
       "    <tr>\n",
       "      <th>2</th>\n",
       "      <td>1</td>\n",
       "      <td>2</td>\n",
       "      <td>3</td>\n",
       "    </tr>\n",
       "    <tr>\n",
       "      <th>3</th>\n",
       "      <td>1</td>\n",
       "      <td>2</td>\n",
       "      <td>3</td>\n",
       "    </tr>\n",
       "  </tbody>\n",
       "</table>\n",
       "</div>"
      ],
      "text/plain": [
       "   col1  col2  col3\n",
       "0     1     2     3\n",
       "1     1     2     3\n",
       "2     1     2     3\n",
       "3     1     2     3"
      ]
     },
     "execution_count": 377,
     "metadata": {},
     "output_type": "execute_result"
    }
   ],
   "source": [
    "ex_df.head()"
   ]
  },
  {
   "cell_type": "code",
   "execution_count": 378,
   "metadata": {},
   "outputs": [
    {
     "data": {
      "text/plain": [
       "array([[1, 2, 3],\n",
       "       [1, 2, 3],\n",
       "       [1, 2, 3],\n",
       "       [1, 2, 3]], dtype=int64)"
      ]
     },
     "execution_count": 378,
     "metadata": {},
     "output_type": "execute_result"
    }
   ],
   "source": [
    "ex_df.to_numpy()"
   ]
  },
  {
   "cell_type": "code",
   "execution_count": 379,
   "metadata": {},
   "outputs": [
    {
     "data": {
      "text/plain": [
       "array([[-0.09383987,  0.09229358,  0.11214542],\n",
       "       [-0.1095097 ,  0.10403909,  0.12313724]], dtype=float32)"
      ]
     },
     "execution_count": 379,
     "metadata": {},
     "output_type": "execute_result"
    }
   ],
   "source": [
    "np.vstack((node_embeddings[0][0:3],node_embeddings[1][0:3]))"
   ]
  },
  {
   "cell_type": "code",
   "execution_count": 380,
   "metadata": {},
   "outputs": [],
   "source": [
    "# for i in xrange(10):\n",
    "#     c = np.vstack((c, np.random.randint(0, 10, 10)))\n",
    "\n"
   ]
  },
  {
   "cell_type": "code",
   "execution_count": 381,
   "metadata": {},
   "outputs": [
    {
     "data": {
      "text/plain": [
       "array([-0.09383987,  0.09229358,  0.11214542, -0.1095097 ,  0.10403909,\n",
       "        0.12313724], dtype=float32)"
      ]
     },
     "execution_count": 381,
     "metadata": {},
     "output_type": "execute_result"
    }
   ],
   "source": [
    "np.append(node_embeddings[0][0:3], node_embeddings[1][0:3])"
   ]
  },
  {
   "cell_type": "code",
   "execution_count": 382,
   "metadata": {},
   "outputs": [
    {
     "data": {
      "text/plain": [
       "3646"
      ]
     },
     "execution_count": 382,
     "metadata": {},
     "output_type": "execute_result"
    }
   ],
   "source": [
    "df2_sample['seq_num'].max()"
   ]
  },
  {
   "cell_type": "code",
   "execution_count": 383,
   "metadata": {},
   "outputs": [
    {
     "data": {
      "text/plain": [
       "7"
      ]
     },
     "execution_count": 383,
     "metadata": {},
     "output_type": "execute_result"
    }
   ],
   "source": [
    "df2_sample['seq_num'].min()"
   ]
  },
  {
   "cell_type": "code",
   "execution_count": 384,
   "metadata": {},
   "outputs": [
    {
     "data": {
      "text/plain": [
       "30.849632570041337"
      ]
     },
     "execution_count": 384,
     "metadata": {},
     "output_type": "execute_result"
    }
   ],
   "source": [
    "df2_sample['seq_num'].mean()"
   ]
  },
  {
   "cell_type": "code",
   "execution_count": 385,
   "metadata": {},
   "outputs": [
    {
     "data": {
      "text/plain": [
       "17.0"
      ]
     },
     "execution_count": 385,
     "metadata": {},
     "output_type": "execute_result"
    }
   ],
   "source": [
    "df2_sample['seq_num'].median()"
   ]
  },
  {
   "cell_type": "code",
   "execution_count": 386,
   "metadata": {},
   "outputs": [
    {
     "data": {
      "text/plain": [
       "<AxesSubplot:>"
      ]
     },
     "execution_count": 386,
     "metadata": {},
     "output_type": "execute_result"
    },
    {
     "data": {
      "image/png": "[encoded data removed]",
      "text/plain": [
       "<Figure size 432x288 with 1 Axes>"
      ]
     },
     "metadata": {
      "needs_background": "light"
     },
     "output_type": "display_data"
    }
   ],
   "source": [
    "df2_sample['seq_num'].hist()"
   ]
  },
  {
   "cell_type": "code",
   "execution_count": 387,
   "metadata": {},
   "outputs": [
    {
     "data": {
      "text/plain": [
       "Index(['event_time', 'event_type', 'product_id', 'category_id',\n",
       "       'category_code', 'brand', 'price', 'user_session', 'h_lvl', 'l_lvl',\n",
       "       'seq_num', 'time_between', 'next_event', 'next_product_id',\n",
       "       'next_time_between', 'rml_event_time', 'rml_event_type',\n",
       "       'rml_product_id', 'rml_category_id', 'rml_category_code', 'rml_brand',\n",
       "       'rml_user_session', 'rml_h_lvl', 'rml_l_lvl', 'rml_time_between',\n",
       "       'product_id_new_labels', 'h_lvl_id_new_labels', 'next_h_lvl',\n",
       "       'rml_h_lvl_id_new_labels'],\n",
       "      dtype='object')"
      ]
     },
     "execution_count": 387,
     "metadata": {},
     "output_type": "execute_result"
    }
   ],
   "source": [
    "df2_sample.columns"
   ]
  },
  {
   "cell_type": "code",
   "execution_count": 388,
   "metadata": {},
   "outputs": [
    {
     "data": {
      "text/plain": [
       "user_id\n",
       "567023096     0\n",
       "544272773     0\n",
       "572418442     3\n",
       "568923316     0\n",
       "514777002     6\n",
       "             ..\n",
       "523346839     3\n",
       "557925008     0\n",
       "512545407    10\n",
       "569753065     0\n",
       "549893206     0\n",
       "Name: next_h_lvl, Length: 60964, dtype: int64"
      ]
     },
     "execution_count": 388,
     "metadata": {},
     "output_type": "execute_result"
    }
   ],
   "source": [
    "df2_sample['next_h_lvl']"
   ]
  },
  {
   "cell_type": "code",
   "execution_count": 389,
   "metadata": {},
   "outputs": [],
   "source": [
    "cart_sample = df2_sample[df2_sample['next_event'] == 'cart']\n",
    "sample_min = cart_sample.shape[0]\n",
    "\n",
    "purchase_sample = df2_sample[df2_sample['next_event'] == 'purchase'].sample(sample_min)\n",
    "view_sample = df2_sample[df2_sample['next_event'] == 'view'].sample(sample_min)"
   ]
  },
  {
   "cell_type": "code",
   "execution_count": 390,
   "metadata": {},
   "outputs": [
    {
     "data": {
      "text/plain": [
       "2243"
      ]
     },
     "execution_count": 390,
     "metadata": {},
     "output_type": "execute_result"
    }
   ],
   "source": [
    "cart_sample.shape[0]"
   ]
  },
  {
   "cell_type": "code",
   "execution_count": 391,
   "metadata": {},
   "outputs": [],
   "source": [
    "model_sample = purchase_sample.append(cart_sample).append(view_sample).reset_index()"
   ]
  },
  {
   "cell_type": "code",
   "execution_count": 392,
   "metadata": {},
   "outputs": [
    {
     "data": {
      "text/plain": [
       "(6729, 30)"
      ]
     },
     "execution_count": 392,
     "metadata": {},
     "output_type": "execute_result"
    }
   ],
   "source": [
    "model_sample.shape"
   ]
  },
  {
   "cell_type": "code",
   "execution_count": 393,
   "metadata": {},
   "outputs": [],
   "source": [
    "y = model_sample['next_event']"
   ]
  },
  {
   "cell_type": "code",
   "execution_count": 394,
   "metadata": {},
   "outputs": [],
   "source": [
    "# def sequence_lookback_embedding_concat(embedding_list, sequence, num_lookback):\n",
    "#     array = np.nan\n",
    "#     for i in range(1,num_lookback+1):\n",
    "#         if i == 1:\n",
    "#             array = embedding_list[sequence[-i]]\n",
    "#         else:\n",
    "#             array = np.append(array, embedding_list[sequence[-i]])\n",
    "#             print(i)\n",
    "#     return array\n",
    "\n",
    "\n",
    "# for i in range(len(model_sample)):\n",
    "#     if i == 0:\n",
    "#         array = node_embeddings[model_sample.iloc[i]['next_h_lvl']]\n",
    "#     else:\n",
    "#         array = np.vstack((array,node_embeddings[model_sample.iloc[i]['next_h_lvl']]))\n",
    "                          \n",
    "# X = pd.DataFrame(array)"
   ]
  },
  {
   "cell_type": "code",
   "execution_count": 395,
   "metadata": {},
   "outputs": [],
   "source": [
    "#Fix try except statement...it breaks when there are num_lookback beyond minimum (3)\n",
    "\n",
    "\n",
    "def sequence_lookback_embedding_concat(embedding_list, sequence, num_lookback):\n",
    "    array = np.nan\n",
    "    for i in range(1,num_lookback+1):\n",
    "        if i == 1:\n",
    "            array = embedding_list[sequence[-i]]\n",
    "        else:\n",
    "            try:\n",
    "                array = np.append(array, embedding_list[sequence[-i]])\n",
    "            except IndexError:\n",
    "                array = np.append(array, embedding_list[sequence[0]])\n",
    "    return array\n",
    "\n",
    "def multi_embedding_df(df, node_embeddings, sequence_col, num_lookback):\n",
    "    for i in range(len(df)):\n",
    "        if i == 0:\n",
    "            array = sequence_lookback_embedding_concat(node_embeddings, df.iloc[0][sequence_col], num_lookback)\n",
    "        else:\n",
    "            array = np.vstack((array, sequence_lookback_embedding_concat(node_embeddings, \n",
    "                                                                         df.iloc[i][sequence_col], num_lookback)))\n",
    "    return array"
   ]
  },
  {
   "cell_type": "code",
   "execution_count": 396,
   "metadata": {},
   "outputs": [
    {
     "data": {
      "text/plain": [
       "700"
      ]
     },
     "execution_count": 396,
     "metadata": {},
     "output_type": "execute_result"
    }
   ],
   "source": [
    "len(sequence_lookback_embedding_concat(node_embeddings, model_sample.iloc[0]['h_lvl_id_new_labels'], 7))"
   ]
  },
  {
   "cell_type": "code",
   "execution_count": 397,
   "metadata": {},
   "outputs": [],
   "source": [
    "X = multi_embedding_df(model_sample, node_embeddings, 'h_lvl_id_new_labels',7)        "
   ]
  },
  {
   "cell_type": "code",
   "execution_count": 398,
   "metadata": {},
   "outputs": [
    {
     "data": {
      "text/plain": [
       "6729"
      ]
     },
     "execution_count": 398,
     "metadata": {},
     "output_type": "execute_result"
    }
   ],
   "source": [
    "len(X)"
   ]
  },
  {
   "cell_type": "code",
   "execution_count": 399,
   "metadata": {},
   "outputs": [],
   "source": [
    "# vstacked_array = np.nan\n",
    "# for i in range(len(model_sample)):\n",
    "#     array = np.nan\n",
    "#     for j, k in enumerate(model_sample.iloc[i]['rml_event_type']):\n",
    "#         if j == 0:\n",
    "#             if j == 'view':\n",
    "#                 array = np.array([1,0,0])\n",
    "#             elif j == 'purchase':\n",
    "#                 array = np.array([0,1,0])\n",
    "#             else:\n",
    "#                 array = np.array([0,0,1])\n",
    "#         elif j != 0:\n",
    "#             if j == 'view':\n",
    "#                 array = np.append(array, np.array([1,0,0]))\n",
    "#             elif j == 'purchase':\n",
    "#                 array = np.append(array, np.array([0,1,0]))\n",
    "#             else:\n",
    "#                 array = np.append(array, np.array([0,0,1]))\n",
    "#     if i == 0:\n",
    "#         vstacked_array = array\n",
    "#     else:\n",
    "#         vstacked_array = np.vstack((vstacked_array, array)) "
   ]
  },
  {
   "cell_type": "code",
   "execution_count": 400,
   "metadata": {},
   "outputs": [],
   "source": [
    "def one_hot_sequence(df, column, num_lookback):\n",
    "    stacked_listy = []\n",
    "    for i in range(len(df)):\n",
    "        one_hot_listy = []\n",
    "        for j in range(1,num_lookback+1):\n",
    "            if df.iloc[i][column][-j] == 'view':\n",
    "                one_hot_listy.append(1)\n",
    "                one_hot_listy.append(0)\n",
    "                one_hot_listy.append(0)\n",
    "            elif df.iloc[i][column][-j] == 'purchase':\n",
    "                one_hot_listy.append(0)\n",
    "                one_hot_listy.append(1)\n",
    "                one_hot_listy.append(0)\n",
    "            elif df.iloc[i][column][-j] == 'cart':\n",
    "                one_hot_listy.append(0)\n",
    "                one_hot_listy.append(0)\n",
    "                one_hot_listy.append(1)\n",
    "        stacked_listy.append(one_hot_listy)\n",
    "\n",
    "    return stacked_listy"
   ]
  },
  {
   "cell_type": "code",
   "execution_count": 401,
   "metadata": {},
   "outputs": [],
   "source": [
    "X2 = one_hot_sequence(model_sample, 'rml_event_type', 6)"
   ]
  },
  {
   "cell_type": "code",
   "execution_count": 402,
   "metadata": {},
   "outputs": [],
   "source": [
    "X3 = np.append(np.array(X), np.array(X2), axis=1)"
   ]
  },
  {
   "cell_type": "code",
   "execution_count": 403,
   "metadata": {},
   "outputs": [
    {
     "data": {
      "text/plain": [
       "(6729, 718)"
      ]
     },
     "execution_count": 403,
     "metadata": {},
     "output_type": "execute_result"
    }
   ],
   "source": [
    "X3.shape"
   ]
  },
  {
   "cell_type": "code",
   "execution_count": 404,
   "metadata": {},
   "outputs": [
    {
     "data": {
      "text/plain": [
       "LinearSVC()"
      ]
     },
     "execution_count": 404,
     "metadata": {},
     "output_type": "execute_result"
    }
   ],
   "source": [
    "from sklearn.svm import LinearSVC\n",
    "from sklearn.model_selection import train_test_split\n",
    "\n",
    "X_train, X_test, y_train, y_test = train_test_split(X3, y, test_size=0.2, random_state=42)\n",
    "\n",
    "lsvc = LinearSVC()\n",
    "lsvc.fit(X_train, y_train)"
   ]
  },
  {
   "cell_type": "code",
   "execution_count": 405,
   "metadata": {},
   "outputs": [
    {
     "data": {
      "text/plain": [
       "0.7482816273453464"
      ]
     },
     "execution_count": 405,
     "metadata": {},
     "output_type": "execute_result"
    }
   ],
   "source": [
    "lsvc.score(X_train, y_train)"
   ]
  },
  {
   "cell_type": "code",
   "execution_count": 406,
   "metadata": {},
   "outputs": [
    {
     "data": {
      "text/plain": [
       "0.7570579494799405"
      ]
     },
     "execution_count": 406,
     "metadata": {},
     "output_type": "execute_result"
    }
   ],
   "source": [
    "lsvc.score(X_test, y_test)"
   ]
  },
  {
   "cell_type": "code",
   "execution_count": 407,
   "metadata": {},
   "outputs": [],
   "source": [
    "from sklearn.decomposition import PCA\n",
    "\n",
    "pca = PCA(n_components=5)\n",
    "X_pca = pca.fit_transform(X3)"
   ]
  },
  {
   "cell_type": "code",
   "execution_count": 408,
   "metadata": {},
   "outputs": [
    {
     "data": {
      "text/plain": [
       "LinearSVC()"
      ]
     },
     "execution_count": 408,
     "metadata": {},
     "output_type": "execute_result"
    }
   ],
   "source": [
    "X_train_pca, X_test_pca, y_train_pca, y_test_pca = train_test_split(X_pca, y, test_size=0.2, random_state=42)\n",
    "\n",
    "lsvc_pca = LinearSVC()\n",
    "lsvc_pca.fit(X_train_pca, y_train_pca)"
   ]
  },
  {
   "cell_type": "code",
   "execution_count": 409,
   "metadata": {},
   "outputs": [
    {
     "data": {
      "text/plain": [
       "0.7276611554895039"
      ]
     },
     "execution_count": 409,
     "metadata": {},
     "output_type": "execute_result"
    }
   ],
   "source": [
    "lsvc_pca.score(X_train_pca, y_train)"
   ]
  },
  {
   "cell_type": "code",
   "execution_count": 410,
   "metadata": {},
   "outputs": [
    {
     "data": {
      "text/plain": [
       "0.7414561664190193"
      ]
     },
     "execution_count": 410,
     "metadata": {},
     "output_type": "execute_result"
    }
   ],
   "source": [
    "lsvc_pca.score(X_test_pca, y_test_pca)"
   ]
  },
  {
   "cell_type": "code",
   "execution_count": 411,
   "metadata": {},
   "outputs": [
    {
     "data": {
      "text/plain": [
       "0.7499535574958202"
      ]
     },
     "execution_count": 411,
     "metadata": {},
     "output_type": "execute_result"
    }
   ],
   "source": [
    "from sklearn.ensemble import GradientBoostingClassifier\n",
    "\n",
    "gbc = GradientBoostingClassifier(n_estimators=100, learning_rate=1.0, max_depth=1, random_state=0).fit(X_train, y_train)\n",
    "gbc.score(X_train, y_train)"
   ]
  },
  {
   "cell_type": "code",
   "execution_count": 412,
   "metadata": {},
   "outputs": [
    {
     "data": {
      "text/plain": [
       "0.7563150074294205"
      ]
     },
     "execution_count": 412,
     "metadata": {},
     "output_type": "execute_result"
    }
   ],
   "source": [
    "gbc.score(X_test, y_test)"
   ]
  },
  {
   "cell_type": "code",
   "execution_count": 413,
   "metadata": {},
   "outputs": [
    {
     "data": {
      "text/plain": [
       "0.7480958573286272"
      ]
     },
     "execution_count": 413,
     "metadata": {},
     "output_type": "execute_result"
    }
   ],
   "source": [
    "gbc_pca = GradientBoostingClassifier(n_estimators=100, learning_rate=1.0, max_depth=1, random_state=0) \\\n",
    ".fit(X_train_pca, y_train_pca)\n",
    "gbc_pca.score(X_train_pca, y_train_pca)"
   ]
  },
  {
   "cell_type": "code",
   "execution_count": 414,
   "metadata": {},
   "outputs": [
    {
     "data": {
      "text/plain": [
       "0.7607726597325408"
      ]
     },
     "execution_count": 414,
     "metadata": {},
     "output_type": "execute_result"
    }
   ],
   "source": [
    "gbc_pca.score(X_test_pca, y_test_pca)"
   ]
  }
 ],
 "metadata": {
  "kernelspec": {
   "display_name": "Python 3",
   "language": "python",
   "name": "python3"
  },
  "language_info": {
   "codemirror_mode": {
    "name": "ipython",
    "version": 3
   },
   "file_extension": ".py",
   "mimetype": "text/x-python",
   "name": "python",
   "nbconvert_exporter": "python",
   "pygments_lexer": "ipython3",
   "version": "3.8.5"
  }
 },
 "nbformat": 4,
 "nbformat_minor": 4
}
