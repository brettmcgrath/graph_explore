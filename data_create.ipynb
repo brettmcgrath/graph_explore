{
 "cells": [
  {
   "cell_type": "markdown",
   "metadata": {},
   "source": [
    "<h1>EDA and graph construction</h1>"
   ]
  },
  {
   "cell_type": "code",
   "execution_count": 32,
   "metadata": {},
   "outputs": [],
   "source": [
    "import pandas as pd\n",
    "import numpy as np\n",
    "from datetime import datetime\n",
    "import networkx as nx\n",
    "from networkx.convert_matrix import from_pandas_edgelist\n",
    "from networkx import DiGraph, Graph\n",
    "from networkx.drawing.nx_pylab import draw_networkx_nodes\n",
    "from networkx.algorithms.link_analysis.pagerank_alg import pagerank\n",
    "import matplotlib.pyplot as plt\n",
    "from networkx.algorithms.link_analysis.hits_alg import hits\n",
    "from karateclub import Diff2Vec, DeepWalk\n",
    "import pyarrow as pa\n",
    "import pyarrow.parquet as pq\n",
    "import matplotlib.pyplot as plt\n",
    "from sklearn.manifold import TSNE\n",
    "from sklearn.model_selection import train_test_split\n",
    "from sklearn.linear_model import LogisticRegressionCV\n",
    "from sklearn.metrics import accuracy_score\n",
    "import os\n",
    "import networkx as nx\n",
    "import numpy as np\n",
    "import pandas as pd\n",
    "from stellargraph.data import BiasedRandomWalk\n",
    "from stellargraph import StellarGraph\n",
    "from stellargraph import datasets\n",
    "from IPython.display import display, HTML\n",
    "from gensim.models import Word2Vec\n",
    "from sklearn.svm import LinearSVC\n",
    "from sklearn.model_selection import train_test_split\n",
    "from sklearn.decomposition import PCA\n",
    "from sklearn.ensemble import GradientBoostingClassifier"
   ]
  },
  {
   "cell_type": "markdown",
   "metadata": {},
   "source": [
    "<b>Create start timestamp to calculate notebook runtime at bottom</b>"
   ]
  },
  {
   "cell_type": "code",
   "execution_count": 33,
   "metadata": {},
   "outputs": [
    {
     "name": "stdout",
     "output_type": "stream",
     "text": [
      "2021-07-05 20:36:35.078967\n"
     ]
    }
   ],
   "source": [
    "start = datetime.now()\n",
    "print(start)"
   ]
  },
  {
   "cell_type": "markdown",
   "metadata": {},
   "source": [
    "<b>Read in data for November 2019. We will sample this down further later on.</b>"
   ]
  },
  {
   "cell_type": "code",
   "execution_count": 34,
   "metadata": {},
   "outputs": [],
   "source": [
    "df = pd.read_csv('../archive/2019-Nov.csv')"
   ]
  },
  {
   "cell_type": "code",
   "execution_count": 35,
   "metadata": {},
   "outputs": [
    {
     "data": {
      "text/html": [
       "<div>\n",
       "<style scoped>\n",
       "    .dataframe tbody tr th:only-of-type {\n",
       "        vertical-align: middle;\n",
       "    }\n",
       "\n",
       "    .dataframe tbody tr th {\n",
       "        vertical-align: top;\n",
       "    }\n",
       "\n",
       "    .dataframe thead th {\n",
       "        text-align: right;\n",
       "    }\n",
       "</style>\n",
       "<table border=\"1\" class=\"dataframe\">\n",
       "  <thead>\n",
       "    <tr style=\"text-align: right;\">\n",
       "      <th></th>\n",
       "      <th>event_time</th>\n",
       "      <th>event_type</th>\n",
       "      <th>product_id</th>\n",
       "      <th>category_id</th>\n",
       "      <th>category_code</th>\n",
       "      <th>brand</th>\n",
       "      <th>price</th>\n",
       "      <th>user_id</th>\n",
       "      <th>user_session</th>\n",
       "    </tr>\n",
       "  </thead>\n",
       "  <tbody>\n",
       "    <tr>\n",
       "      <th>0</th>\n",
       "      <td>2019-11-01 00:00:00 UTC</td>\n",
       "      <td>view</td>\n",
       "      <td>1003461</td>\n",
       "      <td>2053013555631882655</td>\n",
       "      <td>electronics.smartphone</td>\n",
       "      <td>xiaomi</td>\n",
       "      <td>489.07</td>\n",
       "      <td>520088904</td>\n",
       "      <td>4d3b30da-a5e4-49df-b1a8-ba5943f1dd33</td>\n",
       "    </tr>\n",
       "    <tr>\n",
       "      <th>1</th>\n",
       "      <td>2019-11-01 00:00:00 UTC</td>\n",
       "      <td>view</td>\n",
       "      <td>5000088</td>\n",
       "      <td>2053013566100866035</td>\n",
       "      <td>appliances.sewing_machine</td>\n",
       "      <td>janome</td>\n",
       "      <td>293.65</td>\n",
       "      <td>530496790</td>\n",
       "      <td>8e5f4f83-366c-4f70-860e-ca7417414283</td>\n",
       "    </tr>\n",
       "    <tr>\n",
       "      <th>2</th>\n",
       "      <td>2019-11-01 00:00:01 UTC</td>\n",
       "      <td>view</td>\n",
       "      <td>17302664</td>\n",
       "      <td>2053013553853497655</td>\n",
       "      <td>NaN</td>\n",
       "      <td>creed</td>\n",
       "      <td>28.31</td>\n",
       "      <td>561587266</td>\n",
       "      <td>755422e7-9040-477b-9bd2-6a6e8fd97387</td>\n",
       "    </tr>\n",
       "    <tr>\n",
       "      <th>3</th>\n",
       "      <td>2019-11-01 00:00:01 UTC</td>\n",
       "      <td>view</td>\n",
       "      <td>3601530</td>\n",
       "      <td>2053013563810775923</td>\n",
       "      <td>appliances.kitchen.washer</td>\n",
       "      <td>lg</td>\n",
       "      <td>712.87</td>\n",
       "      <td>518085591</td>\n",
       "      <td>3bfb58cd-7892-48cc-8020-2f17e6de6e7f</td>\n",
       "    </tr>\n",
       "    <tr>\n",
       "      <th>4</th>\n",
       "      <td>2019-11-01 00:00:01 UTC</td>\n",
       "      <td>view</td>\n",
       "      <td>1004775</td>\n",
       "      <td>2053013555631882655</td>\n",
       "      <td>electronics.smartphone</td>\n",
       "      <td>xiaomi</td>\n",
       "      <td>183.27</td>\n",
       "      <td>558856683</td>\n",
       "      <td>313628f1-68b8-460d-84f6-cec7a8796ef2</td>\n",
       "    </tr>\n",
       "  </tbody>\n",
       "</table>\n",
       "</div>"
      ],
      "text/plain": [
       "                event_time event_type  product_id          category_id  \\\n",
       "0  2019-11-01 00:00:00 UTC       view     1003461  2053013555631882655   \n",
       "1  2019-11-01 00:00:00 UTC       view     5000088  2053013566100866035   \n",
       "2  2019-11-01 00:00:01 UTC       view    17302664  2053013553853497655   \n",
       "3  2019-11-01 00:00:01 UTC       view     3601530  2053013563810775923   \n",
       "4  2019-11-01 00:00:01 UTC       view     1004775  2053013555631882655   \n",
       "\n",
       "               category_code   brand   price    user_id  \\\n",
       "0     electronics.smartphone  xiaomi  489.07  520088904   \n",
       "1  appliances.sewing_machine  janome  293.65  530496790   \n",
       "2                        NaN   creed   28.31  561587266   \n",
       "3  appliances.kitchen.washer      lg  712.87  518085591   \n",
       "4     electronics.smartphone  xiaomi  183.27  558856683   \n",
       "\n",
       "                           user_session  \n",
       "0  4d3b30da-a5e4-49df-b1a8-ba5943f1dd33  \n",
       "1  8e5f4f83-366c-4f70-860e-ca7417414283  \n",
       "2  755422e7-9040-477b-9bd2-6a6e8fd97387  \n",
       "3  3bfb58cd-7892-48cc-8020-2f17e6de6e7f  \n",
       "4  313628f1-68b8-460d-84f6-cec7a8796ef2  "
      ]
     },
     "execution_count": 35,
     "metadata": {},
     "output_type": "execute_result"
    }
   ],
   "source": [
    "df.head()"
   ]
  },
  {
   "cell_type": "code",
   "execution_count": 36,
   "metadata": {},
   "outputs": [
    {
     "data": {
      "text/plain": [
       "607517811"
      ]
     },
     "execution_count": 36,
     "metadata": {},
     "output_type": "execute_result"
    }
   ],
   "source": [
    "df.size"
   ]
  },
  {
   "cell_type": "code",
   "execution_count": 37,
   "metadata": {},
   "outputs": [
    {
     "data": {
      "text/plain": [
       "606613140"
      ]
     },
     "execution_count": 37,
     "metadata": {},
     "output_type": "execute_result"
    }
   ],
   "source": [
    "df.drop_duplicates().size"
   ]
  },
  {
   "cell_type": "code",
   "execution_count": 38,
   "metadata": {},
   "outputs": [],
   "source": [
    "df = df.drop_duplicates()"
   ]
  },
  {
   "cell_type": "code",
   "execution_count": 39,
   "metadata": {},
   "outputs": [
    {
     "data": {
      "text/plain": [
       "event_time       67401460\n",
       "event_type       67401460\n",
       "product_id       67401460\n",
       "category_id      67401460\n",
       "category_code    45530037\n",
       "brand            58186451\n",
       "price            67401460\n",
       "user_id          67401460\n",
       "user_session     67401450\n",
       "dtype: int64"
      ]
     },
     "execution_count": 39,
     "metadata": {},
     "output_type": "execute_result"
    }
   ],
   "source": [
    "df.count()"
   ]
  },
  {
   "cell_type": "code",
   "execution_count": 40,
   "metadata": {},
   "outputs": [
    {
     "data": {
      "text/html": [
       "<div>\n",
       "<style scoped>\n",
       "    .dataframe tbody tr th:only-of-type {\n",
       "        vertical-align: middle;\n",
       "    }\n",
       "\n",
       "    .dataframe tbody tr th {\n",
       "        vertical-align: top;\n",
       "    }\n",
       "\n",
       "    .dataframe thead th {\n",
       "        text-align: right;\n",
       "    }\n",
       "</style>\n",
       "<table border=\"1\" class=\"dataframe\">\n",
       "  <thead>\n",
       "    <tr style=\"text-align: right;\">\n",
       "      <th></th>\n",
       "      <th>product_id</th>\n",
       "      <th>category_id</th>\n",
       "      <th>price</th>\n",
       "      <th>user_id</th>\n",
       "    </tr>\n",
       "  </thead>\n",
       "  <tbody>\n",
       "    <tr>\n",
       "      <th>count</th>\n",
       "      <td>6.740146e+07</td>\n",
       "      <td>6.740146e+07</td>\n",
       "      <td>6.740146e+07</td>\n",
       "      <td>6.740146e+07</td>\n",
       "    </tr>\n",
       "    <tr>\n",
       "      <th>mean</th>\n",
       "      <td>1.252092e+07</td>\n",
       "      <td>2.057901e+18</td>\n",
       "      <td>2.924819e+02</td>\n",
       "      <td>5.386307e+08</td>\n",
       "    </tr>\n",
       "    <tr>\n",
       "      <th>std</th>\n",
       "      <td>1.726199e+07</td>\n",
       "      <td>2.013233e+16</td>\n",
       "      <td>3.557358e+02</td>\n",
       "      <td>2.288443e+07</td>\n",
       "    </tr>\n",
       "    <tr>\n",
       "      <th>min</th>\n",
       "      <td>1.000365e+06</td>\n",
       "      <td>2.053014e+18</td>\n",
       "      <td>0.000000e+00</td>\n",
       "      <td>1.030022e+07</td>\n",
       "    </tr>\n",
       "    <tr>\n",
       "      <th>25%</th>\n",
       "      <td>1.305996e+06</td>\n",
       "      <td>2.053014e+18</td>\n",
       "      <td>6.924000e+01</td>\n",
       "      <td>5.164735e+08</td>\n",
       "    </tr>\n",
       "    <tr>\n",
       "      <th>50%</th>\n",
       "      <td>5.100571e+06</td>\n",
       "      <td>2.053014e+18</td>\n",
       "      <td>1.657700e+02</td>\n",
       "      <td>5.350394e+08</td>\n",
       "    </tr>\n",
       "    <tr>\n",
       "      <th>75%</th>\n",
       "      <td>1.730076e+07</td>\n",
       "      <td>2.053014e+18</td>\n",
       "      <td>3.603400e+02</td>\n",
       "      <td>5.610686e+08</td>\n",
       "    </tr>\n",
       "    <tr>\n",
       "      <th>max</th>\n",
       "      <td>1.000286e+08</td>\n",
       "      <td>2.187708e+18</td>\n",
       "      <td>2.574070e+03</td>\n",
       "      <td>5.799699e+08</td>\n",
       "    </tr>\n",
       "  </tbody>\n",
       "</table>\n",
       "</div>"
      ],
      "text/plain": [
       "         product_id   category_id         price       user_id\n",
       "count  6.740146e+07  6.740146e+07  6.740146e+07  6.740146e+07\n",
       "mean   1.252092e+07  2.057901e+18  2.924819e+02  5.386307e+08\n",
       "std    1.726199e+07  2.013233e+16  3.557358e+02  2.288443e+07\n",
       "min    1.000365e+06  2.053014e+18  0.000000e+00  1.030022e+07\n",
       "25%    1.305996e+06  2.053014e+18  6.924000e+01  5.164735e+08\n",
       "50%    5.100571e+06  2.053014e+18  1.657700e+02  5.350394e+08\n",
       "75%    1.730076e+07  2.053014e+18  3.603400e+02  5.610686e+08\n",
       "max    1.000286e+08  2.187708e+18  2.574070e+03  5.799699e+08"
      ]
     },
     "execution_count": 40,
     "metadata": {},
     "output_type": "execute_result"
    }
   ],
   "source": [
    "df.describe()"
   ]
  },
  {
   "cell_type": "code",
   "execution_count": 41,
   "metadata": {},
   "outputs": [
    {
     "name": "stdout",
     "output_type": "stream",
     "text": [
      "<class 'pandas.core.frame.DataFrame'>\n",
      "Int64Index: 67401460 entries, 0 to 67501978\n",
      "Data columns (total 9 columns):\n",
      " #   Column         Dtype  \n",
      "---  ------         -----  \n",
      " 0   event_time     object \n",
      " 1   event_type     object \n",
      " 2   product_id     int64  \n",
      " 3   category_id    int64  \n",
      " 4   category_code  object \n",
      " 5   brand          object \n",
      " 6   price          float64\n",
      " 7   user_id        int64  \n",
      " 8   user_session   object \n",
      "dtypes: float64(1), int64(3), object(5)\n",
      "memory usage: 5.0+ GB\n"
     ]
    }
   ],
   "source": [
    "df.info()"
   ]
  },
  {
   "cell_type": "markdown",
   "metadata": {},
   "source": [
    "Drop null values and split category code into high-level and lower-leval category codes for use as node attributes"
   ]
  },
  {
   "cell_type": "code",
   "execution_count": 42,
   "metadata": {},
   "outputs": [],
   "source": [
    "df = df.dropna()"
   ]
  },
  {
   "cell_type": "code",
   "execution_count": 43,
   "metadata": {},
   "outputs": [],
   "source": [
    "def split_on_dot(stringy):\n",
    "    return stringy.split('.')\n",
    "\n",
    "df['event_time'] = pd.to_datetime(df['event_time'])\n",
    "df['h_lvl'] = df['category_code'].apply(lambda x: split_on_dot(x)[0])\n",
    "df['l_lvl'] = df['category_code'].apply(lambda x: split_on_dot(x)[1])"
   ]
  },
  {
   "cell_type": "code",
   "execution_count": 44,
   "metadata": {},
   "outputs": [
    {
     "data": {
      "text/plain": [
       "(42018766, 11)"
      ]
     },
     "execution_count": 44,
     "metadata": {},
     "output_type": "execute_result"
    }
   ],
   "source": [
    "df.shape"
   ]
  },
  {
   "cell_type": "code",
   "execution_count": 45,
   "metadata": {},
   "outputs": [
    {
     "name": "stdout",
     "output_type": "stream",
     "text": [
      "number unique category codes: 129\n",
      "number unique high level categories: 13\n",
      "number unique brands: 1987\n",
      "number unique event types: 3\n",
      "unique event types: ['view' 'cart' 'purchase']\n",
      "unique user ids: 2862935\n",
      "unique product ids: 69773\n"
     ]
    }
   ],
   "source": [
    "print(f'number unique category codes: {df.category_code.nunique()}')\n",
    "print(f'number unique high level categories: {df.h_lvl.nunique()}')\n",
    "print(f'number unique brands: {df.brand.nunique()}')\n",
    "print(f'number unique event types: {df.event_type.nunique()}')\n",
    "print(f'unique event types: {df.event_type.unique()}')\n",
    "print(f'unique user ids: {df.user_id.nunique()}')\n",
    "print(f'unique product ids: {df.product_id.nunique()}')"
   ]
  },
  {
   "cell_type": "code",
   "execution_count": 46,
   "metadata": {},
   "outputs": [
    {
     "data": {
      "text/plain": [
       "view        39314217\n",
       "cart         2045298\n",
       "purchase      659251\n",
       "Name: event_type, dtype: int64"
      ]
     },
     "execution_count": 46,
     "metadata": {},
     "output_type": "execute_result"
    }
   ],
   "source": [
    "df['event_type'].value_counts()"
   ]
  },
  {
   "cell_type": "code",
   "execution_count": 47,
   "metadata": {},
   "outputs": [
    {
     "data": {
      "text/html": [
       "<div>\n",
       "<style scoped>\n",
       "    .dataframe tbody tr th:only-of-type {\n",
       "        vertical-align: middle;\n",
       "    }\n",
       "\n",
       "    .dataframe tbody tr th {\n",
       "        vertical-align: top;\n",
       "    }\n",
       "\n",
       "    .dataframe thead th {\n",
       "        text-align: right;\n",
       "    }\n",
       "</style>\n",
       "<table border=\"1\" class=\"dataframe\">\n",
       "  <thead>\n",
       "    <tr style=\"text-align: right;\">\n",
       "      <th></th>\n",
       "      <th>event_time</th>\n",
       "      <th>event_type</th>\n",
       "      <th>product_id</th>\n",
       "      <th>category_id</th>\n",
       "      <th>category_code</th>\n",
       "      <th>brand</th>\n",
       "      <th>price</th>\n",
       "      <th>user_id</th>\n",
       "      <th>user_session</th>\n",
       "      <th>h_lvl</th>\n",
       "      <th>l_lvl</th>\n",
       "    </tr>\n",
       "  </thead>\n",
       "  <tbody>\n",
       "    <tr>\n",
       "      <th>0</th>\n",
       "      <td>2019-11-01 00:00:00+00:00</td>\n",
       "      <td>view</td>\n",
       "      <td>1003461</td>\n",
       "      <td>2053013555631882655</td>\n",
       "      <td>electronics.smartphone</td>\n",
       "      <td>xiaomi</td>\n",
       "      <td>489.07</td>\n",
       "      <td>520088904</td>\n",
       "      <td>4d3b30da-a5e4-49df-b1a8-ba5943f1dd33</td>\n",
       "      <td>electronics</td>\n",
       "      <td>smartphone</td>\n",
       "    </tr>\n",
       "    <tr>\n",
       "      <th>95</th>\n",
       "      <td>2019-11-01 00:00:36+00:00</td>\n",
       "      <td>view</td>\n",
       "      <td>1004184</td>\n",
       "      <td>2053013555631882655</td>\n",
       "      <td>electronics.smartphone</td>\n",
       "      <td>xiaomi</td>\n",
       "      <td>463.15</td>\n",
       "      <td>520088904</td>\n",
       "      <td>4d3b30da-a5e4-49df-b1a8-ba5943f1dd33</td>\n",
       "      <td>electronics</td>\n",
       "      <td>smartphone</td>\n",
       "    </tr>\n",
       "    <tr>\n",
       "      <th>121</th>\n",
       "      <td>2019-11-01 00:00:47+00:00</td>\n",
       "      <td>view</td>\n",
       "      <td>1003461</td>\n",
       "      <td>2053013555631882655</td>\n",
       "      <td>electronics.smartphone</td>\n",
       "      <td>xiaomi</td>\n",
       "      <td>489.07</td>\n",
       "      <td>520088904</td>\n",
       "      <td>4d3b30da-a5e4-49df-b1a8-ba5943f1dd33</td>\n",
       "      <td>electronics</td>\n",
       "      <td>smartphone</td>\n",
       "    </tr>\n",
       "    <tr>\n",
       "      <th>131</th>\n",
       "      <td>2019-11-01 00:00:50+00:00</td>\n",
       "      <td>view</td>\n",
       "      <td>1005234</td>\n",
       "      <td>2053013555631882655</td>\n",
       "      <td>electronics.smartphone</td>\n",
       "      <td>xiaomi</td>\n",
       "      <td>398.72</td>\n",
       "      <td>520088904</td>\n",
       "      <td>4d3b30da-a5e4-49df-b1a8-ba5943f1dd33</td>\n",
       "      <td>electronics</td>\n",
       "      <td>smartphone</td>\n",
       "    </tr>\n",
       "    <tr>\n",
       "      <th>263</th>\n",
       "      <td>2019-11-01 00:01:48+00:00</td>\n",
       "      <td>view</td>\n",
       "      <td>1003898</td>\n",
       "      <td>2053013555631882655</td>\n",
       "      <td>electronics.smartphone</td>\n",
       "      <td>oneplus</td>\n",
       "      <td>540.30</td>\n",
       "      <td>520088904</td>\n",
       "      <td>4d3b30da-a5e4-49df-b1a8-ba5943f1dd33</td>\n",
       "      <td>electronics</td>\n",
       "      <td>smartphone</td>\n",
       "    </tr>\n",
       "    <tr>\n",
       "      <th>329</th>\n",
       "      <td>2019-11-01 00:02:17+00:00</td>\n",
       "      <td>view</td>\n",
       "      <td>1003898</td>\n",
       "      <td>2053013555631882655</td>\n",
       "      <td>electronics.smartphone</td>\n",
       "      <td>oneplus</td>\n",
       "      <td>540.30</td>\n",
       "      <td>520088904</td>\n",
       "      <td>4d3b30da-a5e4-49df-b1a8-ba5943f1dd33</td>\n",
       "      <td>electronics</td>\n",
       "      <td>smartphone</td>\n",
       "    </tr>\n",
       "    <tr>\n",
       "      <th>352</th>\n",
       "      <td>2019-11-01 00:02:24+00:00</td>\n",
       "      <td>view</td>\n",
       "      <td>1003499</td>\n",
       "      <td>2053013555631882655</td>\n",
       "      <td>electronics.smartphone</td>\n",
       "      <td>oneplus</td>\n",
       "      <td>461.61</td>\n",
       "      <td>520088904</td>\n",
       "      <td>4d3b30da-a5e4-49df-b1a8-ba5943f1dd33</td>\n",
       "      <td>electronics</td>\n",
       "      <td>smartphone</td>\n",
       "    </tr>\n",
       "    <tr>\n",
       "      <th>397</th>\n",
       "      <td>2019-11-01 00:02:41+00:00</td>\n",
       "      <td>view</td>\n",
       "      <td>1003499</td>\n",
       "      <td>2053013555631882655</td>\n",
       "      <td>electronics.smartphone</td>\n",
       "      <td>oneplus</td>\n",
       "      <td>461.61</td>\n",
       "      <td>520088904</td>\n",
       "      <td>4d3b30da-a5e4-49df-b1a8-ba5943f1dd33</td>\n",
       "      <td>electronics</td>\n",
       "      <td>smartphone</td>\n",
       "    </tr>\n",
       "    <tr>\n",
       "      <th>416</th>\n",
       "      <td>2019-11-01 00:02:48+00:00</td>\n",
       "      <td>view</td>\n",
       "      <td>1003898</td>\n",
       "      <td>2053013555631882655</td>\n",
       "      <td>electronics.smartphone</td>\n",
       "      <td>oneplus</td>\n",
       "      <td>540.30</td>\n",
       "      <td>520088904</td>\n",
       "      <td>4d3b30da-a5e4-49df-b1a8-ba5943f1dd33</td>\n",
       "      <td>electronics</td>\n",
       "      <td>smartphone</td>\n",
       "    </tr>\n",
       "  </tbody>\n",
       "</table>\n",
       "</div>"
      ],
      "text/plain": [
       "                   event_time event_type  product_id          category_id  \\\n",
       "0   2019-11-01 00:00:00+00:00       view     1003461  2053013555631882655   \n",
       "95  2019-11-01 00:00:36+00:00       view     1004184  2053013555631882655   \n",
       "121 2019-11-01 00:00:47+00:00       view     1003461  2053013555631882655   \n",
       "131 2019-11-01 00:00:50+00:00       view     1005234  2053013555631882655   \n",
       "263 2019-11-01 00:01:48+00:00       view     1003898  2053013555631882655   \n",
       "329 2019-11-01 00:02:17+00:00       view     1003898  2053013555631882655   \n",
       "352 2019-11-01 00:02:24+00:00       view     1003499  2053013555631882655   \n",
       "397 2019-11-01 00:02:41+00:00       view     1003499  2053013555631882655   \n",
       "416 2019-11-01 00:02:48+00:00       view     1003898  2053013555631882655   \n",
       "\n",
       "              category_code    brand   price    user_id  \\\n",
       "0    electronics.smartphone   xiaomi  489.07  520088904   \n",
       "95   electronics.smartphone   xiaomi  463.15  520088904   \n",
       "121  electronics.smartphone   xiaomi  489.07  520088904   \n",
       "131  electronics.smartphone   xiaomi  398.72  520088904   \n",
       "263  electronics.smartphone  oneplus  540.30  520088904   \n",
       "329  electronics.smartphone  oneplus  540.30  520088904   \n",
       "352  electronics.smartphone  oneplus  461.61  520088904   \n",
       "397  electronics.smartphone  oneplus  461.61  520088904   \n",
       "416  electronics.smartphone  oneplus  540.30  520088904   \n",
       "\n",
       "                             user_session        h_lvl       l_lvl  \n",
       "0    4d3b30da-a5e4-49df-b1a8-ba5943f1dd33  electronics  smartphone  \n",
       "95   4d3b30da-a5e4-49df-b1a8-ba5943f1dd33  electronics  smartphone  \n",
       "121  4d3b30da-a5e4-49df-b1a8-ba5943f1dd33  electronics  smartphone  \n",
       "131  4d3b30da-a5e4-49df-b1a8-ba5943f1dd33  electronics  smartphone  \n",
       "263  4d3b30da-a5e4-49df-b1a8-ba5943f1dd33  electronics  smartphone  \n",
       "329  4d3b30da-a5e4-49df-b1a8-ba5943f1dd33  electronics  smartphone  \n",
       "352  4d3b30da-a5e4-49df-b1a8-ba5943f1dd33  electronics  smartphone  \n",
       "397  4d3b30da-a5e4-49df-b1a8-ba5943f1dd33  electronics  smartphone  \n",
       "416  4d3b30da-a5e4-49df-b1a8-ba5943f1dd33  electronics  smartphone  "
      ]
     },
     "execution_count": 47,
     "metadata": {},
     "output_type": "execute_result"
    }
   ],
   "source": [
    "df[df['user_session'] == '4d3b30da-a5e4-49df-b1a8-ba5943f1dd33']"
   ]
  },
  {
   "cell_type": "markdown",
   "metadata": {},
   "source": [
    "Aggregate data into list of sequences for use in the creation of our graph database"
   ]
  },
  {
   "cell_type": "code",
   "execution_count": 48,
   "metadata": {},
   "outputs": [],
   "source": [
    "df2 = df.groupby('user_id').agg(list)"
   ]
  },
  {
   "cell_type": "code",
   "execution_count": 49,
   "metadata": {},
   "outputs": [
    {
     "data": {
      "text/html": [
       "<div>\n",
       "<style scoped>\n",
       "    .dataframe tbody tr th:only-of-type {\n",
       "        vertical-align: middle;\n",
       "    }\n",
       "\n",
       "    .dataframe tbody tr th {\n",
       "        vertical-align: top;\n",
       "    }\n",
       "\n",
       "    .dataframe thead th {\n",
       "        text-align: right;\n",
       "    }\n",
       "</style>\n",
       "<table border=\"1\" class=\"dataframe\">\n",
       "  <thead>\n",
       "    <tr style=\"text-align: right;\">\n",
       "      <th></th>\n",
       "      <th>event_time</th>\n",
       "      <th>event_type</th>\n",
       "      <th>product_id</th>\n",
       "      <th>category_id</th>\n",
       "      <th>category_code</th>\n",
       "      <th>brand</th>\n",
       "      <th>price</th>\n",
       "      <th>user_session</th>\n",
       "      <th>h_lvl</th>\n",
       "      <th>l_lvl</th>\n",
       "    </tr>\n",
       "    <tr>\n",
       "      <th>user_id</th>\n",
       "      <th></th>\n",
       "      <th></th>\n",
       "      <th></th>\n",
       "      <th></th>\n",
       "      <th></th>\n",
       "      <th></th>\n",
       "      <th></th>\n",
       "      <th></th>\n",
       "      <th></th>\n",
       "      <th></th>\n",
       "    </tr>\n",
       "  </thead>\n",
       "  <tbody>\n",
       "    <tr>\n",
       "      <th>29515875</th>\n",
       "      <td>[2019-11-10 02:14:40+00:00, 2019-11-12 03:45:0...</td>\n",
       "      <td>[view, view, view, view, view, view, view]</td>\n",
       "      <td>[13201002, 13200026, 1802034, 1802034, 1801638...</td>\n",
       "      <td>[2053013557192163841, 2053013557192163841, 205...</td>\n",
       "      <td>[furniture.bedroom.bed, furniture.bedroom.bed,...</td>\n",
       "      <td>[stendmebel, sv, kivi, kivi, harper, harper, h...</td>\n",
       "      <td>[176.04, 100.36, 115.04, 115.04, 153.67, 153.6...</td>\n",
       "      <td>[eb6882fb-ead2-47a5-aa86-d171a2c3b6ff, 643be73...</td>\n",
       "      <td>[furniture, furniture, electronics, electronic...</td>\n",
       "      <td>[bedroom, bedroom, video, video, video, video,...</td>\n",
       "    </tr>\n",
       "    <tr>\n",
       "      <th>31198833</th>\n",
       "      <td>[2019-11-08 02:09:45+00:00, 2019-11-08 02:10:3...</td>\n",
       "      <td>[view, view, view, view, view, view, view, vie...</td>\n",
       "      <td>[1005158, 1003551, 1005158, 1004870, 1004873, ...</td>\n",
       "      <td>[2053013555631882655, 2053013555631882655, 205...</td>\n",
       "      <td>[electronics.smartphone, electronics.smartphon...</td>\n",
       "      <td>[xiaomi, xiaomi, xiaomi, samsung, samsung, sam...</td>\n",
       "      <td>[302.45, 437.59, 302.45, 267.42, 360.07, 334.3...</td>\n",
       "      <td>[b9f5a88d-09a1-4327-a129-5e4425952f71, b9f5a88...</td>\n",
       "      <td>[electronics, electronics, electronics, electr...</td>\n",
       "      <td>[smartphone, smartphone, smartphone, smartphon...</td>\n",
       "    </tr>\n",
       "    <tr>\n",
       "      <th>34916060</th>\n",
       "      <td>[2019-11-24 07:43:33+00:00]</td>\n",
       "      <td>[view]</td>\n",
       "      <td>[12600007]</td>\n",
       "      <td>[2053013554751078769]</td>\n",
       "      <td>[appliances.kitchen.grill]</td>\n",
       "      <td>[tefal]</td>\n",
       "      <td>[295.94]</td>\n",
       "      <td>[4c2709a8-e61b-4d09-a0bf-b4d8b4923d00]</td>\n",
       "      <td>[appliances]</td>\n",
       "      <td>[kitchen]</td>\n",
       "    </tr>\n",
       "    <tr>\n",
       "      <th>41798457</th>\n",
       "      <td>[2019-11-26 08:33:16+00:00]</td>\n",
       "      <td>[view]</td>\n",
       "      <td>[100017960]</td>\n",
       "      <td>[2053013555631882655]</td>\n",
       "      <td>[electronics.smartphone]</td>\n",
       "      <td>[huawei]</td>\n",
       "      <td>[945.97]</td>\n",
       "      <td>[7acfc025-a748-4dec-a2e0-5d4c54c8d8ca]</td>\n",
       "      <td>[electronics]</td>\n",
       "      <td>[smartphone]</td>\n",
       "    </tr>\n",
       "    <tr>\n",
       "      <th>62336140</th>\n",
       "      <td>[2019-11-08 15:57:37+00:00, 2019-11-08 16:00:0...</td>\n",
       "      <td>[view, view, view, view, view, view]</td>\n",
       "      <td>[28718004, 28718694, 28720700, 28718348, 28718...</td>\n",
       "      <td>[2053013565639492569, 2053013565639492569, 205...</td>\n",
       "      <td>[apparel.shoes, apparel.shoes, apparel.shoes, ...</td>\n",
       "      <td>[respect, respect, respect, respect, respect, ...</td>\n",
       "      <td>[93.44, 89.84, 102.45, 84.43, 80.83, 124.84]</td>\n",
       "      <td>[393afdaf-b61d-4dda-87ff-b8467a4201fa, 393afda...</td>\n",
       "      <td>[apparel, apparel, apparel, apparel, apparel, ...</td>\n",
       "      <td>[shoes, shoes, shoes, shoes, shoes, shoes]</td>\n",
       "    </tr>\n",
       "  </tbody>\n",
       "</table>\n",
       "</div>"
      ],
      "text/plain": [
       "                                                 event_time  \\\n",
       "user_id                                                       \n",
       "29515875  [2019-11-10 02:14:40+00:00, 2019-11-12 03:45:0...   \n",
       "31198833  [2019-11-08 02:09:45+00:00, 2019-11-08 02:10:3...   \n",
       "34916060                        [2019-11-24 07:43:33+00:00]   \n",
       "41798457                        [2019-11-26 08:33:16+00:00]   \n",
       "62336140  [2019-11-08 15:57:37+00:00, 2019-11-08 16:00:0...   \n",
       "\n",
       "                                                 event_type  \\\n",
       "user_id                                                       \n",
       "29515875         [view, view, view, view, view, view, view]   \n",
       "31198833  [view, view, view, view, view, view, view, vie...   \n",
       "34916060                                             [view]   \n",
       "41798457                                             [view]   \n",
       "62336140               [view, view, view, view, view, view]   \n",
       "\n",
       "                                                 product_id  \\\n",
       "user_id                                                       \n",
       "29515875  [13201002, 13200026, 1802034, 1802034, 1801638...   \n",
       "31198833  [1005158, 1003551, 1005158, 1004870, 1004873, ...   \n",
       "34916060                                         [12600007]   \n",
       "41798457                                        [100017960]   \n",
       "62336140  [28718004, 28718694, 28720700, 28718348, 28718...   \n",
       "\n",
       "                                                category_id  \\\n",
       "user_id                                                       \n",
       "29515875  [2053013557192163841, 2053013557192163841, 205...   \n",
       "31198833  [2053013555631882655, 2053013555631882655, 205...   \n",
       "34916060                              [2053013554751078769]   \n",
       "41798457                              [2053013555631882655]   \n",
       "62336140  [2053013565639492569, 2053013565639492569, 205...   \n",
       "\n",
       "                                              category_code  \\\n",
       "user_id                                                       \n",
       "29515875  [furniture.bedroom.bed, furniture.bedroom.bed,...   \n",
       "31198833  [electronics.smartphone, electronics.smartphon...   \n",
       "34916060                         [appliances.kitchen.grill]   \n",
       "41798457                           [electronics.smartphone]   \n",
       "62336140  [apparel.shoes, apparel.shoes, apparel.shoes, ...   \n",
       "\n",
       "                                                      brand  \\\n",
       "user_id                                                       \n",
       "29515875  [stendmebel, sv, kivi, kivi, harper, harper, h...   \n",
       "31198833  [xiaomi, xiaomi, xiaomi, samsung, samsung, sam...   \n",
       "34916060                                            [tefal]   \n",
       "41798457                                           [huawei]   \n",
       "62336140  [respect, respect, respect, respect, respect, ...   \n",
       "\n",
       "                                                      price  \\\n",
       "user_id                                                       \n",
       "29515875  [176.04, 100.36, 115.04, 115.04, 153.67, 153.6...   \n",
       "31198833  [302.45, 437.59, 302.45, 267.42, 360.07, 334.3...   \n",
       "34916060                                           [295.94]   \n",
       "41798457                                           [945.97]   \n",
       "62336140       [93.44, 89.84, 102.45, 84.43, 80.83, 124.84]   \n",
       "\n",
       "                                               user_session  \\\n",
       "user_id                                                       \n",
       "29515875  [eb6882fb-ead2-47a5-aa86-d171a2c3b6ff, 643be73...   \n",
       "31198833  [b9f5a88d-09a1-4327-a129-5e4425952f71, b9f5a88...   \n",
       "34916060             [4c2709a8-e61b-4d09-a0bf-b4d8b4923d00]   \n",
       "41798457             [7acfc025-a748-4dec-a2e0-5d4c54c8d8ca]   \n",
       "62336140  [393afdaf-b61d-4dda-87ff-b8467a4201fa, 393afda...   \n",
       "\n",
       "                                                      h_lvl  \\\n",
       "user_id                                                       \n",
       "29515875  [furniture, furniture, electronics, electronic...   \n",
       "31198833  [electronics, electronics, electronics, electr...   \n",
       "34916060                                       [appliances]   \n",
       "41798457                                      [electronics]   \n",
       "62336140  [apparel, apparel, apparel, apparel, apparel, ...   \n",
       "\n",
       "                                                      l_lvl  \n",
       "user_id                                                      \n",
       "29515875  [bedroom, bedroom, video, video, video, video,...  \n",
       "31198833  [smartphone, smartphone, smartphone, smartphon...  \n",
       "34916060                                          [kitchen]  \n",
       "41798457                                       [smartphone]  \n",
       "62336140         [shoes, shoes, shoes, shoes, shoes, shoes]  "
      ]
     },
     "execution_count": 49,
     "metadata": {},
     "output_type": "execute_result"
    }
   ],
   "source": [
    "df2.head()"
   ]
  },
  {
   "cell_type": "code",
   "execution_count": 50,
   "metadata": {},
   "outputs": [
    {
     "data": {
      "text/plain": [
       "(2862935, 10)"
      ]
     },
     "execution_count": 50,
     "metadata": {},
     "output_type": "execute_result"
    }
   ],
   "source": [
    "df2.shape"
   ]
  },
  {
   "cell_type": "markdown",
   "metadata": {},
   "source": [
    "<h2>Create training and validation sets</h2>\n",
    "Training data will be split into training and test sets and will build the graph from which embeddings are created. Validation data will be kept separate from the training of graph embeddings and serve as completely unseen data for predicting future events."
   ]
  },
  {
   "cell_type": "code",
   "execution_count": 84,
   "metadata": {},
   "outputs": [],
   "source": [
    "df2_sample = df2.sample(frac=0.2, random_state=42)\n",
    "df2_sample['seq_num'] = df2_sample['event_type'].apply(lambda x: len(x))\n",
    "df2_sample = df2_sample[df2_sample.seq_num > 6]\n",
    "\n",
    "\n",
    "training_data, validation_data = train_test_split(df2_sample, test_size=0.3, random_state=42)"
   ]
  },
  {
   "cell_type": "code",
   "execution_count": 85,
   "metadata": {},
   "outputs": [],
   "source": [
    "# distinct_product_ids = []\n",
    "# for i in range(len(training_data)):\n",
    "#     for j in training_data.iloc[i]['product_id']:\n",
    "#         if j in distinct_product_ids:\n",
    "#             pass\n",
    "#         else:\n",
    "#             distinct_product_ids.append(j)\n",
    "            \n",
    "            \n",
    "distinct_h_lvl_ids = []\n",
    "for i in range(len(training_data)):\n",
    "    for j in training_data.iloc[i]['h_lvl']:\n",
    "        if j in distinct_h_lvl_ids:\n",
    "            pass\n",
    "        else:\n",
    "            distinct_h_lvl_ids.append(j)"
   ]
  },
  {
   "cell_type": "code",
   "execution_count": 86,
   "metadata": {},
   "outputs": [],
   "source": [
    "# len(distinct_product_ids)"
   ]
  },
  {
   "cell_type": "code",
   "execution_count": 87,
   "metadata": {},
   "outputs": [],
   "source": [
    "# product_map= \\\n",
    "# {distinct_product_ids[i]:[x for x in range(0,len(distinct_product_ids))][i] for i in range(len(distinct_product_ids))}\n",
    "\n",
    "h_lvl_map= \\\n",
    "{distinct_h_lvl_ids[i]:[x for x in range(0,len(distinct_h_lvl_ids))][i] for i in range(len(distinct_h_lvl_ids))}"
   ]
  },
  {
   "cell_type": "code",
   "execution_count": 88,
   "metadata": {},
   "outputs": [
    {
     "data": {
      "text/plain": [
       "{'electronics': 0,\n",
       " 'apparel': 1,\n",
       " 'computers': 2,\n",
       " 'appliances': 3,\n",
       " 'furniture': 4,\n",
       " 'auto': 5,\n",
       " 'accessories': 6,\n",
       " 'sport': 7,\n",
       " 'construction': 8,\n",
       " 'kids': 9,\n",
       " 'stationery': 10,\n",
       " 'medicine': 11,\n",
       " 'country_yard': 12}"
      ]
     },
     "execution_count": 88,
     "metadata": {},
     "output_type": "execute_result"
    }
   ],
   "source": [
    "h_lvl_map"
   ]
  },
  {
   "cell_type": "code",
   "execution_count": 89,
   "metadata": {},
   "outputs": [
    {
     "data": {
      "text/plain": [
       "(171245, 11)"
      ]
     },
     "execution_count": 89,
     "metadata": {},
     "output_type": "execute_result"
    }
   ],
   "source": [
    "training_data.shape"
   ]
  },
  {
   "cell_type": "markdown",
   "metadata": {},
   "source": [
    "Define function to convert time sequences into length of time between one event and another as possible edge weights"
   ]
  },
  {
   "cell_type": "code",
   "execution_count": 90,
   "metadata": {},
   "outputs": [],
   "source": [
    "def time_list(listy):\n",
    "    new_listy = []\n",
    "    for i, j in enumerate(listy):\n",
    "        if i == 0:\n",
    "            pass\n",
    "        else:\n",
    "            new_listy.append((j-(listy[i-1])).total_seconds())\n",
    "    return new_listy"
   ]
  },
  {
   "cell_type": "code",
   "execution_count": 91,
   "metadata": {},
   "outputs": [
    {
     "data": {
      "text/plain": [
       "[129.0, 44.0, 22.0]"
      ]
     },
     "execution_count": 91,
     "metadata": {},
     "output_type": "execute_result"
    }
   ],
   "source": [
    "time_list(training_data.iloc[1]['event_time'])[0:3]"
   ]
  },
  {
   "cell_type": "code",
   "execution_count": 92,
   "metadata": {},
   "outputs": [
    {
     "data": {
      "text/plain": [
       "129.0"
      ]
     },
     "execution_count": 92,
     "metadata": {},
     "output_type": "execute_result"
    }
   ],
   "source": [
    "(training_data.iloc[1]['event_time'][1] - training_data.iloc[1]['event_time'][0]).total_seconds()"
   ]
  },
  {
   "cell_type": "code",
   "execution_count": 93,
   "metadata": {},
   "outputs": [],
   "source": [
    "def last_char(listy):\n",
    "    return listy[-1]\n",
    "\n",
    "def return_all_but_last(listy):\n",
    "    return listy[:-1]"
   ]
  },
  {
   "cell_type": "code",
   "execution_count": 94,
   "metadata": {},
   "outputs": [
    {
     "data": {
      "text/html": [
       "<div>\n",
       "<style scoped>\n",
       "    .dataframe tbody tr th:only-of-type {\n",
       "        vertical-align: middle;\n",
       "    }\n",
       "\n",
       "    .dataframe tbody tr th {\n",
       "        vertical-align: top;\n",
       "    }\n",
       "\n",
       "    .dataframe thead th {\n",
       "        text-align: right;\n",
       "    }\n",
       "</style>\n",
       "<table border=\"1\" class=\"dataframe\">\n",
       "  <thead>\n",
       "    <tr style=\"text-align: right;\">\n",
       "      <th></th>\n",
       "      <th>event_time</th>\n",
       "      <th>event_type</th>\n",
       "      <th>product_id</th>\n",
       "      <th>category_id</th>\n",
       "      <th>category_code</th>\n",
       "      <th>brand</th>\n",
       "      <th>price</th>\n",
       "      <th>user_session</th>\n",
       "      <th>h_lvl</th>\n",
       "      <th>l_lvl</th>\n",
       "      <th>seq_num</th>\n",
       "    </tr>\n",
       "    <tr>\n",
       "      <th>user_id</th>\n",
       "      <th></th>\n",
       "      <th></th>\n",
       "      <th></th>\n",
       "      <th></th>\n",
       "      <th></th>\n",
       "      <th></th>\n",
       "      <th></th>\n",
       "      <th></th>\n",
       "      <th></th>\n",
       "      <th></th>\n",
       "      <th></th>\n",
       "    </tr>\n",
       "  </thead>\n",
       "  <tbody>\n",
       "    <tr>\n",
       "      <th>567069554</th>\n",
       "      <td>[2019-11-08 09:42:27+00:00, 2019-11-08 09:42:4...</td>\n",
       "      <td>[view, view, view, view, view, view, view, car...</td>\n",
       "      <td>[1005115, 1005115, 1004249, 1004249, 1004250, ...</td>\n",
       "      <td>[2053013555631882655, 2053013555631882655, 205...</td>\n",
       "      <td>[electronics.smartphone, electronics.smartphon...</td>\n",
       "      <td>[apple, apple, apple, apple, apple, apple, app...</td>\n",
       "      <td>[915.08, 915.08, 739.79, 739.79, 814.56, 814.5...</td>\n",
       "      <td>[629faf75-5107-41d6-9806-123eb20676f9, 629faf7...</td>\n",
       "      <td>[electronics, electronics, electronics, electr...</td>\n",
       "      <td>[smartphone, smartphone, smartphone, smartphon...</td>\n",
       "      <td>32</td>\n",
       "    </tr>\n",
       "    <tr>\n",
       "      <th>559077481</th>\n",
       "      <td>[2019-11-12 07:48:18+00:00, 2019-11-12 07:50:2...</td>\n",
       "      <td>[view, view, view, view, view, view, cart, pur...</td>\n",
       "      <td>[4804660, 28721804, 28717827, 28703606, 287177...</td>\n",
       "      <td>[2053013554658804075, 2053013565069067197, 205...</td>\n",
       "      <td>[electronics.audio.headphone, apparel.shoes.ke...</td>\n",
       "      <td>[xiaomi, adidas, adidas, reebok, puma, reebok,...</td>\n",
       "      <td>[23.09, 102.71, 102.71, 118.15, 84.69, 118.15,...</td>\n",
       "      <td>[2fedbf73-0fcd-4c54-95b7-0fd85cb17d67, 2fedbf7...</td>\n",
       "      <td>[electronics, apparel, apparel, apparel, appar...</td>\n",
       "      <td>[audio, shoes, shoes, shoes, shoes, shoes, sho...</td>\n",
       "      <td>11</td>\n",
       "    </tr>\n",
       "  </tbody>\n",
       "</table>\n",
       "</div>"
      ],
      "text/plain": [
       "                                                  event_time  \\\n",
       "user_id                                                        \n",
       "567069554  [2019-11-08 09:42:27+00:00, 2019-11-08 09:42:4...   \n",
       "559077481  [2019-11-12 07:48:18+00:00, 2019-11-12 07:50:2...   \n",
       "\n",
       "                                                  event_type  \\\n",
       "user_id                                                        \n",
       "567069554  [view, view, view, view, view, view, view, car...   \n",
       "559077481  [view, view, view, view, view, view, cart, pur...   \n",
       "\n",
       "                                                  product_id  \\\n",
       "user_id                                                        \n",
       "567069554  [1005115, 1005115, 1004249, 1004249, 1004250, ...   \n",
       "559077481  [4804660, 28721804, 28717827, 28703606, 287177...   \n",
       "\n",
       "                                                 category_id  \\\n",
       "user_id                                                        \n",
       "567069554  [2053013555631882655, 2053013555631882655, 205...   \n",
       "559077481  [2053013554658804075, 2053013565069067197, 205...   \n",
       "\n",
       "                                               category_code  \\\n",
       "user_id                                                        \n",
       "567069554  [electronics.smartphone, electronics.smartphon...   \n",
       "559077481  [electronics.audio.headphone, apparel.shoes.ke...   \n",
       "\n",
       "                                                       brand  \\\n",
       "user_id                                                        \n",
       "567069554  [apple, apple, apple, apple, apple, apple, app...   \n",
       "559077481  [xiaomi, adidas, adidas, reebok, puma, reebok,...   \n",
       "\n",
       "                                                       price  \\\n",
       "user_id                                                        \n",
       "567069554  [915.08, 915.08, 739.79, 739.79, 814.56, 814.5...   \n",
       "559077481  [23.09, 102.71, 102.71, 118.15, 84.69, 118.15,...   \n",
       "\n",
       "                                                user_session  \\\n",
       "user_id                                                        \n",
       "567069554  [629faf75-5107-41d6-9806-123eb20676f9, 629faf7...   \n",
       "559077481  [2fedbf73-0fcd-4c54-95b7-0fd85cb17d67, 2fedbf7...   \n",
       "\n",
       "                                                       h_lvl  \\\n",
       "user_id                                                        \n",
       "567069554  [electronics, electronics, electronics, electr...   \n",
       "559077481  [electronics, apparel, apparel, apparel, appar...   \n",
       "\n",
       "                                                       l_lvl  seq_num  \n",
       "user_id                                                                \n",
       "567069554  [smartphone, smartphone, smartphone, smartphon...       32  \n",
       "559077481  [audio, shoes, shoes, shoes, shoes, shoes, sho...       11  "
      ]
     },
     "execution_count": 94,
     "metadata": {},
     "output_type": "execute_result"
    }
   ],
   "source": [
    "training_data.head(2)"
   ]
  },
  {
   "cell_type": "markdown",
   "metadata": {},
   "source": [
    "<h2>Feature engineering function</h2>"
   ]
  },
  {
   "cell_type": "code",
   "execution_count": 95,
   "metadata": {},
   "outputs": [
    {
     "name": "stderr",
     "output_type": "stream",
     "text": [
      "<ipython-input-95-00943c5b9fa6>:2: SettingWithCopyWarning: \n",
      "A value is trying to be set on a copy of a slice from a DataFrame.\n",
      "Try using .loc[row_indexer,col_indexer] = value instead\n",
      "\n",
      "See the caveats in the documentation: https://pandas.pydata.org/pandas-docs/stable/user_guide/indexing.html#returning-a-view-versus-a-copy\n",
      "  df['time_between'] = ''\n",
      "<ipython-input-95-00943c5b9fa6>:4: SettingWithCopyWarning: \n",
      "A value is trying to be set on a copy of a slice from a DataFrame.\n",
      "Try using .loc[row_indexer,col_indexer] = value instead\n",
      "\n",
      "See the caveats in the documentation: https://pandas.pydata.org/pandas-docs/stable/user_guide/indexing.html#returning-a-view-versus-a-copy\n",
      "  df['next_event'] = df['event_type'].apply(lambda x: last_char(x))\n",
      "<ipython-input-95-00943c5b9fa6>:6: SettingWithCopyWarning: \n",
      "A value is trying to be set on a copy of a slice from a DataFrame.\n",
      "Try using .loc[row_indexer,col_indexer] = value instead\n",
      "\n",
      "See the caveats in the documentation: https://pandas.pydata.org/pandas-docs/stable/user_guide/indexing.html#returning-a-view-versus-a-copy\n",
      "  df['next_time_between'] = df['product_id'].apply(lambda x: last_char(x))\n",
      "C:\\Users\\Athos\\Anaconda3\\lib\\site-packages\\pandas\\core\\indexing.py:670: SettingWithCopyWarning: \n",
      "A value is trying to be set on a copy of a slice from a DataFrame\n",
      "\n",
      "See the caveats in the documentation: https://pandas.pydata.org/pandas-docs/stable/user_guide/indexing.html#returning-a-view-versus-a-copy\n",
      "  iloc._setitem_with_indexer(indexer, value)\n",
      "<ipython-input-95-00943c5b9fa6>:12: SettingWithCopyWarning: \n",
      "A value is trying to be set on a copy of a slice from a DataFrame\n",
      "\n",
      "See the caveats in the documentation: https://pandas.pydata.org/pandas-docs/stable/user_guide/indexing.html#returning-a-view-versus-a-copy\n",
      "  df['time_between'].iloc[i] = time_list(df.iloc[i]['event_time'])\n",
      "<ipython-input-95-00943c5b9fa6>:15: SettingWithCopyWarning: \n",
      "A value is trying to be set on a copy of a slice from a DataFrame.\n",
      "Try using .loc[row_indexer,col_indexer] = value instead\n",
      "\n",
      "See the caveats in the documentation: https://pandas.pydata.org/pandas-docs/stable/user_guide/indexing.html#returning-a-view-versus-a-copy\n",
      "  df['rml_event_time'] = df['event_time'].apply(lambda x: return_all_but_last(x))\n",
      "<ipython-input-95-00943c5b9fa6>:16: SettingWithCopyWarning: \n",
      "A value is trying to be set on a copy of a slice from a DataFrame.\n",
      "Try using .loc[row_indexer,col_indexer] = value instead\n",
      "\n",
      "See the caveats in the documentation: https://pandas.pydata.org/pandas-docs/stable/user_guide/indexing.html#returning-a-view-versus-a-copy\n",
      "  df['rml_event_type'] = df['event_type'].apply(lambda x: return_all_but_last(x))\n",
      "<ipython-input-95-00943c5b9fa6>:18: SettingWithCopyWarning: \n",
      "A value is trying to be set on a copy of a slice from a DataFrame.\n",
      "Try using .loc[row_indexer,col_indexer] = value instead\n",
      "\n",
      "See the caveats in the documentation: https://pandas.pydata.org/pandas-docs/stable/user_guide/indexing.html#returning-a-view-versus-a-copy\n",
      "  df['rml_category_id'] = df['category_id'].apply(lambda x: return_all_but_last(x))\n",
      "<ipython-input-95-00943c5b9fa6>:19: SettingWithCopyWarning: \n",
      "A value is trying to be set on a copy of a slice from a DataFrame.\n",
      "Try using .loc[row_indexer,col_indexer] = value instead\n",
      "\n",
      "See the caveats in the documentation: https://pandas.pydata.org/pandas-docs/stable/user_guide/indexing.html#returning-a-view-versus-a-copy\n",
      "  df['rml_category_code'] = df['category_code'].apply(lambda x: return_all_but_last(x))\n",
      "<ipython-input-95-00943c5b9fa6>:20: SettingWithCopyWarning: \n",
      "A value is trying to be set on a copy of a slice from a DataFrame.\n",
      "Try using .loc[row_indexer,col_indexer] = value instead\n",
      "\n",
      "See the caveats in the documentation: https://pandas.pydata.org/pandas-docs/stable/user_guide/indexing.html#returning-a-view-versus-a-copy\n",
      "  df['rml_brand'] = df['price'].apply(lambda x: return_all_but_last(x))\n",
      "<ipython-input-95-00943c5b9fa6>:21: SettingWithCopyWarning: \n",
      "A value is trying to be set on a copy of a slice from a DataFrame.\n",
      "Try using .loc[row_indexer,col_indexer] = value instead\n",
      "\n",
      "See the caveats in the documentation: https://pandas.pydata.org/pandas-docs/stable/user_guide/indexing.html#returning-a-view-versus-a-copy\n",
      "  df['rml_user_session'] = df['user_session'].apply(lambda x: return_all_but_last(x))\n",
      "<ipython-input-95-00943c5b9fa6>:22: SettingWithCopyWarning: \n",
      "A value is trying to be set on a copy of a slice from a DataFrame.\n",
      "Try using .loc[row_indexer,col_indexer] = value instead\n",
      "\n",
      "See the caveats in the documentation: https://pandas.pydata.org/pandas-docs/stable/user_guide/indexing.html#returning-a-view-versus-a-copy\n",
      "  df['rml_event_time'] = df['event_time'].apply(lambda x: return_all_but_last(x))\n",
      "<ipython-input-95-00943c5b9fa6>:23: SettingWithCopyWarning: \n",
      "A value is trying to be set on a copy of a slice from a DataFrame.\n",
      "Try using .loc[row_indexer,col_indexer] = value instead\n",
      "\n",
      "See the caveats in the documentation: https://pandas.pydata.org/pandas-docs/stable/user_guide/indexing.html#returning-a-view-versus-a-copy\n",
      "  df['rml_h_lvl'] = df['h_lvl'].apply(lambda x: return_all_but_last(x))\n",
      "<ipython-input-95-00943c5b9fa6>:24: SettingWithCopyWarning: \n",
      "A value is trying to be set on a copy of a slice from a DataFrame.\n",
      "Try using .loc[row_indexer,col_indexer] = value instead\n",
      "\n",
      "See the caveats in the documentation: https://pandas.pydata.org/pandas-docs/stable/user_guide/indexing.html#returning-a-view-versus-a-copy\n",
      "  df['rml_l_lvl'] = df['l_lvl'].apply(lambda x: return_all_but_last(x))\n",
      "<ipython-input-95-00943c5b9fa6>:25: SettingWithCopyWarning: \n",
      "A value is trying to be set on a copy of a slice from a DataFrame.\n",
      "Try using .loc[row_indexer,col_indexer] = value instead\n",
      "\n",
      "See the caveats in the documentation: https://pandas.pydata.org/pandas-docs/stable/user_guide/indexing.html#returning-a-view-versus-a-copy\n",
      "  df['rml_time_between'] = df['time_between'].apply(lambda x: return_all_but_last(x))\n",
      "<ipython-input-95-00943c5b9fa6>:35: SettingWithCopyWarning: \n",
      "A value is trying to be set on a copy of a slice from a DataFrame.\n",
      "Try using .loc[row_indexer,col_indexer] = value instead\n",
      "\n",
      "See the caveats in the documentation: https://pandas.pydata.org/pandas-docs/stable/user_guide/indexing.html#returning-a-view-versus-a-copy\n",
      "  df['h_lvl_id_new_labels'] = df['h_lvl'].apply(lambda x: map_values(x, h_lvl_map))\n",
      "<ipython-input-95-00943c5b9fa6>:36: SettingWithCopyWarning: \n",
      "A value is trying to be set on a copy of a slice from a DataFrame.\n",
      "Try using .loc[row_indexer,col_indexer] = value instead\n",
      "\n",
      "See the caveats in the documentation: https://pandas.pydata.org/pandas-docs/stable/user_guide/indexing.html#returning-a-view-versus-a-copy\n",
      "  df['next_h_lvl'] = df['h_lvl_id_new_labels'].apply(lambda x: last_char(x))\n",
      "<ipython-input-95-00943c5b9fa6>:37: SettingWithCopyWarning: \n",
      "A value is trying to be set on a copy of a slice from a DataFrame.\n",
      "Try using .loc[row_indexer,col_indexer] = value instead\n",
      "\n",
      "See the caveats in the documentation: https://pandas.pydata.org/pandas-docs/stable/user_guide/indexing.html#returning-a-view-versus-a-copy\n",
      "  df['rml_h_lvl_id_new_labels'] = df['h_lvl_id_new_labels'].apply(lambda x: return_all_but_last(x))\n"
     ]
    }
   ],
   "source": [
    "def feature_engineer(df):    \n",
    "    df['time_between'] = ''\n",
    "\n",
    "    df['next_event'] = df['event_type'].apply(lambda x: last_char(x))\n",
    "#     df['next_product_id'] = df['product_id'].apply(lambda x: last_char(x))\n",
    "    df['next_time_between'] = df['product_id'].apply(lambda x: last_char(x))\n",
    "    # df['time_on_page'] = df['event_type'].apply(lambda x: time_list(x))\n",
    "\n",
    "    for i in range(len(df)):\n",
    "    #     if i % 50000 == 0:\n",
    "    #         print(i)\n",
    "        df['time_between'].iloc[i] = time_list(df.iloc[i]['event_time'])\n",
    "\n",
    "    #create RML (remove last) columns in which the last event from each sequence has been removed    \n",
    "    df['rml_event_time'] = df['event_time'].apply(lambda x: return_all_but_last(x))\n",
    "    df['rml_event_type'] = df['event_type'].apply(lambda x: return_all_but_last(x))\n",
    "#     df['rml_product_id'] = df['product_id'].apply(lambda x: return_all_but_last(x))\n",
    "    df['rml_category_id'] = df['category_id'].apply(lambda x: return_all_but_last(x))\n",
    "    df['rml_category_code'] = df['category_code'].apply(lambda x: return_all_but_last(x))\n",
    "    df['rml_brand'] = df['price'].apply(lambda x: return_all_but_last(x))\n",
    "    df['rml_user_session'] = df['user_session'].apply(lambda x: return_all_but_last(x))\n",
    "    df['rml_event_time'] = df['event_time'].apply(lambda x: return_all_but_last(x))\n",
    "    df['rml_h_lvl'] = df['h_lvl'].apply(lambda x: return_all_but_last(x))\n",
    "    df['rml_l_lvl'] = df['l_lvl'].apply(lambda x: return_all_but_last(x))\n",
    "    df['rml_time_between'] = df['time_between'].apply(lambda x: return_all_but_last(x))\n",
    "\n",
    "\n",
    "    def map_values(listy, label_map):\n",
    "        listy2 = []\n",
    "        for i in listy:\n",
    "            listy2.append(int(label_map[i]))\n",
    "        return listy2\n",
    "\n",
    "#     df['product_id_new_labels'] = df['product_id'].apply(lambda x: map_values(x, product_map))\n",
    "    df['h_lvl_id_new_labels'] = df['h_lvl'].apply(lambda x: map_values(x, h_lvl_map))\n",
    "    df['next_h_lvl'] = df['h_lvl_id_new_labels'].apply(lambda x: last_char(x))\n",
    "    df['rml_h_lvl_id_new_labels'] = df['h_lvl_id_new_labels'].apply(lambda x: return_all_but_last(x))\n",
    "    \n",
    "    return df\n",
    "    \n",
    "    \n",
    "training_data = feature_engineer(training_data)\n",
    "validation_data = feature_engineer(validation_data)"
   ]
  },
  {
   "cell_type": "code",
   "execution_count": 96,
   "metadata": {},
   "outputs": [
    {
     "data": {
      "text/html": [
       "<div>\n",
       "<style scoped>\n",
       "    .dataframe tbody tr th:only-of-type {\n",
       "        vertical-align: middle;\n",
       "    }\n",
       "\n",
       "    .dataframe tbody tr th {\n",
       "        vertical-align: top;\n",
       "    }\n",
       "\n",
       "    .dataframe thead th {\n",
       "        text-align: right;\n",
       "    }\n",
       "</style>\n",
       "<table border=\"1\" class=\"dataframe\">\n",
       "  <thead>\n",
       "    <tr style=\"text-align: right;\">\n",
       "      <th></th>\n",
       "      <th>event_time</th>\n",
       "      <th>event_type</th>\n",
       "      <th>product_id</th>\n",
       "      <th>category_id</th>\n",
       "      <th>category_code</th>\n",
       "      <th>brand</th>\n",
       "      <th>price</th>\n",
       "      <th>user_session</th>\n",
       "      <th>h_lvl</th>\n",
       "      <th>l_lvl</th>\n",
       "      <th>...</th>\n",
       "      <th>rml_category_id</th>\n",
       "      <th>rml_category_code</th>\n",
       "      <th>rml_brand</th>\n",
       "      <th>rml_user_session</th>\n",
       "      <th>rml_h_lvl</th>\n",
       "      <th>rml_l_lvl</th>\n",
       "      <th>rml_time_between</th>\n",
       "      <th>h_lvl_id_new_labels</th>\n",
       "      <th>next_h_lvl</th>\n",
       "      <th>rml_h_lvl_id_new_labels</th>\n",
       "    </tr>\n",
       "    <tr>\n",
       "      <th>user_id</th>\n",
       "      <th></th>\n",
       "      <th></th>\n",
       "      <th></th>\n",
       "      <th></th>\n",
       "      <th></th>\n",
       "      <th></th>\n",
       "      <th></th>\n",
       "      <th></th>\n",
       "      <th></th>\n",
       "      <th></th>\n",
       "      <th></th>\n",
       "      <th></th>\n",
       "      <th></th>\n",
       "      <th></th>\n",
       "      <th></th>\n",
       "      <th></th>\n",
       "      <th></th>\n",
       "      <th></th>\n",
       "      <th></th>\n",
       "      <th></th>\n",
       "      <th></th>\n",
       "    </tr>\n",
       "  </thead>\n",
       "  <tbody>\n",
       "    <tr>\n",
       "      <th>567069554</th>\n",
       "      <td>[2019-11-08 09:42:27+00:00, 2019-11-08 09:42:4...</td>\n",
       "      <td>[view, view, view, view, view, view, view, car...</td>\n",
       "      <td>[1005115, 1005115, 1004249, 1004249, 1004250, ...</td>\n",
       "      <td>[2053013555631882655, 2053013555631882655, 205...</td>\n",
       "      <td>[electronics.smartphone, electronics.smartphon...</td>\n",
       "      <td>[apple, apple, apple, apple, apple, apple, app...</td>\n",
       "      <td>[915.08, 915.08, 739.79, 739.79, 814.56, 814.5...</td>\n",
       "      <td>[629faf75-5107-41d6-9806-123eb20676f9, 629faf7...</td>\n",
       "      <td>[electronics, electronics, electronics, electr...</td>\n",
       "      <td>[smartphone, smartphone, smartphone, smartphon...</td>\n",
       "      <td>...</td>\n",
       "      <td>[2053013555631882655, 2053013555631882655, 205...</td>\n",
       "      <td>[electronics.smartphone, electronics.smartphon...</td>\n",
       "      <td>[915.08, 915.08, 739.79, 739.79, 814.56, 814.5...</td>\n",
       "      <td>[629faf75-5107-41d6-9806-123eb20676f9, 629faf7...</td>\n",
       "      <td>[electronics, electronics, electronics, electr...</td>\n",
       "      <td>[smartphone, smartphone, smartphone, smartphon...</td>\n",
       "      <td>[14.0, 30.0, 8.0, 11.0, 10.0, 10.0, 8.0, 6.0, ...</td>\n",
       "      <td>[0, 0, 0, 0, 0, 0, 0, 0, 0, 0, 0, 0, 0, 0, 0, ...</td>\n",
       "      <td>0</td>\n",
       "      <td>[0, 0, 0, 0, 0, 0, 0, 0, 0, 0, 0, 0, 0, 0, 0, ...</td>\n",
       "    </tr>\n",
       "    <tr>\n",
       "      <th>559077481</th>\n",
       "      <td>[2019-11-12 07:48:18+00:00, 2019-11-12 07:50:2...</td>\n",
       "      <td>[view, view, view, view, view, view, cart, pur...</td>\n",
       "      <td>[4804660, 28721804, 28717827, 28703606, 287177...</td>\n",
       "      <td>[2053013554658804075, 2053013565069067197, 205...</td>\n",
       "      <td>[electronics.audio.headphone, apparel.shoes.ke...</td>\n",
       "      <td>[xiaomi, adidas, adidas, reebok, puma, reebok,...</td>\n",
       "      <td>[23.09, 102.71, 102.71, 118.15, 84.69, 118.15,...</td>\n",
       "      <td>[2fedbf73-0fcd-4c54-95b7-0fd85cb17d67, 2fedbf7...</td>\n",
       "      <td>[electronics, apparel, apparel, apparel, appar...</td>\n",
       "      <td>[audio, shoes, shoes, shoes, shoes, shoes, sho...</td>\n",
       "      <td>...</td>\n",
       "      <td>[2053013554658804075, 2053013565069067197, 205...</td>\n",
       "      <td>[electronics.audio.headphone, apparel.shoes.ke...</td>\n",
       "      <td>[23.09, 102.71, 102.71, 118.15, 84.69, 118.15,...</td>\n",
       "      <td>[2fedbf73-0fcd-4c54-95b7-0fd85cb17d67, 2fedbf7...</td>\n",
       "      <td>[electronics, apparel, apparel, apparel, appar...</td>\n",
       "      <td>[audio, shoes, shoes, shoes, shoes, shoes, sho...</td>\n",
       "      <td>[129.0, 44.0, 22.0, 77.0, 23.0, 30.0, 137.0, 3...</td>\n",
       "      <td>[0, 1, 1, 1, 1, 1, 1, 1, 1, 1, 1]</td>\n",
       "      <td>1</td>\n",
       "      <td>[0, 1, 1, 1, 1, 1, 1, 1, 1, 1]</td>\n",
       "    </tr>\n",
       "    <tr>\n",
       "      <th>513711707</th>\n",
       "      <td>[2019-11-13 10:32:21+00:00, 2019-11-15 10:04:2...</td>\n",
       "      <td>[view, view, view, view, view, view, view, view]</td>\n",
       "      <td>[1005284, 1801766, 1801631, 1801631, 1801785, ...</td>\n",
       "      <td>[2053013555631882655, 2053013554415534427, 205...</td>\n",
       "      <td>[electronics.smartphone, electronics.video.tv,...</td>\n",
       "      <td>[samsung, artel, artel, artel, lg, apacer, apa...</td>\n",
       "      <td>[2562.49, 154.19, 334.11, 334.11, 447.63, 33.2...</td>\n",
       "      <td>[88c7c83c-e255-49ed-b707-f73c7d737e88, 2168a15...</td>\n",
       "      <td>[electronics, electronics, electronics, electr...</td>\n",
       "      <td>[smartphone, video, video, video, video, compo...</td>\n",
       "      <td>...</td>\n",
       "      <td>[2053013555631882655, 2053013554415534427, 205...</td>\n",
       "      <td>[electronics.smartphone, electronics.video.tv,...</td>\n",
       "      <td>[2562.49, 154.19, 334.11, 334.11, 447.63, 33.2...</td>\n",
       "      <td>[88c7c83c-e255-49ed-b707-f73c7d737e88, 2168a15...</td>\n",
       "      <td>[electronics, electronics, electronics, electr...</td>\n",
       "      <td>[smartphone, video, video, video, video, compo...</td>\n",
       "      <td>[171121.0, 5863.0, 33.0, 294.0, 138645.0, 20.0]</td>\n",
       "      <td>[0, 0, 0, 0, 0, 2, 2, 0]</td>\n",
       "      <td>0</td>\n",
       "      <td>[0, 0, 0, 0, 0, 2, 2]</td>\n",
       "    </tr>\n",
       "    <tr>\n",
       "      <th>523379089</th>\n",
       "      <td>[2019-11-02 17:05:40+00:00, 2019-11-02 17:06:4...</td>\n",
       "      <td>[view, view, view, view, view, view, view, vie...</td>\n",
       "      <td>[28719634, 28717035, 28715765, 28719086, 28714...</td>\n",
       "      <td>[2053013565069067197, 2053013565069067197, 205...</td>\n",
       "      <td>[apparel.shoes.keds, apparel.shoes.keds, appar...</td>\n",
       "      <td>[fassen, strobbs, nexpero, fassen, nike, nike,...</td>\n",
       "      <td>[44.79, 48.39, 75.42, 44.79, 55.39, 55.39, 44....</td>\n",
       "      <td>[69cfd1b9-ea8a-4fb6-bc10-caae9928ad4c, 69cfd1b...</td>\n",
       "      <td>[apparel, apparel, apparel, apparel, apparel, ...</td>\n",
       "      <td>[shoes, shoes, shoes, shoes, shoes, shoes, sho...</td>\n",
       "      <td>...</td>\n",
       "      <td>[2053013565069067197, 2053013565069067197, 205...</td>\n",
       "      <td>[apparel.shoes.keds, apparel.shoes.keds, appar...</td>\n",
       "      <td>[44.79, 48.39, 75.42, 44.79, 55.39, 55.39, 44....</td>\n",
       "      <td>[69cfd1b9-ea8a-4fb6-bc10-caae9928ad4c, 69cfd1b...</td>\n",
       "      <td>[apparel, apparel, apparel, apparel, apparel, ...</td>\n",
       "      <td>[shoes, shoes, shoes, shoes, shoes, shoes, sho...</td>\n",
       "      <td>[63.0, 22.0, 67.0, 97.0, 26.0, 29.0, 9.0, 35.0...</td>\n",
       "      <td>[1, 1, 1, 1, 1, 1, 1, 1, 1, 1, 1, 0, 0, 3, 3, 3]</td>\n",
       "      <td>3</td>\n",
       "      <td>[1, 1, 1, 1, 1, 1, 1, 1, 1, 1, 1, 0, 0, 3, 3]</td>\n",
       "    </tr>\n",
       "    <tr>\n",
       "      <th>515367279</th>\n",
       "      <td>[2019-11-12 19:14:01+00:00, 2019-11-12 19:14:2...</td>\n",
       "      <td>[view, view, view, view, view, view, view, vie...</td>\n",
       "      <td>[13201323, 13201323, 13201315, 13201315, 10001...</td>\n",
       "      <td>[2053013557192163841, 2053013557192163841, 205...</td>\n",
       "      <td>[furniture.bedroom.bed, furniture.bedroom.bed,...</td>\n",
       "      <td>[stendmebel, stendmebel, stendmebel, stendmebe...</td>\n",
       "      <td>[222.37, 222.37, 161.91, 161.91, 58.4, 95.79, ...</td>\n",
       "      <td>[873d5eff-3160-4633-bdbe-0c8c7d7f4cb1, 873d5ef...</td>\n",
       "      <td>[furniture, furniture, furniture, furniture, f...</td>\n",
       "      <td>[bedroom, bedroom, bedroom, bedroom, bedroom, ...</td>\n",
       "      <td>...</td>\n",
       "      <td>[2053013557192163841, 2053013557192163841, 205...</td>\n",
       "      <td>[furniture.bedroom.bed, furniture.bedroom.bed,...</td>\n",
       "      <td>[222.37, 222.37, 161.91, 161.91, 58.4, 95.79, ...</td>\n",
       "      <td>[873d5eff-3160-4633-bdbe-0c8c7d7f4cb1, 873d5ef...</td>\n",
       "      <td>[furniture, furniture, furniture, furniture, f...</td>\n",
       "      <td>[bedroom, bedroom, bedroom, bedroom, bedroom, ...</td>\n",
       "      <td>[20.0, 24.0, 328315.0, 1095684.0, 33.0, 29.0, ...</td>\n",
       "      <td>[4, 4, 4, 4, 4, 4, 4, 4, 4, 4, 4]</td>\n",
       "      <td>4</td>\n",
       "      <td>[4, 4, 4, 4, 4, 4, 4, 4, 4, 4]</td>\n",
       "    </tr>\n",
       "  </tbody>\n",
       "</table>\n",
       "<p>5 rows × 26 columns</p>\n",
       "</div>"
      ],
      "text/plain": [
       "                                                  event_time  \\\n",
       "user_id                                                        \n",
       "567069554  [2019-11-08 09:42:27+00:00, 2019-11-08 09:42:4...   \n",
       "559077481  [2019-11-12 07:48:18+00:00, 2019-11-12 07:50:2...   \n",
       "513711707  [2019-11-13 10:32:21+00:00, 2019-11-15 10:04:2...   \n",
       "523379089  [2019-11-02 17:05:40+00:00, 2019-11-02 17:06:4...   \n",
       "515367279  [2019-11-12 19:14:01+00:00, 2019-11-12 19:14:2...   \n",
       "\n",
       "                                                  event_type  \\\n",
       "user_id                                                        \n",
       "567069554  [view, view, view, view, view, view, view, car...   \n",
       "559077481  [view, view, view, view, view, view, cart, pur...   \n",
       "513711707   [view, view, view, view, view, view, view, view]   \n",
       "523379089  [view, view, view, view, view, view, view, vie...   \n",
       "515367279  [view, view, view, view, view, view, view, vie...   \n",
       "\n",
       "                                                  product_id  \\\n",
       "user_id                                                        \n",
       "567069554  [1005115, 1005115, 1004249, 1004249, 1004250, ...   \n",
       "559077481  [4804660, 28721804, 28717827, 28703606, 287177...   \n",
       "513711707  [1005284, 1801766, 1801631, 1801631, 1801785, ...   \n",
       "523379089  [28719634, 28717035, 28715765, 28719086, 28714...   \n",
       "515367279  [13201323, 13201323, 13201315, 13201315, 10001...   \n",
       "\n",
       "                                                 category_id  \\\n",
       "user_id                                                        \n",
       "567069554  [2053013555631882655, 2053013555631882655, 205...   \n",
       "559077481  [2053013554658804075, 2053013565069067197, 205...   \n",
       "513711707  [2053013555631882655, 2053013554415534427, 205...   \n",
       "523379089  [2053013565069067197, 2053013565069067197, 205...   \n",
       "515367279  [2053013557192163841, 2053013557192163841, 205...   \n",
       "\n",
       "                                               category_code  \\\n",
       "user_id                                                        \n",
       "567069554  [electronics.smartphone, electronics.smartphon...   \n",
       "559077481  [electronics.audio.headphone, apparel.shoes.ke...   \n",
       "513711707  [electronics.smartphone, electronics.video.tv,...   \n",
       "523379089  [apparel.shoes.keds, apparel.shoes.keds, appar...   \n",
       "515367279  [furniture.bedroom.bed, furniture.bedroom.bed,...   \n",
       "\n",
       "                                                       brand  \\\n",
       "user_id                                                        \n",
       "567069554  [apple, apple, apple, apple, apple, apple, app...   \n",
       "559077481  [xiaomi, adidas, adidas, reebok, puma, reebok,...   \n",
       "513711707  [samsung, artel, artel, artel, lg, apacer, apa...   \n",
       "523379089  [fassen, strobbs, nexpero, fassen, nike, nike,...   \n",
       "515367279  [stendmebel, stendmebel, stendmebel, stendmebe...   \n",
       "\n",
       "                                                       price  \\\n",
       "user_id                                                        \n",
       "567069554  [915.08, 915.08, 739.79, 739.79, 814.56, 814.5...   \n",
       "559077481  [23.09, 102.71, 102.71, 118.15, 84.69, 118.15,...   \n",
       "513711707  [2562.49, 154.19, 334.11, 334.11, 447.63, 33.2...   \n",
       "523379089  [44.79, 48.39, 75.42, 44.79, 55.39, 55.39, 44....   \n",
       "515367279  [222.37, 222.37, 161.91, 161.91, 58.4, 95.79, ...   \n",
       "\n",
       "                                                user_session  \\\n",
       "user_id                                                        \n",
       "567069554  [629faf75-5107-41d6-9806-123eb20676f9, 629faf7...   \n",
       "559077481  [2fedbf73-0fcd-4c54-95b7-0fd85cb17d67, 2fedbf7...   \n",
       "513711707  [88c7c83c-e255-49ed-b707-f73c7d737e88, 2168a15...   \n",
       "523379089  [69cfd1b9-ea8a-4fb6-bc10-caae9928ad4c, 69cfd1b...   \n",
       "515367279  [873d5eff-3160-4633-bdbe-0c8c7d7f4cb1, 873d5ef...   \n",
       "\n",
       "                                                       h_lvl  \\\n",
       "user_id                                                        \n",
       "567069554  [electronics, electronics, electronics, electr...   \n",
       "559077481  [electronics, apparel, apparel, apparel, appar...   \n",
       "513711707  [electronics, electronics, electronics, electr...   \n",
       "523379089  [apparel, apparel, apparel, apparel, apparel, ...   \n",
       "515367279  [furniture, furniture, furniture, furniture, f...   \n",
       "\n",
       "                                                       l_lvl  ...  \\\n",
       "user_id                                                       ...   \n",
       "567069554  [smartphone, smartphone, smartphone, smartphon...  ...   \n",
       "559077481  [audio, shoes, shoes, shoes, shoes, shoes, sho...  ...   \n",
       "513711707  [smartphone, video, video, video, video, compo...  ...   \n",
       "523379089  [shoes, shoes, shoes, shoes, shoes, shoes, sho...  ...   \n",
       "515367279  [bedroom, bedroom, bedroom, bedroom, bedroom, ...  ...   \n",
       "\n",
       "                                             rml_category_id  \\\n",
       "user_id                                                        \n",
       "567069554  [2053013555631882655, 2053013555631882655, 205...   \n",
       "559077481  [2053013554658804075, 2053013565069067197, 205...   \n",
       "513711707  [2053013555631882655, 2053013554415534427, 205...   \n",
       "523379089  [2053013565069067197, 2053013565069067197, 205...   \n",
       "515367279  [2053013557192163841, 2053013557192163841, 205...   \n",
       "\n",
       "                                           rml_category_code  \\\n",
       "user_id                                                        \n",
       "567069554  [electronics.smartphone, electronics.smartphon...   \n",
       "559077481  [electronics.audio.headphone, apparel.shoes.ke...   \n",
       "513711707  [electronics.smartphone, electronics.video.tv,...   \n",
       "523379089  [apparel.shoes.keds, apparel.shoes.keds, appar...   \n",
       "515367279  [furniture.bedroom.bed, furniture.bedroom.bed,...   \n",
       "\n",
       "                                                   rml_brand  \\\n",
       "user_id                                                        \n",
       "567069554  [915.08, 915.08, 739.79, 739.79, 814.56, 814.5...   \n",
       "559077481  [23.09, 102.71, 102.71, 118.15, 84.69, 118.15,...   \n",
       "513711707  [2562.49, 154.19, 334.11, 334.11, 447.63, 33.2...   \n",
       "523379089  [44.79, 48.39, 75.42, 44.79, 55.39, 55.39, 44....   \n",
       "515367279  [222.37, 222.37, 161.91, 161.91, 58.4, 95.79, ...   \n",
       "\n",
       "                                            rml_user_session  \\\n",
       "user_id                                                        \n",
       "567069554  [629faf75-5107-41d6-9806-123eb20676f9, 629faf7...   \n",
       "559077481  [2fedbf73-0fcd-4c54-95b7-0fd85cb17d67, 2fedbf7...   \n",
       "513711707  [88c7c83c-e255-49ed-b707-f73c7d737e88, 2168a15...   \n",
       "523379089  [69cfd1b9-ea8a-4fb6-bc10-caae9928ad4c, 69cfd1b...   \n",
       "515367279  [873d5eff-3160-4633-bdbe-0c8c7d7f4cb1, 873d5ef...   \n",
       "\n",
       "                                                   rml_h_lvl  \\\n",
       "user_id                                                        \n",
       "567069554  [electronics, electronics, electronics, electr...   \n",
       "559077481  [electronics, apparel, apparel, apparel, appar...   \n",
       "513711707  [electronics, electronics, electronics, electr...   \n",
       "523379089  [apparel, apparel, apparel, apparel, apparel, ...   \n",
       "515367279  [furniture, furniture, furniture, furniture, f...   \n",
       "\n",
       "                                                   rml_l_lvl  \\\n",
       "user_id                                                        \n",
       "567069554  [smartphone, smartphone, smartphone, smartphon...   \n",
       "559077481  [audio, shoes, shoes, shoes, shoes, shoes, sho...   \n",
       "513711707  [smartphone, video, video, video, video, compo...   \n",
       "523379089  [shoes, shoes, shoes, shoes, shoes, shoes, sho...   \n",
       "515367279  [bedroom, bedroom, bedroom, bedroom, bedroom, ...   \n",
       "\n",
       "                                            rml_time_between  \\\n",
       "user_id                                                        \n",
       "567069554  [14.0, 30.0, 8.0, 11.0, 10.0, 10.0, 8.0, 6.0, ...   \n",
       "559077481  [129.0, 44.0, 22.0, 77.0, 23.0, 30.0, 137.0, 3...   \n",
       "513711707    [171121.0, 5863.0, 33.0, 294.0, 138645.0, 20.0]   \n",
       "523379089  [63.0, 22.0, 67.0, 97.0, 26.0, 29.0, 9.0, 35.0...   \n",
       "515367279  [20.0, 24.0, 328315.0, 1095684.0, 33.0, 29.0, ...   \n",
       "\n",
       "                                         h_lvl_id_new_labels next_h_lvl  \\\n",
       "user_id                                                                   \n",
       "567069554  [0, 0, 0, 0, 0, 0, 0, 0, 0, 0, 0, 0, 0, 0, 0, ...          0   \n",
       "559077481                  [0, 1, 1, 1, 1, 1, 1, 1, 1, 1, 1]          1   \n",
       "513711707                           [0, 0, 0, 0, 0, 2, 2, 0]          0   \n",
       "523379089   [1, 1, 1, 1, 1, 1, 1, 1, 1, 1, 1, 0, 0, 3, 3, 3]          3   \n",
       "515367279                  [4, 4, 4, 4, 4, 4, 4, 4, 4, 4, 4]          4   \n",
       "\n",
       "                                     rml_h_lvl_id_new_labels  \n",
       "user_id                                                       \n",
       "567069554  [0, 0, 0, 0, 0, 0, 0, 0, 0, 0, 0, 0, 0, 0, 0, ...  \n",
       "559077481                     [0, 1, 1, 1, 1, 1, 1, 1, 1, 1]  \n",
       "513711707                              [0, 0, 0, 0, 0, 2, 2]  \n",
       "523379089      [1, 1, 1, 1, 1, 1, 1, 1, 1, 1, 1, 0, 0, 3, 3]  \n",
       "515367279                     [4, 4, 4, 4, 4, 4, 4, 4, 4, 4]  \n",
       "\n",
       "[5 rows x 26 columns]"
      ]
     },
     "execution_count": 96,
     "metadata": {},
     "output_type": "execute_result"
    }
   ],
   "source": [
    "training_data.head()"
   ]
  },
  {
   "cell_type": "code",
   "execution_count": 97,
   "metadata": {},
   "outputs": [],
   "source": [
    "# training_data.to_csv('sample.csv', index=False)\n",
    "# table = pa.Table.from_pandas(training_data)\n",
    "# pq.write_to_dataset(table, 'sample.parquet')"
   ]
  },
  {
   "cell_type": "markdown",
   "metadata": {},
   "source": [
    "Functions for creating graphs only by user_id (for graph2vec)"
   ]
  },
  {
   "cell_type": "code",
   "execution_count": 98,
   "metadata": {},
   "outputs": [],
   "source": [
    "def edge_maker_sm(df, iloc_num, node_category):\n",
    "    product_id_list = df.iloc[iloc_num][node_category]\n",
    "    time_on_page = df.iloc[iloc_num]['time_between']\n",
    "#     event_type = df.iloc[iloc_num]['event_type']\n",
    "#     source_target_dict = {'source':[], 'target':[], 'weight':[0] + time_on_page, 'attributes':event_type}\n",
    "    source_target_dict = {'source':[], 'target':[], 'weight':time_on_page, 'event_type':[]}\n",
    "    \n",
    "    for i, j in enumerate(product_id_list):\n",
    "        if i == 0:\n",
    "#             source_target_dict['source'].append(f'customer_{iloc_num}')\n",
    "#             source_target_dict['target'].append(f'{product_id_list[i+1]}')\n",
    "            pass\n",
    "        else:\n",
    "            source_target_dict['source'].append(f'{product_id_list[i-1]}')\n",
    "            source_target_dict['target'].append(f'{j}')\n",
    "            source_target_dict['event_type'].append(df.iloc[iloc_num]['event_type'][i])\n",
    "    return source_target_dict\n",
    "  \n",
    "\n",
    "def node_maker_sm(df, iloc_num, node_category):\n",
    "    node_category = df.iloc[iloc_num][node_category]\n",
    "#     time_on_page = df.iloc[iloc_num]['category_id']\n",
    "#     h_lvl = df.iloc[iloc_num]['h_lvl']\n",
    "#     l_lvl = df.iloc[iloc_num]['l_lvl']\n",
    "#     user_session = df.iloc[iloc_num]['user_session']\n",
    "    \n",
    "    distinct_node_categories = [str(i) for n, i in enumerate(node_category) if i not in node_category[:n]]\n",
    "#     distinct_category_ids = [i for n, i in enumerate(category_id) if i not in category_id[:n]]\n",
    "#     distinct_h_lvls = [i for n, i in enumerate(h_lvl) if i not in h_lvl[:n]]\n",
    "#     distinct_l_lvls = [i for n, i in enumerate(l_lvl) if i not in l_lvl[:n]]\n",
    "#     distinct_user_sessions = [i for n, i in enumerate(user_session) if i not in user_session[:n]]\n",
    "    \n",
    "#     node_dict = {'id':[f'customer_{iloc_num}'] + distinct_product_ids}\n",
    "    node_dict = {'id':distinct_product_ids}\n",
    "    return node_dict"
   ]
  },
  {
   "cell_type": "code",
   "execution_count": 99,
   "metadata": {},
   "outputs": [
    {
     "data": {
      "text/plain": [
       "{'source': ['audio',\n",
       "  'shoes',\n",
       "  'shoes',\n",
       "  'shoes',\n",
       "  'shoes',\n",
       "  'shoes',\n",
       "  'shoes',\n",
       "  'shoes',\n",
       "  'shoes',\n",
       "  'shoes'],\n",
       " 'target': ['shoes',\n",
       "  'shoes',\n",
       "  'shoes',\n",
       "  'shoes',\n",
       "  'shoes',\n",
       "  'shoes',\n",
       "  'shoes',\n",
       "  'shoes',\n",
       "  'shoes',\n",
       "  'shoes'],\n",
       " 'weight': [129.0,\n",
       "  44.0,\n",
       "  22.0,\n",
       "  77.0,\n",
       "  23.0,\n",
       "  30.0,\n",
       "  137.0,\n",
       "  370.0,\n",
       "  217.0,\n",
       "  967902.0],\n",
       " 'event_type': ['view',\n",
       "  'view',\n",
       "  'view',\n",
       "  'view',\n",
       "  'view',\n",
       "  'cart',\n",
       "  'purchase',\n",
       "  'view',\n",
       "  'view',\n",
       "  'view']}"
      ]
     },
     "execution_count": 99,
     "metadata": {},
     "output_type": "execute_result"
    }
   ],
   "source": [
    "edge_maker_sm(training_data, 1, 'l_lvl')"
   ]
  },
  {
   "cell_type": "code",
   "execution_count": 100,
   "metadata": {},
   "outputs": [],
   "source": [
    "def edge_maker(df, node_category):\n",
    "    source_target_dict = {'source':[], 'target':[], 'weight':[], 'event_type':[]}\n",
    "    for x in range(len(df)):\n",
    "        product_id_list = df.iloc[x][node_category]\n",
    "        for q in df.iloc[x]['time_between']:\n",
    "            source_target_dict['weight'].append(q)\n",
    "    #     source_target_dict = {'source':[], 'target':[], 'weight':[0] + time_on_page, 'attributes':event_type}\n",
    "        \n",
    "        for i, j in enumerate(product_id_list):\n",
    "            if i == 0:\n",
    "    #             source_target_dict['source'].append(f'customer_{iloc_num}')\n",
    "    #             source_target_dict['target'].append(f'{product_id_list[i+1]}')\n",
    "                pass\n",
    "            else:\n",
    "                source_target_dict['source'].append(f'{product_id_list[i-1]}')\n",
    "                source_target_dict['target'].append(f'{j}')\n",
    "                source_target_dict['event_type'].append(df.iloc[x]['event_type'][i])\n",
    "    return source_target_dict\n",
    "\n",
    "\n",
    "def node_maker(df):\n",
    "    product_id = df.iloc[iloc_num]['product_id']\n",
    "#     time_on_page = df.iloc[iloc_num]['category_id']\n",
    "#     h_lvl = df.iloc[iloc_num]['h_lvl']\n",
    "#     l_lvl = df.iloc[iloc_num]['l_lvl']\n",
    "#     user_session = df.iloc[iloc_num]['user_session']\n",
    "    \n",
    "    distinct_product_ids = [str(i) for n, i in enumerate(product_id) if i not in product_id[:n]]\n",
    "#     distinct_category_ids = [i for n, i in enumerate(category_id) if i not in category_id[:n]]\n",
    "#     distinct_h_lvls = [i for n, i in enumerate(h_lvl) if i not in h_lvl[:n]]\n",
    "#     distinct_l_lvls = [i for n, i in enumerate(l_lvl) if i not in l_lvl[:n]]\n",
    "#     distinct_user_sessions = [i for n, i in enumerate(user_session) if i not in user_session[:n]]\n",
    "    \n",
    "#     node_dict = {'id':[f'customer_{iloc_num}'] + distinct_product_ids}\n",
    "    node_dict = {'id':distinct_product_ids}\n",
    "    return node_dict"
   ]
  },
  {
   "cell_type": "code",
   "execution_count": 101,
   "metadata": {},
   "outputs": [],
   "source": [
    "ex_dict = edge_maker(training_data, 'h_lvl_id_new_labels')"
   ]
  },
  {
   "cell_type": "code",
   "execution_count": 102,
   "metadata": {},
   "outputs": [
    {
     "data": {
      "text/plain": [
       "5131363"
      ]
     },
     "execution_count": 102,
     "metadata": {},
     "output_type": "execute_result"
    }
   ],
   "source": [
    "len(ex_dict['source'])"
   ]
  },
  {
   "cell_type": "code",
   "execution_count": 103,
   "metadata": {},
   "outputs": [
    {
     "data": {
      "text/plain": [
       "5131363"
      ]
     },
     "execution_count": 103,
     "metadata": {},
     "output_type": "execute_result"
    }
   ],
   "source": [
    "len(ex_dict['target'])"
   ]
  },
  {
   "cell_type": "code",
   "execution_count": 104,
   "metadata": {},
   "outputs": [
    {
     "data": {
      "text/plain": [
       "5131363"
      ]
     },
     "execution_count": 104,
     "metadata": {},
     "output_type": "execute_result"
    }
   ],
   "source": [
    "len(ex_dict['weight'])"
   ]
  },
  {
   "cell_type": "code",
   "execution_count": 105,
   "metadata": {},
   "outputs": [
    {
     "data": {
      "text/plain": [
       "5131363"
      ]
     },
     "execution_count": 105,
     "metadata": {},
     "output_type": "execute_result"
    }
   ],
   "source": [
    "len(ex_dict['event_type'])"
   ]
  },
  {
   "cell_type": "code",
   "execution_count": 106,
   "metadata": {},
   "outputs": [
    {
     "data": {
      "text/html": [
       "<div>\n",
       "<style scoped>\n",
       "    .dataframe tbody tr th:only-of-type {\n",
       "        vertical-align: middle;\n",
       "    }\n",
       "\n",
       "    .dataframe tbody tr th {\n",
       "        vertical-align: top;\n",
       "    }\n",
       "\n",
       "    .dataframe thead th {\n",
       "        text-align: right;\n",
       "    }\n",
       "</style>\n",
       "<table border=\"1\" class=\"dataframe\">\n",
       "  <thead>\n",
       "    <tr style=\"text-align: right;\">\n",
       "      <th></th>\n",
       "      <th>source</th>\n",
       "      <th>target</th>\n",
       "      <th>weight</th>\n",
       "      <th>event_type</th>\n",
       "    </tr>\n",
       "  </thead>\n",
       "  <tbody>\n",
       "    <tr>\n",
       "      <th>0</th>\n",
       "      <td>0</td>\n",
       "      <td>0</td>\n",
       "      <td>14.0</td>\n",
       "      <td>view</td>\n",
       "    </tr>\n",
       "    <tr>\n",
       "      <th>1</th>\n",
       "      <td>0</td>\n",
       "      <td>0</td>\n",
       "      <td>30.0</td>\n",
       "      <td>view</td>\n",
       "    </tr>\n",
       "    <tr>\n",
       "      <th>2</th>\n",
       "      <td>0</td>\n",
       "      <td>0</td>\n",
       "      <td>8.0</td>\n",
       "      <td>view</td>\n",
       "    </tr>\n",
       "    <tr>\n",
       "      <th>3</th>\n",
       "      <td>0</td>\n",
       "      <td>0</td>\n",
       "      <td>11.0</td>\n",
       "      <td>view</td>\n",
       "    </tr>\n",
       "    <tr>\n",
       "      <th>4</th>\n",
       "      <td>0</td>\n",
       "      <td>0</td>\n",
       "      <td>10.0</td>\n",
       "      <td>view</td>\n",
       "    </tr>\n",
       "    <tr>\n",
       "      <th>...</th>\n",
       "      <td>...</td>\n",
       "      <td>...</td>\n",
       "      <td>...</td>\n",
       "      <td>...</td>\n",
       "    </tr>\n",
       "    <tr>\n",
       "      <th>5131358</th>\n",
       "      <td>0</td>\n",
       "      <td>0</td>\n",
       "      <td>247386.0</td>\n",
       "      <td>view</td>\n",
       "    </tr>\n",
       "    <tr>\n",
       "      <th>5131359</th>\n",
       "      <td>0</td>\n",
       "      <td>0</td>\n",
       "      <td>74.0</td>\n",
       "      <td>view</td>\n",
       "    </tr>\n",
       "    <tr>\n",
       "      <th>5131360</th>\n",
       "      <td>0</td>\n",
       "      <td>0</td>\n",
       "      <td>32.0</td>\n",
       "      <td>view</td>\n",
       "    </tr>\n",
       "    <tr>\n",
       "      <th>5131361</th>\n",
       "      <td>0</td>\n",
       "      <td>0</td>\n",
       "      <td>345713.0</td>\n",
       "      <td>view</td>\n",
       "    </tr>\n",
       "    <tr>\n",
       "      <th>5131362</th>\n",
       "      <td>0</td>\n",
       "      <td>0</td>\n",
       "      <td>10.0</td>\n",
       "      <td>cart</td>\n",
       "    </tr>\n",
       "  </tbody>\n",
       "</table>\n",
       "<p>5131363 rows × 4 columns</p>\n",
       "</div>"
      ],
      "text/plain": [
       "        source target    weight event_type\n",
       "0            0      0      14.0       view\n",
       "1            0      0      30.0       view\n",
       "2            0      0       8.0       view\n",
       "3            0      0      11.0       view\n",
       "4            0      0      10.0       view\n",
       "...        ...    ...       ...        ...\n",
       "5131358      0      0  247386.0       view\n",
       "5131359      0      0      74.0       view\n",
       "5131360      0      0      32.0       view\n",
       "5131361      0      0  345713.0       view\n",
       "5131362      0      0      10.0       cart\n",
       "\n",
       "[5131363 rows x 4 columns]"
      ]
     },
     "execution_count": 106,
     "metadata": {},
     "output_type": "execute_result"
    }
   ],
   "source": [
    "edges = pd.DataFrame(edge_maker(training_data, 'h_lvl_id_new_labels'))\n",
    "edges"
   ]
  },
  {
   "cell_type": "code",
   "execution_count": 107,
   "metadata": {},
   "outputs": [],
   "source": [
    "# nodes = pd.DataFrame(node_maker(1), index=[node_maker(1)['id']]).drop(['id'], axis=1)\n",
    "# nodes"
   ]
  },
  {
   "cell_type": "code",
   "execution_count": 108,
   "metadata": {},
   "outputs": [],
   "source": [
    "DG = DiGraph(from_pandas_edgelist(edges))\n",
    "G = Graph(from_pandas_edgelist(edges))"
   ]
  },
  {
   "cell_type": "markdown",
   "metadata": {},
   "source": [
    "<b>The below numbers must match.</b>"
   ]
  },
  {
   "cell_type": "code",
   "execution_count": 109,
   "metadata": {},
   "outputs": [
    {
     "name": "stdout",
     "output_type": "stream",
     "text": [
      "13\n",
      "13\n"
     ]
    }
   ],
   "source": [
    "print(len(distinct_h_lvl_ids))\n",
    "print(len(DG.nodes))"
   ]
  },
  {
   "cell_type": "code",
   "execution_count": 110,
   "metadata": {},
   "outputs": [
    {
     "data": {
      "text/plain": [
       "165"
      ]
     },
     "execution_count": 110,
     "metadata": {},
     "output_type": "execute_result"
    }
   ],
   "source": [
    "len(DG.edges)"
   ]
  },
  {
   "cell_type": "code",
   "execution_count": 111,
   "metadata": {},
   "outputs": [],
   "source": [
    "# nodes = nx.draw_networkx_nodes(G, pos=nx.spring_layout(G))"
   ]
  },
  {
   "cell_type": "code",
   "execution_count": 112,
   "metadata": {},
   "outputs": [],
   "source": [
    "# nodes"
   ]
  },
  {
   "cell_type": "code",
   "execution_count": 113,
   "metadata": {},
   "outputs": [
    {
     "data": {
      "image/png": "[encoded data removed]",
      "text/plain": [
       "<Figure size 1440x1008 with 1 Axes>"
      ]
     },
     "metadata": {},
     "output_type": "display_data"
    }
   ],
   "source": [
    "plt.figure(figsize=(20, 14))\n",
    "nx.draw(DG, with_labels = True, font_size=22, font_color=\"red\")"
   ]
  },
  {
   "cell_type": "markdown",
   "metadata": {},
   "source": [
    "PageRank (PR) is an algorithm used by Google Search to rank web pages in their search engine results. PageRank is a way of measuring the importance of website pages. According to Google: PageRank works by counting the number and quality of links to a page to determine a rough estimate of how important the website is. The underlying assumption is that more important websites are likely to receive more links from other websites. (Wikipedia)"
   ]
  },
  {
   "cell_type": "code",
   "execution_count": 114,
   "metadata": {},
   "outputs": [
    {
     "data": {
      "text/plain": [
       "{'0': 0.07853169195416693,\n",
       " '1': 0.07853169195416693,\n",
       " '2': 0.07853169195416693,\n",
       " '3': 0.07853169195416693,\n",
       " '4': 0.07853169195416693,\n",
       " '5': 0.07853169195416693,\n",
       " '6': 0.07853169195416693,\n",
       " '7': 0.07853169195416693,\n",
       " '8': 0.07853169195416693,\n",
       " '9': 0.07853169195416693,\n",
       " '10': 0.0681524233217771,\n",
       " '11': 0.07326532856827686,\n",
       " '12': 0.07326532856827686}"
      ]
     },
     "execution_count": 114,
     "metadata": {},
     "output_type": "execute_result"
    }
   ],
   "source": [
    "pagerank(DG)"
   ]
  },
  {
   "cell_type": "markdown",
   "metadata": {},
   "source": [
    "Hyperlink-Induced Topic Search (HITS; also known as hubs and authorities) is a link analysis algorithm that rates Web pages, developed by Jon Kleinberg. The idea behind Hubs and Authorities stemmed from a particular insight into the creation of web pages when the Internet was originally forming; that is, certain web pages, known as hubs, served as large directories that were not actually authoritative in the information that they held, but were used as compilations of a broad catalog of information that led users direct to other authoritative pages. In other words, a good hub represents a page that pointed to many other pages, while a good authority represents a page that is linked by many different hubs. (Wikipedia)"
   ]
  },
  {
   "cell_type": "code",
   "execution_count": 115,
   "metadata": {},
   "outputs": [
    {
     "data": {
      "text/plain": [
       "({'0': 0.0786217359301286,\n",
       "  '1': 0.0786217359301286,\n",
       "  '2': 0.0786217359301286,\n",
       "  '3': 0.0786217359301286,\n",
       "  '4': 0.0786217359301286,\n",
       "  '5': 0.07862173593012858,\n",
       "  '6': 0.07862173593012858,\n",
       "  '7': 0.0786217359301286,\n",
       "  '8': 0.07862173593012858,\n",
       "  '9': 0.07862173593012858,\n",
       "  '10': 0.06708837837613495,\n",
       "  '11': 0.07334713116128953,\n",
       "  '12': 0.07334713116128953},\n",
       " {'0': 0.0786217359309263,\n",
       "  '1': 0.0786217359309263,\n",
       "  '2': 0.0786217359309263,\n",
       "  '3': 0.0786217359309263,\n",
       "  '4': 0.0786217359309263,\n",
       "  '5': 0.0786217359309263,\n",
       "  '6': 0.0786217359309263,\n",
       "  '7': 0.0786217359309263,\n",
       "  '8': 0.0786217359309263,\n",
       "  '9': 0.0786217359309263,\n",
       "  '10': 0.0670883783782974,\n",
       "  '11': 0.07334713115621978,\n",
       "  '12': 0.07334713115621978})"
      ]
     },
     "execution_count": 115,
     "metadata": {},
     "output_type": "execute_result"
    }
   ],
   "source": [
    "hits(DG)"
   ]
  },
  {
   "cell_type": "code",
   "execution_count": 116,
   "metadata": {},
   "outputs": [
    {
     "data": {
      "text/plain": [
       "(171245, 26)"
      ]
     },
     "execution_count": 116,
     "metadata": {},
     "output_type": "execute_result"
    }
   ],
   "source": [
    "training_data.shape"
   ]
  },
  {
   "cell_type": "code",
   "execution_count": 117,
   "metadata": {},
   "outputs": [
    {
     "data": {
      "text/html": [
       "<div>\n",
       "<style scoped>\n",
       "    .dataframe tbody tr th:only-of-type {\n",
       "        vertical-align: middle;\n",
       "    }\n",
       "\n",
       "    .dataframe tbody tr th {\n",
       "        vertical-align: top;\n",
       "    }\n",
       "\n",
       "    .dataframe thead th {\n",
       "        text-align: right;\n",
       "    }\n",
       "</style>\n",
       "<table border=\"1\" class=\"dataframe\">\n",
       "  <thead>\n",
       "    <tr style=\"text-align: right;\">\n",
       "      <th></th>\n",
       "      <th>event_time</th>\n",
       "      <th>event_type</th>\n",
       "      <th>product_id</th>\n",
       "      <th>category_id</th>\n",
       "      <th>category_code</th>\n",
       "      <th>brand</th>\n",
       "      <th>price</th>\n",
       "      <th>user_session</th>\n",
       "      <th>h_lvl</th>\n",
       "      <th>l_lvl</th>\n",
       "      <th>...</th>\n",
       "      <th>rml_category_id</th>\n",
       "      <th>rml_category_code</th>\n",
       "      <th>rml_brand</th>\n",
       "      <th>rml_user_session</th>\n",
       "      <th>rml_h_lvl</th>\n",
       "      <th>rml_l_lvl</th>\n",
       "      <th>rml_time_between</th>\n",
       "      <th>h_lvl_id_new_labels</th>\n",
       "      <th>next_h_lvl</th>\n",
       "      <th>rml_h_lvl_id_new_labels</th>\n",
       "    </tr>\n",
       "    <tr>\n",
       "      <th>user_id</th>\n",
       "      <th></th>\n",
       "      <th></th>\n",
       "      <th></th>\n",
       "      <th></th>\n",
       "      <th></th>\n",
       "      <th></th>\n",
       "      <th></th>\n",
       "      <th></th>\n",
       "      <th></th>\n",
       "      <th></th>\n",
       "      <th></th>\n",
       "      <th></th>\n",
       "      <th></th>\n",
       "      <th></th>\n",
       "      <th></th>\n",
       "      <th></th>\n",
       "      <th></th>\n",
       "      <th></th>\n",
       "      <th></th>\n",
       "      <th></th>\n",
       "      <th></th>\n",
       "    </tr>\n",
       "  </thead>\n",
       "  <tbody>\n",
       "    <tr>\n",
       "      <th>567069554</th>\n",
       "      <td>[2019-11-08 09:42:27+00:00, 2019-11-08 09:42:4...</td>\n",
       "      <td>[view, view, view, view, view, view, view, car...</td>\n",
       "      <td>[1005115, 1005115, 1004249, 1004249, 1004250, ...</td>\n",
       "      <td>[2053013555631882655, 2053013555631882655, 205...</td>\n",
       "      <td>[electronics.smartphone, electronics.smartphon...</td>\n",
       "      <td>[apple, apple, apple, apple, apple, apple, app...</td>\n",
       "      <td>[915.08, 915.08, 739.79, 739.79, 814.56, 814.5...</td>\n",
       "      <td>[629faf75-5107-41d6-9806-123eb20676f9, 629faf7...</td>\n",
       "      <td>[electronics, electronics, electronics, electr...</td>\n",
       "      <td>[smartphone, smartphone, smartphone, smartphon...</td>\n",
       "      <td>...</td>\n",
       "      <td>[2053013555631882655, 2053013555631882655, 205...</td>\n",
       "      <td>[electronics.smartphone, electronics.smartphon...</td>\n",
       "      <td>[915.08, 915.08, 739.79, 739.79, 814.56, 814.5...</td>\n",
       "      <td>[629faf75-5107-41d6-9806-123eb20676f9, 629faf7...</td>\n",
       "      <td>[electronics, electronics, electronics, electr...</td>\n",
       "      <td>[smartphone, smartphone, smartphone, smartphon...</td>\n",
       "      <td>[14.0, 30.0, 8.0, 11.0, 10.0, 10.0, 8.0, 6.0, ...</td>\n",
       "      <td>[0, 0, 0, 0, 0, 0, 0, 0, 0, 0, 0, 0, 0, 0, 0, ...</td>\n",
       "      <td>0</td>\n",
       "      <td>[0, 0, 0, 0, 0, 0, 0, 0, 0, 0, 0, 0, 0, 0, 0, ...</td>\n",
       "    </tr>\n",
       "    <tr>\n",
       "      <th>559077481</th>\n",
       "      <td>[2019-11-12 07:48:18+00:00, 2019-11-12 07:50:2...</td>\n",
       "      <td>[view, view, view, view, view, view, cart, pur...</td>\n",
       "      <td>[4804660, 28721804, 28717827, 28703606, 287177...</td>\n",
       "      <td>[2053013554658804075, 2053013565069067197, 205...</td>\n",
       "      <td>[electronics.audio.headphone, apparel.shoes.ke...</td>\n",
       "      <td>[xiaomi, adidas, adidas, reebok, puma, reebok,...</td>\n",
       "      <td>[23.09, 102.71, 102.71, 118.15, 84.69, 118.15,...</td>\n",
       "      <td>[2fedbf73-0fcd-4c54-95b7-0fd85cb17d67, 2fedbf7...</td>\n",
       "      <td>[electronics, apparel, apparel, apparel, appar...</td>\n",
       "      <td>[audio, shoes, shoes, shoes, shoes, shoes, sho...</td>\n",
       "      <td>...</td>\n",
       "      <td>[2053013554658804075, 2053013565069067197, 205...</td>\n",
       "      <td>[electronics.audio.headphone, apparel.shoes.ke...</td>\n",
       "      <td>[23.09, 102.71, 102.71, 118.15, 84.69, 118.15,...</td>\n",
       "      <td>[2fedbf73-0fcd-4c54-95b7-0fd85cb17d67, 2fedbf7...</td>\n",
       "      <td>[electronics, apparel, apparel, apparel, appar...</td>\n",
       "      <td>[audio, shoes, shoes, shoes, shoes, shoes, sho...</td>\n",
       "      <td>[129.0, 44.0, 22.0, 77.0, 23.0, 30.0, 137.0, 3...</td>\n",
       "      <td>[0, 1, 1, 1, 1, 1, 1, 1, 1, 1, 1]</td>\n",
       "      <td>1</td>\n",
       "      <td>[0, 1, 1, 1, 1, 1, 1, 1, 1, 1]</td>\n",
       "    </tr>\n",
       "    <tr>\n",
       "      <th>513711707</th>\n",
       "      <td>[2019-11-13 10:32:21+00:00, 2019-11-15 10:04:2...</td>\n",
       "      <td>[view, view, view, view, view, view, view, view]</td>\n",
       "      <td>[1005284, 1801766, 1801631, 1801631, 1801785, ...</td>\n",
       "      <td>[2053013555631882655, 2053013554415534427, 205...</td>\n",
       "      <td>[electronics.smartphone, electronics.video.tv,...</td>\n",
       "      <td>[samsung, artel, artel, artel, lg, apacer, apa...</td>\n",
       "      <td>[2562.49, 154.19, 334.11, 334.11, 447.63, 33.2...</td>\n",
       "      <td>[88c7c83c-e255-49ed-b707-f73c7d737e88, 2168a15...</td>\n",
       "      <td>[electronics, electronics, electronics, electr...</td>\n",
       "      <td>[smartphone, video, video, video, video, compo...</td>\n",
       "      <td>...</td>\n",
       "      <td>[2053013555631882655, 2053013554415534427, 205...</td>\n",
       "      <td>[electronics.smartphone, electronics.video.tv,...</td>\n",
       "      <td>[2562.49, 154.19, 334.11, 334.11, 447.63, 33.2...</td>\n",
       "      <td>[88c7c83c-e255-49ed-b707-f73c7d737e88, 2168a15...</td>\n",
       "      <td>[electronics, electronics, electronics, electr...</td>\n",
       "      <td>[smartphone, video, video, video, video, compo...</td>\n",
       "      <td>[171121.0, 5863.0, 33.0, 294.0, 138645.0, 20.0]</td>\n",
       "      <td>[0, 0, 0, 0, 0, 2, 2, 0]</td>\n",
       "      <td>0</td>\n",
       "      <td>[0, 0, 0, 0, 0, 2, 2]</td>\n",
       "    </tr>\n",
       "    <tr>\n",
       "      <th>523379089</th>\n",
       "      <td>[2019-11-02 17:05:40+00:00, 2019-11-02 17:06:4...</td>\n",
       "      <td>[view, view, view, view, view, view, view, vie...</td>\n",
       "      <td>[28719634, 28717035, 28715765, 28719086, 28714...</td>\n",
       "      <td>[2053013565069067197, 2053013565069067197, 205...</td>\n",
       "      <td>[apparel.shoes.keds, apparel.shoes.keds, appar...</td>\n",
       "      <td>[fassen, strobbs, nexpero, fassen, nike, nike,...</td>\n",
       "      <td>[44.79, 48.39, 75.42, 44.79, 55.39, 55.39, 44....</td>\n",
       "      <td>[69cfd1b9-ea8a-4fb6-bc10-caae9928ad4c, 69cfd1b...</td>\n",
       "      <td>[apparel, apparel, apparel, apparel, apparel, ...</td>\n",
       "      <td>[shoes, shoes, shoes, shoes, shoes, shoes, sho...</td>\n",
       "      <td>...</td>\n",
       "      <td>[2053013565069067197, 2053013565069067197, 205...</td>\n",
       "      <td>[apparel.shoes.keds, apparel.shoes.keds, appar...</td>\n",
       "      <td>[44.79, 48.39, 75.42, 44.79, 55.39, 55.39, 44....</td>\n",
       "      <td>[69cfd1b9-ea8a-4fb6-bc10-caae9928ad4c, 69cfd1b...</td>\n",
       "      <td>[apparel, apparel, apparel, apparel, apparel, ...</td>\n",
       "      <td>[shoes, shoes, shoes, shoes, shoes, shoes, sho...</td>\n",
       "      <td>[63.0, 22.0, 67.0, 97.0, 26.0, 29.0, 9.0, 35.0...</td>\n",
       "      <td>[1, 1, 1, 1, 1, 1, 1, 1, 1, 1, 1, 0, 0, 3, 3, 3]</td>\n",
       "      <td>3</td>\n",
       "      <td>[1, 1, 1, 1, 1, 1, 1, 1, 1, 1, 1, 0, 0, 3, 3]</td>\n",
       "    </tr>\n",
       "    <tr>\n",
       "      <th>515367279</th>\n",
       "      <td>[2019-11-12 19:14:01+00:00, 2019-11-12 19:14:2...</td>\n",
       "      <td>[view, view, view, view, view, view, view, vie...</td>\n",
       "      <td>[13201323, 13201323, 13201315, 13201315, 10001...</td>\n",
       "      <td>[2053013557192163841, 2053013557192163841, 205...</td>\n",
       "      <td>[furniture.bedroom.bed, furniture.bedroom.bed,...</td>\n",
       "      <td>[stendmebel, stendmebel, stendmebel, stendmebe...</td>\n",
       "      <td>[222.37, 222.37, 161.91, 161.91, 58.4, 95.79, ...</td>\n",
       "      <td>[873d5eff-3160-4633-bdbe-0c8c7d7f4cb1, 873d5ef...</td>\n",
       "      <td>[furniture, furniture, furniture, furniture, f...</td>\n",
       "      <td>[bedroom, bedroom, bedroom, bedroom, bedroom, ...</td>\n",
       "      <td>...</td>\n",
       "      <td>[2053013557192163841, 2053013557192163841, 205...</td>\n",
       "      <td>[furniture.bedroom.bed, furniture.bedroom.bed,...</td>\n",
       "      <td>[222.37, 222.37, 161.91, 161.91, 58.4, 95.79, ...</td>\n",
       "      <td>[873d5eff-3160-4633-bdbe-0c8c7d7f4cb1, 873d5ef...</td>\n",
       "      <td>[furniture, furniture, furniture, furniture, f...</td>\n",
       "      <td>[bedroom, bedroom, bedroom, bedroom, bedroom, ...</td>\n",
       "      <td>[20.0, 24.0, 328315.0, 1095684.0, 33.0, 29.0, ...</td>\n",
       "      <td>[4, 4, 4, 4, 4, 4, 4, 4, 4, 4, 4]</td>\n",
       "      <td>4</td>\n",
       "      <td>[4, 4, 4, 4, 4, 4, 4, 4, 4, 4]</td>\n",
       "    </tr>\n",
       "  </tbody>\n",
       "</table>\n",
       "<p>5 rows × 26 columns</p>\n",
       "</div>"
      ],
      "text/plain": [
       "                                                  event_time  \\\n",
       "user_id                                                        \n",
       "567069554  [2019-11-08 09:42:27+00:00, 2019-11-08 09:42:4...   \n",
       "559077481  [2019-11-12 07:48:18+00:00, 2019-11-12 07:50:2...   \n",
       "513711707  [2019-11-13 10:32:21+00:00, 2019-11-15 10:04:2...   \n",
       "523379089  [2019-11-02 17:05:40+00:00, 2019-11-02 17:06:4...   \n",
       "515367279  [2019-11-12 19:14:01+00:00, 2019-11-12 19:14:2...   \n",
       "\n",
       "                                                  event_type  \\\n",
       "user_id                                                        \n",
       "567069554  [view, view, view, view, view, view, view, car...   \n",
       "559077481  [view, view, view, view, view, view, cart, pur...   \n",
       "513711707   [view, view, view, view, view, view, view, view]   \n",
       "523379089  [view, view, view, view, view, view, view, vie...   \n",
       "515367279  [view, view, view, view, view, view, view, vie...   \n",
       "\n",
       "                                                  product_id  \\\n",
       "user_id                                                        \n",
       "567069554  [1005115, 1005115, 1004249, 1004249, 1004250, ...   \n",
       "559077481  [4804660, 28721804, 28717827, 28703606, 287177...   \n",
       "513711707  [1005284, 1801766, 1801631, 1801631, 1801785, ...   \n",
       "523379089  [28719634, 28717035, 28715765, 28719086, 28714...   \n",
       "515367279  [13201323, 13201323, 13201315, 13201315, 10001...   \n",
       "\n",
       "                                                 category_id  \\\n",
       "user_id                                                        \n",
       "567069554  [2053013555631882655, 2053013555631882655, 205...   \n",
       "559077481  [2053013554658804075, 2053013565069067197, 205...   \n",
       "513711707  [2053013555631882655, 2053013554415534427, 205...   \n",
       "523379089  [2053013565069067197, 2053013565069067197, 205...   \n",
       "515367279  [2053013557192163841, 2053013557192163841, 205...   \n",
       "\n",
       "                                               category_code  \\\n",
       "user_id                                                        \n",
       "567069554  [electronics.smartphone, electronics.smartphon...   \n",
       "559077481  [electronics.audio.headphone, apparel.shoes.ke...   \n",
       "513711707  [electronics.smartphone, electronics.video.tv,...   \n",
       "523379089  [apparel.shoes.keds, apparel.shoes.keds, appar...   \n",
       "515367279  [furniture.bedroom.bed, furniture.bedroom.bed,...   \n",
       "\n",
       "                                                       brand  \\\n",
       "user_id                                                        \n",
       "567069554  [apple, apple, apple, apple, apple, apple, app...   \n",
       "559077481  [xiaomi, adidas, adidas, reebok, puma, reebok,...   \n",
       "513711707  [samsung, artel, artel, artel, lg, apacer, apa...   \n",
       "523379089  [fassen, strobbs, nexpero, fassen, nike, nike,...   \n",
       "515367279  [stendmebel, stendmebel, stendmebel, stendmebe...   \n",
       "\n",
       "                                                       price  \\\n",
       "user_id                                                        \n",
       "567069554  [915.08, 915.08, 739.79, 739.79, 814.56, 814.5...   \n",
       "559077481  [23.09, 102.71, 102.71, 118.15, 84.69, 118.15,...   \n",
       "513711707  [2562.49, 154.19, 334.11, 334.11, 447.63, 33.2...   \n",
       "523379089  [44.79, 48.39, 75.42, 44.79, 55.39, 55.39, 44....   \n",
       "515367279  [222.37, 222.37, 161.91, 161.91, 58.4, 95.79, ...   \n",
       "\n",
       "                                                user_session  \\\n",
       "user_id                                                        \n",
       "567069554  [629faf75-5107-41d6-9806-123eb20676f9, 629faf7...   \n",
       "559077481  [2fedbf73-0fcd-4c54-95b7-0fd85cb17d67, 2fedbf7...   \n",
       "513711707  [88c7c83c-e255-49ed-b707-f73c7d737e88, 2168a15...   \n",
       "523379089  [69cfd1b9-ea8a-4fb6-bc10-caae9928ad4c, 69cfd1b...   \n",
       "515367279  [873d5eff-3160-4633-bdbe-0c8c7d7f4cb1, 873d5ef...   \n",
       "\n",
       "                                                       h_lvl  \\\n",
       "user_id                                                        \n",
       "567069554  [electronics, electronics, electronics, electr...   \n",
       "559077481  [electronics, apparel, apparel, apparel, appar...   \n",
       "513711707  [electronics, electronics, electronics, electr...   \n",
       "523379089  [apparel, apparel, apparel, apparel, apparel, ...   \n",
       "515367279  [furniture, furniture, furniture, furniture, f...   \n",
       "\n",
       "                                                       l_lvl  ...  \\\n",
       "user_id                                                       ...   \n",
       "567069554  [smartphone, smartphone, smartphone, smartphon...  ...   \n",
       "559077481  [audio, shoes, shoes, shoes, shoes, shoes, sho...  ...   \n",
       "513711707  [smartphone, video, video, video, video, compo...  ...   \n",
       "523379089  [shoes, shoes, shoes, shoes, shoes, shoes, sho...  ...   \n",
       "515367279  [bedroom, bedroom, bedroom, bedroom, bedroom, ...  ...   \n",
       "\n",
       "                                             rml_category_id  \\\n",
       "user_id                                                        \n",
       "567069554  [2053013555631882655, 2053013555631882655, 205...   \n",
       "559077481  [2053013554658804075, 2053013565069067197, 205...   \n",
       "513711707  [2053013555631882655, 2053013554415534427, 205...   \n",
       "523379089  [2053013565069067197, 2053013565069067197, 205...   \n",
       "515367279  [2053013557192163841, 2053013557192163841, 205...   \n",
       "\n",
       "                                           rml_category_code  \\\n",
       "user_id                                                        \n",
       "567069554  [electronics.smartphone, electronics.smartphon...   \n",
       "559077481  [electronics.audio.headphone, apparel.shoes.ke...   \n",
       "513711707  [electronics.smartphone, electronics.video.tv,...   \n",
       "523379089  [apparel.shoes.keds, apparel.shoes.keds, appar...   \n",
       "515367279  [furniture.bedroom.bed, furniture.bedroom.bed,...   \n",
       "\n",
       "                                                   rml_brand  \\\n",
       "user_id                                                        \n",
       "567069554  [915.08, 915.08, 739.79, 739.79, 814.56, 814.5...   \n",
       "559077481  [23.09, 102.71, 102.71, 118.15, 84.69, 118.15,...   \n",
       "513711707  [2562.49, 154.19, 334.11, 334.11, 447.63, 33.2...   \n",
       "523379089  [44.79, 48.39, 75.42, 44.79, 55.39, 55.39, 44....   \n",
       "515367279  [222.37, 222.37, 161.91, 161.91, 58.4, 95.79, ...   \n",
       "\n",
       "                                            rml_user_session  \\\n",
       "user_id                                                        \n",
       "567069554  [629faf75-5107-41d6-9806-123eb20676f9, 629faf7...   \n",
       "559077481  [2fedbf73-0fcd-4c54-95b7-0fd85cb17d67, 2fedbf7...   \n",
       "513711707  [88c7c83c-e255-49ed-b707-f73c7d737e88, 2168a15...   \n",
       "523379089  [69cfd1b9-ea8a-4fb6-bc10-caae9928ad4c, 69cfd1b...   \n",
       "515367279  [873d5eff-3160-4633-bdbe-0c8c7d7f4cb1, 873d5ef...   \n",
       "\n",
       "                                                   rml_h_lvl  \\\n",
       "user_id                                                        \n",
       "567069554  [electronics, electronics, electronics, electr...   \n",
       "559077481  [electronics, apparel, apparel, apparel, appar...   \n",
       "513711707  [electronics, electronics, electronics, electr...   \n",
       "523379089  [apparel, apparel, apparel, apparel, apparel, ...   \n",
       "515367279  [furniture, furniture, furniture, furniture, f...   \n",
       "\n",
       "                                                   rml_l_lvl  \\\n",
       "user_id                                                        \n",
       "567069554  [smartphone, smartphone, smartphone, smartphon...   \n",
       "559077481  [audio, shoes, shoes, shoes, shoes, shoes, sho...   \n",
       "513711707  [smartphone, video, video, video, video, compo...   \n",
       "523379089  [shoes, shoes, shoes, shoes, shoes, shoes, sho...   \n",
       "515367279  [bedroom, bedroom, bedroom, bedroom, bedroom, ...   \n",
       "\n",
       "                                            rml_time_between  \\\n",
       "user_id                                                        \n",
       "567069554  [14.0, 30.0, 8.0, 11.0, 10.0, 10.0, 8.0, 6.0, ...   \n",
       "559077481  [129.0, 44.0, 22.0, 77.0, 23.0, 30.0, 137.0, 3...   \n",
       "513711707    [171121.0, 5863.0, 33.0, 294.0, 138645.0, 20.0]   \n",
       "523379089  [63.0, 22.0, 67.0, 97.0, 26.0, 29.0, 9.0, 35.0...   \n",
       "515367279  [20.0, 24.0, 328315.0, 1095684.0, 33.0, 29.0, ...   \n",
       "\n",
       "                                         h_lvl_id_new_labels next_h_lvl  \\\n",
       "user_id                                                                   \n",
       "567069554  [0, 0, 0, 0, 0, 0, 0, 0, 0, 0, 0, 0, 0, 0, 0, ...          0   \n",
       "559077481                  [0, 1, 1, 1, 1, 1, 1, 1, 1, 1, 1]          1   \n",
       "513711707                           [0, 0, 0, 0, 0, 2, 2, 0]          0   \n",
       "523379089   [1, 1, 1, 1, 1, 1, 1, 1, 1, 1, 1, 0, 0, 3, 3, 3]          3   \n",
       "515367279                  [4, 4, 4, 4, 4, 4, 4, 4, 4, 4, 4]          4   \n",
       "\n",
       "                                     rml_h_lvl_id_new_labels  \n",
       "user_id                                                       \n",
       "567069554  [0, 0, 0, 0, 0, 0, 0, 0, 0, 0, 0, 0, 0, 0, 0, ...  \n",
       "559077481                     [0, 1, 1, 1, 1, 1, 1, 1, 1, 1]  \n",
       "513711707                              [0, 0, 0, 0, 0, 2, 2]  \n",
       "523379089      [1, 1, 1, 1, 1, 1, 1, 1, 1, 1, 1, 0, 0, 3, 3]  \n",
       "515367279                     [4, 4, 4, 4, 4, 4, 4, 4, 4, 4]  \n",
       "\n",
       "[5 rows x 26 columns]"
      ]
     },
     "execution_count": 117,
     "metadata": {},
     "output_type": "execute_result"
    }
   ],
   "source": [
    "training_data.head()"
   ]
  },
  {
   "cell_type": "markdown",
   "metadata": {},
   "source": [
    "<b>Weighted walks provided more balanced training and testing scores. Weighted=False created slight underfitting.</b>"
   ]
  },
  {
   "cell_type": "code",
   "execution_count": 118,
   "metadata": {},
   "outputs": [
    {
     "name": "stdout",
     "output_type": "stream",
     "text": [
      "Number of random walks: 130\n"
     ]
    }
   ],
   "source": [
    "G = StellarGraph.from_networkx(G)\n",
    "rw = BiasedRandomWalk(G)\n",
    "\n",
    "walks = rw.run(\n",
    "    nodes=list(G.nodes()),  # root nodes\n",
    "    length=100,  # maximum length of a random walk\n",
    "    n=10,  # number of random walks per root node\n",
    "    p=0.5,  # Defines (unormalised) probability, 1/p, of returning to source node\n",
    "    q=2.0,  # Defines (unormalised) probability, 1/q, for moving away from source node\n",
    "    weighted=True,  # indicates the walks are weighted\n",
    "    seed=42  # seed fixed for reproducibility\n",
    ")\n",
    "print(\"Number of random walks: {}\".format(len(walks)))"
   ]
  },
  {
   "cell_type": "code",
   "execution_count": 119,
   "metadata": {},
   "outputs": [
    {
     "data": {
      "text/plain": [
       "(100,)"
      ]
     },
     "execution_count": 119,
     "metadata": {},
     "output_type": "execute_result"
    }
   ],
   "source": [
    "str_walks = [[str(n) for n in walk] for walk in walks]\n",
    "model = Word2Vec(str_walks)\n",
    "\n",
    "# The embedding vectors can be retrieved from model.wv using the node ID as key.\n",
    "model.wv[\"12\"].shape"
   ]
  },
  {
   "cell_type": "code",
   "execution_count": 120,
   "metadata": {},
   "outputs": [],
   "source": [
    "# Retrieve node embeddings and corresponding subjects\n",
    "node_ids = model.wv.index_to_key  # list of node IDs\n",
    "node_embeddings = (\n",
    "    model.wv.vectors\n",
    ")"
   ]
  },
  {
   "cell_type": "code",
   "execution_count": 121,
   "metadata": {},
   "outputs": [],
   "source": [
    "# Retrieve node embeddings and corresponding subjects\n",
    "node_ids = model.wv.index_to_key  # list of node IDs\n",
    "node_embeddings = (\n",
    "    model.wv.vectors\n",
    ")  # numpy.ndarray of size number of nodes times embeddings dimensionality\n",
    "# the gensim ordering may not match the StellarGraph one, so rearrange\n",
    "node_targets = G.nodes"
   ]
  },
  {
   "cell_type": "code",
   "execution_count": 122,
   "metadata": {},
   "outputs": [
    {
     "data": {
      "text/plain": [
       "13"
      ]
     },
     "execution_count": 122,
     "metadata": {},
     "output_type": "execute_result"
    }
   ],
   "source": [
    "len(node_embeddings)"
   ]
  },
  {
   "cell_type": "code",
   "execution_count": 123,
   "metadata": {},
   "outputs": [
    {
     "data": {
      "text/plain": [
       "array([-0.13862722,  0.09046573,  0.12637694,  0.0824123 ,  0.00568685,\n",
       "       -0.12697719,  0.1351505 ,  0.39290622, -0.26613393, -0.28391597,\n",
       "        0.11563054, -0.1550235 , -0.05522674, -0.07463357,  0.06784345,\n",
       "       -0.12004858,  0.16536303, -0.0355355 , -0.15420866, -0.48615178,\n",
       "       -0.10937128, -0.05889551,  0.43389273, -0.05077783, -0.09357399,\n",
       "        0.02117249, -0.1765107 ,  0.26357928, -0.1567845 ,  0.16205513,\n",
       "        0.14092825, -0.12920903,  0.09513952, -0.08413444, -0.08492308,\n",
       "        0.11246099,  0.07550357, -0.01309837, -0.11219599, -0.0258582 ,\n",
       "        0.08541229,  0.0104368 , -0.27654144,  0.0943004 ,  0.02959536,\n",
       "       -0.1352065 ,  0.06082956,  0.03483504, -0.05280661,  0.15227386,\n",
       "        0.08998896, -0.1707148 ,  0.01950506, -0.06427126, -0.17601345,\n",
       "       -0.18658619, -0.08410882, -0.09331952,  0.07642787, -0.04125725,\n",
       "       -0.08385718, -0.09998909,  0.41166136, -0.08779138, -0.29036778,\n",
       "        0.22166856,  0.09254262,  0.20328905, -0.37863377, -0.04306711,\n",
       "        0.08222694,  0.42492884,  0.13652186,  0.15988503,  0.01275893,\n",
       "        0.11179111,  0.04227451, -0.00965699, -0.09558833, -0.14878932,\n",
       "       -0.15328705,  0.00428883,  0.03534391,  0.18357998, -0.11340827,\n",
       "       -0.26789236,  0.11437888, -0.08326422,  0.08568855,  0.10889453,\n",
       "        0.03735363,  0.07199718,  0.02571113, -0.04486519,  0.48016346,\n",
       "       -0.00144444,  0.13672487, -0.1171919 ,  0.2158329 , -0.04916802],\n",
       "      dtype=float32)"
      ]
     },
     "execution_count": 123,
     "metadata": {},
     "output_type": "execute_result"
    }
   ],
   "source": [
    "node_embeddings[0]"
   ]
  },
  {
   "cell_type": "code",
   "execution_count": 124,
   "metadata": {},
   "outputs": [],
   "source": [
    "# Apply t-SNE transformation on node embeddings\n",
    "tsne = TSNE(n_components=2, random_state=42)\n",
    "node_embeddings_2d = tsne.fit_transform(node_embeddings)"
   ]
  },
  {
   "cell_type": "code",
   "execution_count": 125,
   "metadata": {},
   "outputs": [
    {
     "data": {
      "image/png": "[encoded data removed]",
      "text/plain": [
       "<Figure size 720x576 with 1 Axes>"
      ]
     },
     "metadata": {
      "needs_background": "light"
     },
     "output_type": "display_data"
    }
   ],
   "source": [
    "# draw the points\n",
    "alpha = 0.7\n",
    "\n",
    "plt.figure(figsize=(10, 8))\n",
    "plt.scatter(\n",
    "    node_embeddings_2d[:, 0],\n",
    "    node_embeddings_2d[:, 1],\n",
    "    cmap=\"jet\",\n",
    "    alpha=0.7,\n",
    ")\n",
    "plt.show()"
   ]
  },
  {
   "cell_type": "code",
   "execution_count": 126,
   "metadata": {},
   "outputs": [],
   "source": [
    "ex_df = pd.DataFrame({'col1':[1,1,1,1], 'col2':[2,2,2,2], 'col3':[3,3,3,3]})"
   ]
  },
  {
   "cell_type": "code",
   "execution_count": 127,
   "metadata": {},
   "outputs": [
    {
     "data": {
      "text/html": [
       "<div>\n",
       "<style scoped>\n",
       "    .dataframe tbody tr th:only-of-type {\n",
       "        vertical-align: middle;\n",
       "    }\n",
       "\n",
       "    .dataframe tbody tr th {\n",
       "        vertical-align: top;\n",
       "    }\n",
       "\n",
       "    .dataframe thead th {\n",
       "        text-align: right;\n",
       "    }\n",
       "</style>\n",
       "<table border=\"1\" class=\"dataframe\">\n",
       "  <thead>\n",
       "    <tr style=\"text-align: right;\">\n",
       "      <th></th>\n",
       "      <th>col1</th>\n",
       "      <th>col2</th>\n",
       "      <th>col3</th>\n",
       "    </tr>\n",
       "  </thead>\n",
       "  <tbody>\n",
       "    <tr>\n",
       "      <th>0</th>\n",
       "      <td>1</td>\n",
       "      <td>2</td>\n",
       "      <td>3</td>\n",
       "    </tr>\n",
       "    <tr>\n",
       "      <th>1</th>\n",
       "      <td>1</td>\n",
       "      <td>2</td>\n",
       "      <td>3</td>\n",
       "    </tr>\n",
       "    <tr>\n",
       "      <th>2</th>\n",
       "      <td>1</td>\n",
       "      <td>2</td>\n",
       "      <td>3</td>\n",
       "    </tr>\n",
       "    <tr>\n",
       "      <th>3</th>\n",
       "      <td>1</td>\n",
       "      <td>2</td>\n",
       "      <td>3</td>\n",
       "    </tr>\n",
       "  </tbody>\n",
       "</table>\n",
       "</div>"
      ],
      "text/plain": [
       "   col1  col2  col3\n",
       "0     1     2     3\n",
       "1     1     2     3\n",
       "2     1     2     3\n",
       "3     1     2     3"
      ]
     },
     "execution_count": 127,
     "metadata": {},
     "output_type": "execute_result"
    }
   ],
   "source": [
    "ex_df.head()"
   ]
  },
  {
   "cell_type": "code",
   "execution_count": 128,
   "metadata": {},
   "outputs": [
    {
     "data": {
      "text/plain": [
       "array([[1, 2, 3],\n",
       "       [1, 2, 3],\n",
       "       [1, 2, 3],\n",
       "       [1, 2, 3]], dtype=int64)"
      ]
     },
     "execution_count": 128,
     "metadata": {},
     "output_type": "execute_result"
    }
   ],
   "source": [
    "ex_df.to_numpy()"
   ]
  },
  {
   "cell_type": "code",
   "execution_count": 129,
   "metadata": {},
   "outputs": [
    {
     "data": {
      "text/plain": [
       "array([[-0.13862722,  0.09046573,  0.12637694],\n",
       "       [-0.14946161,  0.09611302,  0.12758557]], dtype=float32)"
      ]
     },
     "execution_count": 129,
     "metadata": {},
     "output_type": "execute_result"
    }
   ],
   "source": [
    "np.vstack((node_embeddings[0][0:3],node_embeddings[1][0:3]))"
   ]
  },
  {
   "cell_type": "code",
   "execution_count": 130,
   "metadata": {},
   "outputs": [],
   "source": [
    "# for i in xrange(10):\n",
    "#     c = np.vstack((c, np.random.randint(0, 10, 10)))\n",
    "\n"
   ]
  },
  {
   "cell_type": "code",
   "execution_count": 131,
   "metadata": {},
   "outputs": [
    {
     "data": {
      "text/plain": [
       "array([-0.13862722,  0.09046573,  0.12637694, -0.14946161,  0.09611302,\n",
       "        0.12758557], dtype=float32)"
      ]
     },
     "execution_count": 131,
     "metadata": {},
     "output_type": "execute_result"
    }
   ],
   "source": [
    "np.append(node_embeddings[0][0:3], node_embeddings[1][0:3])"
   ]
  },
  {
   "cell_type": "code",
   "execution_count": 132,
   "metadata": {},
   "outputs": [
    {
     "data": {
      "text/plain": [
       "8828"
      ]
     },
     "execution_count": 132,
     "metadata": {},
     "output_type": "execute_result"
    }
   ],
   "source": [
    "training_data['seq_num'].max()"
   ]
  },
  {
   "cell_type": "code",
   "execution_count": 133,
   "metadata": {},
   "outputs": [
    {
     "data": {
      "text/plain": [
       "7"
      ]
     },
     "execution_count": 133,
     "metadata": {},
     "output_type": "execute_result"
    }
   ],
   "source": [
    "training_data['seq_num'].min()"
   ]
  },
  {
   "cell_type": "code",
   "execution_count": 134,
   "metadata": {},
   "outputs": [
    {
     "data": {
      "text/plain": [
       "30.965038395281614"
      ]
     },
     "execution_count": 134,
     "metadata": {},
     "output_type": "execute_result"
    }
   ],
   "source": [
    "training_data['seq_num'].mean()"
   ]
  },
  {
   "cell_type": "code",
   "execution_count": 135,
   "metadata": {},
   "outputs": [
    {
     "data": {
      "text/plain": [
       "17.0"
      ]
     },
     "execution_count": 135,
     "metadata": {},
     "output_type": "execute_result"
    }
   ],
   "source": [
    "training_data['seq_num'].median()"
   ]
  },
  {
   "cell_type": "code",
   "execution_count": 136,
   "metadata": {},
   "outputs": [
    {
     "data": {
      "text/plain": [
       "<AxesSubplot:>"
      ]
     },
     "execution_count": 136,
     "metadata": {},
     "output_type": "execute_result"
    },
    {
     "data": {
      "image/png": "[encoded data removed]",
      "text/plain": [
       "<Figure size 432x288 with 1 Axes>"
      ]
     },
     "metadata": {
      "needs_background": "light"
     },
     "output_type": "display_data"
    }
   ],
   "source": [
    "training_data['seq_num'].hist()"
   ]
  },
  {
   "cell_type": "code",
   "execution_count": 137,
   "metadata": {},
   "outputs": [
    {
     "data": {
      "text/plain": [
       "Index(['event_time', 'event_type', 'product_id', 'category_id',\n",
       "       'category_code', 'brand', 'price', 'user_session', 'h_lvl', 'l_lvl',\n",
       "       'seq_num', 'time_between', 'next_event', 'next_time_between',\n",
       "       'rml_event_time', 'rml_event_type', 'rml_category_id',\n",
       "       'rml_category_code', 'rml_brand', 'rml_user_session', 'rml_h_lvl',\n",
       "       'rml_l_lvl', 'rml_time_between', 'h_lvl_id_new_labels', 'next_h_lvl',\n",
       "       'rml_h_lvl_id_new_labels'],\n",
       "      dtype='object')"
      ]
     },
     "execution_count": 137,
     "metadata": {},
     "output_type": "execute_result"
    }
   ],
   "source": [
    "training_data.columns"
   ]
  },
  {
   "cell_type": "code",
   "execution_count": 138,
   "metadata": {},
   "outputs": [
    {
     "data": {
      "text/plain": [
       "user_id\n",
       "567069554    0\n",
       "559077481    1\n",
       "513711707    0\n",
       "523379089    3\n",
       "515367279    4\n",
       "            ..\n",
       "537743713    0\n",
       "557942983    5\n",
       "523710672    0\n",
       "546149900    0\n",
       "513326433    0\n",
       "Name: next_h_lvl, Length: 171245, dtype: int64"
      ]
     },
     "execution_count": 138,
     "metadata": {},
     "output_type": "execute_result"
    }
   ],
   "source": [
    "training_data['next_h_lvl']"
   ]
  },
  {
   "cell_type": "code",
   "execution_count": 140,
   "metadata": {},
   "outputs": [],
   "source": [
    "cart_sample = training_data[training_data['next_event'] == 'cart']\n",
    "sample_min = cart_sample.shape[0]\n",
    "\n",
    "purchase_sample = training_data[training_data['next_event'] == 'purchase'].sample(sample_min)\n",
    "view_sample = training_data[training_data['next_event'] == 'view'].sample(sample_min)"
   ]
  },
  {
   "cell_type": "code",
   "execution_count": 142,
   "metadata": {},
   "outputs": [],
   "source": [
    "#now for validation data set\n",
    "val_cart_sample = validation_data[validation_data['next_event'] == 'cart']\n",
    "val_sample_min = val_cart_sample.shape[0]\n",
    "\n",
    "val_purchase_sample = validation_data[validation_data['next_event'] == 'purchase'].sample(val_sample_min)\n",
    "val_view_sample = validation_data[validation_data['next_event'] == 'view'].sample(val_sample_min)"
   ]
  },
  {
   "cell_type": "code",
   "execution_count": 143,
   "metadata": {},
   "outputs": [
    {
     "data": {
      "text/plain": [
       "6421"
      ]
     },
     "execution_count": 143,
     "metadata": {},
     "output_type": "execute_result"
    }
   ],
   "source": [
    "cart_sample.shape[0]"
   ]
  },
  {
   "cell_type": "code",
   "execution_count": 144,
   "metadata": {},
   "outputs": [],
   "source": [
    "model_sample = purchase_sample.append(cart_sample).append(view_sample).reset_index()\n",
    "validation_set = val_purchase_sample.append(val_cart_sample).append(val_view_sample).reset_index()"
   ]
  },
  {
   "cell_type": "code",
   "execution_count": 145,
   "metadata": {},
   "outputs": [
    {
     "data": {
      "text/plain": [
       "(19263, 27)"
      ]
     },
     "execution_count": 145,
     "metadata": {},
     "output_type": "execute_result"
    }
   ],
   "source": [
    "model_sample.shape"
   ]
  },
  {
   "cell_type": "code",
   "execution_count": 146,
   "metadata": {},
   "outputs": [],
   "source": [
    "y = model_sample['next_event']\n",
    "y_val = validation_set['next_event']"
   ]
  },
  {
   "cell_type": "code",
   "execution_count": 147,
   "metadata": {},
   "outputs": [],
   "source": [
    "# def sequence_lookback_embedding_concat(embedding_list, sequence, num_lookback):\n",
    "#     array = np.nan\n",
    "#     for i in range(1,num_lookback+1):\n",
    "#         if i == 1:\n",
    "#             array = embedding_list[sequence[-i]]\n",
    "#         else:\n",
    "#             array = np.append(array, embedding_list[sequence[-i]])\n",
    "#             print(i)\n",
    "#     return array\n",
    "\n",
    "\n",
    "# for i in range(len(model_sample)):\n",
    "#     if i == 0:\n",
    "#         array = node_embeddings[model_sample.iloc[i]['next_h_lvl']]\n",
    "#     else:\n",
    "#         array = np.vstack((array,node_embeddings[model_sample.iloc[i]['next_h_lvl']]))\n",
    "                          \n",
    "# X = pd.DataFrame(array)"
   ]
  },
  {
   "cell_type": "code",
   "execution_count": 148,
   "metadata": {},
   "outputs": [],
   "source": [
    "#Fix try except statement...it breaks when there are num_lookback beyond minimum (3)\n",
    "\n",
    "\n",
    "def sequence_lookback_embedding_concat(embedding_list, sequence, num_lookback):\n",
    "    array = np.nan\n",
    "    for i in range(1,num_lookback+1):\n",
    "        if i == 1:\n",
    "            array = embedding_list[sequence[-i]]\n",
    "        else:\n",
    "            try:\n",
    "                array = np.append(array, embedding_list[sequence[-i]])\n",
    "            except IndexError:\n",
    "                array = np.append(array, embedding_list[sequence[0]])\n",
    "    return array\n",
    "\n",
    "def multi_embedding_df(df, node_embeddings, sequence_col, num_lookback):\n",
    "    for i in range(len(df)):\n",
    "        if i == 0:\n",
    "            array = sequence_lookback_embedding_concat(node_embeddings, df.iloc[0][sequence_col], num_lookback)\n",
    "        else:\n",
    "            array = np.vstack((array, sequence_lookback_embedding_concat(node_embeddings, \n",
    "                                                                         df.iloc[i][sequence_col], num_lookback)))\n",
    "    return array"
   ]
  },
  {
   "cell_type": "code",
   "execution_count": 149,
   "metadata": {},
   "outputs": [
    {
     "data": {
      "text/plain": [
       "700"
      ]
     },
     "execution_count": 149,
     "metadata": {},
     "output_type": "execute_result"
    }
   ],
   "source": [
    "len(sequence_lookback_embedding_concat(node_embeddings, model_sample.iloc[0]['h_lvl_id_new_labels'], 7))"
   ]
  },
  {
   "cell_type": "code",
   "execution_count": 150,
   "metadata": {},
   "outputs": [],
   "source": [
    "X = multi_embedding_df(model_sample, node_embeddings, 'h_lvl_id_new_labels',7)\n",
    "X_val = multi_embedding_df(validation_set, node_embeddings, 'h_lvl_id_new_labels',7)  "
   ]
  },
  {
   "cell_type": "code",
   "execution_count": 151,
   "metadata": {},
   "outputs": [
    {
     "data": {
      "text/plain": [
       "19263"
      ]
     },
     "execution_count": 151,
     "metadata": {},
     "output_type": "execute_result"
    }
   ],
   "source": [
    "len(X)"
   ]
  },
  {
   "cell_type": "code",
   "execution_count": 152,
   "metadata": {},
   "outputs": [],
   "source": [
    "# vstacked_array = np.nan\n",
    "# for i in range(len(model_sample)):\n",
    "#     array = np.nan\n",
    "#     for j, k in enumerate(model_sample.iloc[i]['rml_event_type']):\n",
    "#         if j == 0:\n",
    "#             if j == 'view':\n",
    "#                 array = np.array([1,0,0])\n",
    "#             elif j == 'purchase':\n",
    "#                 array = np.array([0,1,0])\n",
    "#             else:\n",
    "#                 array = np.array([0,0,1])\n",
    "#         elif j != 0:\n",
    "#             if j == 'view':\n",
    "#                 array = np.append(array, np.array([1,0,0]))\n",
    "#             elif j == 'purchase':\n",
    "#                 array = np.append(array, np.array([0,1,0]))\n",
    "#             else:\n",
    "#                 array = np.append(array, np.array([0,0,1]))\n",
    "#     if i == 0:\n",
    "#         vstacked_array = array\n",
    "#     else:\n",
    "#         vstacked_array = np.vstack((vstacked_array, array)) "
   ]
  },
  {
   "cell_type": "code",
   "execution_count": 153,
   "metadata": {},
   "outputs": [],
   "source": [
    "def one_hot_sequence(df, column, num_lookback):\n",
    "    stacked_listy = []\n",
    "    for i in range(len(df)):\n",
    "        one_hot_listy = []\n",
    "        for j in range(1,num_lookback+1):\n",
    "            if df.iloc[i][column][-j] == 'view':\n",
    "                one_hot_listy.append(1)\n",
    "                one_hot_listy.append(0)\n",
    "                one_hot_listy.append(0)\n",
    "            elif df.iloc[i][column][-j] == 'purchase':\n",
    "                one_hot_listy.append(0)\n",
    "                one_hot_listy.append(1)\n",
    "                one_hot_listy.append(0)\n",
    "            elif df.iloc[i][column][-j] == 'cart':\n",
    "                one_hot_listy.append(0)\n",
    "                one_hot_listy.append(0)\n",
    "                one_hot_listy.append(1)\n",
    "        stacked_listy.append(one_hot_listy)\n",
    "\n",
    "    return stacked_listy"
   ]
  },
  {
   "cell_type": "code",
   "execution_count": 154,
   "metadata": {},
   "outputs": [],
   "source": [
    "X2 = one_hot_sequence(model_sample, 'rml_event_type', 6)\n",
    "X2_val = one_hot_sequence(validation_set, 'rml_event_type', 6)"
   ]
  },
  {
   "cell_type": "code",
   "execution_count": 155,
   "metadata": {},
   "outputs": [],
   "source": [
    "X3 = np.append(np.array(X), np.array(X2), axis=1)\n",
    "X3_val = np.append(np.array(X_val), np.array(X2_val), axis=1)"
   ]
  },
  {
   "cell_type": "code",
   "execution_count": 156,
   "metadata": {},
   "outputs": [
    {
     "data": {
      "text/plain": [
       "(19263, 718)"
      ]
     },
     "execution_count": 156,
     "metadata": {},
     "output_type": "execute_result"
    }
   ],
   "source": [
    "X3.shape"
   ]
  },
  {
   "cell_type": "code",
   "execution_count": 157,
   "metadata": {},
   "outputs": [
    {
     "data": {
      "text/plain": [
       "LinearSVC()"
      ]
     },
     "execution_count": 157,
     "metadata": {},
     "output_type": "execute_result"
    }
   ],
   "source": [
    "X_train, X_test, y_train, y_test = train_test_split(X3, y, test_size=0.2, random_state=42)\n",
    "\n",
    "lsvc = LinearSVC()\n",
    "lsvc.fit(X_train, y_train)"
   ]
  },
  {
   "cell_type": "code",
   "execution_count": 158,
   "metadata": {},
   "outputs": [
    {
     "data": {
      "text/plain": [
       "0.7438027255029201"
      ]
     },
     "execution_count": 158,
     "metadata": {},
     "output_type": "execute_result"
    }
   ],
   "source": [
    "lsvc.score(X_train, y_train)"
   ]
  },
  {
   "cell_type": "code",
   "execution_count": 159,
   "metadata": {},
   "outputs": [
    {
     "data": {
      "text/plain": [
       "0.7474695042823774"
      ]
     },
     "execution_count": 159,
     "metadata": {},
     "output_type": "execute_result"
    }
   ],
   "source": [
    "lsvc.score(X_test, y_test)"
   ]
  },
  {
   "cell_type": "code",
   "execution_count": 160,
   "metadata": {},
   "outputs": [],
   "source": [
    "pca = PCA(n_components=5)\n",
    "X_pca = pca.fit_transform(X3)"
   ]
  },
  {
   "cell_type": "code",
   "execution_count": 161,
   "metadata": {},
   "outputs": [
    {
     "data": {
      "text/plain": [
       "LinearSVC()"
      ]
     },
     "execution_count": 161,
     "metadata": {},
     "output_type": "execute_result"
    }
   ],
   "source": [
    "X_train_pca, X_test_pca, y_train_pca, y_test_pca = train_test_split(X_pca, y, test_size=0.2, random_state=42)\n",
    "\n",
    "lsvc_pca = LinearSVC()\n",
    "lsvc_pca.fit(X_train_pca, y_train_pca)"
   ]
  },
  {
   "cell_type": "code",
   "execution_count": 162,
   "metadata": {},
   "outputs": [
    {
     "data": {
      "text/plain": [
       "0.7256975989617132"
      ]
     },
     "execution_count": 162,
     "metadata": {},
     "output_type": "execute_result"
    }
   ],
   "source": [
    "lsvc_pca.score(X_train_pca, y_train)"
   ]
  },
  {
   "cell_type": "code",
   "execution_count": 163,
   "metadata": {},
   "outputs": [
    {
     "data": {
      "text/plain": [
       "0.7342330651440436"
      ]
     },
     "execution_count": 163,
     "metadata": {},
     "output_type": "execute_result"
    }
   ],
   "source": [
    "lsvc_pca.score(X_test_pca, y_test_pca)"
   ]
  },
  {
   "cell_type": "code",
   "execution_count": 164,
   "metadata": {},
   "outputs": [
    {
     "data": {
      "text/plain": [
       "0.7495781959766386"
      ]
     },
     "execution_count": 164,
     "metadata": {},
     "output_type": "execute_result"
    }
   ],
   "source": [
    "gbc = GradientBoostingClassifier(n_estimators=100, learning_rate=1.0, max_depth=1, random_state=0).fit(X_train, y_train)\n",
    "gbc.score(X_train, y_train)"
   ]
  },
  {
   "cell_type": "code",
   "execution_count": 165,
   "metadata": {},
   "outputs": [
    {
     "data": {
      "text/plain": [
       "0.7500648845055801"
      ]
     },
     "execution_count": 165,
     "metadata": {},
     "output_type": "execute_result"
    }
   ],
   "source": [
    "gbc.score(X_test, y_test)"
   ]
  },
  {
   "cell_type": "code",
   "execution_count": 166,
   "metadata": {},
   "outputs": [
    {
     "data": {
      "text/plain": [
       "0.7479558728098638"
      ]
     },
     "execution_count": 166,
     "metadata": {},
     "output_type": "execute_result"
    }
   ],
   "source": [
    "gbc_pca = GradientBoostingClassifier(n_estimators=100, learning_rate=1.0, max_depth=1, random_state=0) \\\n",
    ".fit(X_train_pca, y_train_pca)\n",
    "gbc_pca.score(X_train_pca, y_train_pca)"
   ]
  },
  {
   "cell_type": "code",
   "execution_count": 167,
   "metadata": {},
   "outputs": [
    {
     "data": {
      "text/plain": [
       "0.7524007267064625"
      ]
     },
     "execution_count": 167,
     "metadata": {},
     "output_type": "execute_result"
    }
   ],
   "source": [
    "gbc_pca.score(X_test_pca, y_test_pca)"
   ]
  },
  {
   "cell_type": "code",
   "execution_count": 168,
   "metadata": {},
   "outputs": [
    {
     "data": {
      "text/plain": [
       "0.7427849927849928"
      ]
     },
     "execution_count": 168,
     "metadata": {},
     "output_type": "execute_result"
    }
   ],
   "source": [
    "#validation set\n",
    "gbc.score(X3_val, y_val)"
   ]
  },
  {
   "cell_type": "code",
   "execution_count": 169,
   "metadata": {},
   "outputs": [
    {
     "name": "stdout",
     "output_type": "stream",
     "text": [
      "2021-07-05 22:24:59.977487\n",
      "1:48:24.898520\n"
     ]
    }
   ],
   "source": [
    "end = datetime.now()\n",
    "print(end)\n",
    "print(end-start)"
   ]
  }
 ],
 "metadata": {
  "kernelspec": {
   "display_name": "Python 3",
   "language": "python",
   "name": "python3"
  },
  "language_info": {
   "codemirror_mode": {
    "name": "ipython",
    "version": 3
   },
   "file_extension": ".py",
   "mimetype": "text/x-python",
   "name": "python",
   "nbconvert_exporter": "python",
   "pygments_lexer": "ipython3",
   "version": "3.8.5"
  }
 },
 "nbformat": 4,
 "nbformat_minor": 4
}
